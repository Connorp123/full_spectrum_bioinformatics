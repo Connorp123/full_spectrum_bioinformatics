{
 "cells": [
  {
   "cell_type": "markdown",
   "metadata": {},
   "source": [
    "## Applying for Grants\n",
    "\n",
    "If one wishes to pursue research in academia or non-profits, grant applications are likely to be an important - sometimes all consuming - portion of the job. There are many challenges in applying for grants, and many details to keep track of, but they also provide an amazing opportunity for you to lay out in detail your vision for the scientific project of your dreams, explain why that vision makes sense and is achievable, and to really dig in to exactly what kind of support you would need to make that vision a reality. In grant applications to the National Science Foundation, you also have opportunity and the duty to explain how your proposal will make a positive the impact to society (\"Broader Impacts\").\n",
    "\n",
    "\n",
    "\n",
    "\n"
   ]
  },
  {
   "cell_type": "markdown",
   "metadata": {},
   "source": [
    "## Coming up with an idea\n",
    "\n",
    "How does one find an idea for a grant in the first place? It helps greatly to be already doing some sort of research work, networking with fellow researchers, and reading the literature in your field. Assuming you're already doing all that, here are a few general formulas you might develop into grant ideas:\n",
    "\n",
    "- **Apply an exciting new technique from one field to another field**. Say you have read of an exciting new technique in another field of research, but it seems that no one is using it yet in your area of study. You might be able to develop a grant proposal that centers around taking this new technique and applying it to your system. You'll have to be careful to show that there is a clear hypothesis you can test with the new technique that wouldn't be possible otherwise, and that it is feasible that you will actually be able to implement the technique. This will be easiest if you are *either* an expert in the technique, or in the field of biology you are applying it to. This type of proposal naturally lends itself to collaborative work between an expert in a particular method, and an expert in a particular type of system. \n",
    "- **Propose a new solution to an obnoxious problem or limitation in your field**. Is there something in your field of research that shows up as a problem in many research papers? For example, do many people seem to claim that microorganisms and their hosts are coevolving, but not show any evidence that this is the case? If there is such a problem, and if you have a bright idea of how to fix it, that could provide value to many other researchers and be a great nucleus for a new grant. Be sure that you have some indication that your method will work (simulation, preliminary data, literature showing similar problems being solved in this way), that there is a clear way to assess how well you've solved the problem, and a clear scientific hypothesis you can test once you've solved the problem. \n",
    "- **Test the generality of an interesting finding**. Have you seen a weird or odd finding in your reading of the literature or your own research and wondered how widespread or general it is? You could write a grant centered around testing whether this finding is an isolated oddity, or something more general. Be sure you either have some preliminary data or literature citations suggesting the finding shows up in more than one system.\n",
    "- **Study the mechanism of an interesting phenomenon**. Often in science we notice something interesting before we understand *why* it happens. Many grants and manuscripts are structured around testing possible mechanisms for some phenomenon that is known to happen, but whose cause is not fully understood.\n",
    "- **Find a collaborator with synergystic interests**. Maybe you've met someone, and you both feel like you could combine your scientific approaches to do something really new. This can be an outstanding basis for a collaborative grant. Be sure each partner's roles and responsibilities are very clear in your grant documents.\n",
    "- **Collect a large-scale reference dataset, and use it to test unresolved hypotheses**. Some grants center around really large-scale data collection. Often these are large collaborations with many partners, designed to produce openly accessible data that will be of use to a whole scientific community. If pursuing this type of project, it can help to collect many letters of support from labs in your field to show buy-in from your community. It is also important to take great pains to make sure whatever data you collect will really be conveniently accessible to everyone. You will almost certainly need a small scale example showing you can collect the type of data that is the focus of the proposal. And most critically, you will need to show how collecting this new data resource will let you test specific, interesting hypotheses that could not otherwise be tested."
   ]
  },
  {
   "cell_type": "markdown",
   "metadata": {},
   "source": [
    "## Before you apply\n",
    "\n",
    "#### Get the small stuff done early. \n",
    "If there are small or bureaucratic pieces to your grant - and there almost always will be -  it's a very good idea to do those early on and upload them far ahead of when your submission is due. This is especially true for portions of the grant that are unlikely to need heavy editing based on changes to the main narrative. For example, if you need letters of support from collaborators, you may wish to ask for these very early on in the process. \n",
    "\n",
    "#### An example grant can be invaluable for formatting\n",
    "\n",
    "The format for grants can be one of the most intimidating parts. I found it completely essential to ask a colleague if they would share a copy of a successful grant. Our ideas and work were totally different, but I cannot overstate how useful it was to understand how the whole document was supposed to come together from all the individually required parts. \n",
    "\n",
    "## Getting Started\n",
    "\n",
    "\n",
    "#### Break the process into pieces\n",
    "\n",
    "It often takes quite a long time to write a grant, especially the first time around. If, like me, you are easily overwhelmed by a very complex task, my recommendation is to take an hour or so, and dedicate it only to writing out a list of what you need to do, broken down into the smallest pieces you possibly can.\n",
    "\n",
    "#### Schedule dedicated writing time \n",
    "\n",
    "To help get through the process, it can really help to pick a specific time of the week, at a specific place (\"Fridays at 11 at the cheap coffee shop\") that you dedicate to writing. It can help immensely to have a writing buddy. Even if you don't talk a lot, knowing someone is expecting you can help make sure that writing makes it to the top of the list. If you don't have a writing buddy, the research office at your university (if you are at a university) may be aware of other folks who are applying for grants and be able to put you in touch. This may be especially valuable at institutions that are more focused on teaching than research."
   ]
  },
  {
   "cell_type": "markdown",
   "metadata": {},
   "source": [
    "## The writing itself\n",
    "\n",
    "#### Putting your reader first.\n",
    "\n",
    "All writing is fundamentally communication, and all good writing keeps the reader in mind. It is therefore important to make sure your image of your readers is accurate. Let's do a little exercise that may improve communication in your grants. On a spare piece of paper, jot down what you think is going on when your grant is being read. Who is reading it? Where are they? What are they going to be looking for?\n",
    "\n",
    "When you first imagine someone reading your grant, you might picture an expert in your subfield, sitting at their desk and pondering your ideas. This might be your reader, but it rarely is.\n",
    "\n",
    "A more realistic image of an NSF grant panelist is a smart person from a vaguely-related field reading your grant frantically while on a bus to work or a flight to DC. Or while being interrupted frequently by small children or pets that need care. In addition to that, you should picture this person not only reading your paper in isolation, but rather sitting with a whole stack of grants, each with 15 pages of science and 75 pages of CVs, budgets, letters of support, and plans for the mentorship of postdocs and the management of data. \n",
    "\n",
    "Ultimately, one of your readers - the primary panelist for your grant - will have only 5 minutes to say why your grant is cool, summarize the intellectual merit and broader impacts of what you want to do, and to highlight the strengths and weakness of your overall approach. A second reader - your secondary panelist - will have an even shorter time to summarize all the external reviews of your grant by experts somewhat closer to your specialty. A third reader will be frantically typing up the ensuing conversation while trying to capture the key points.\n",
    "\n",
    "With this in mind, let's consider some suggestions for a successful NSF grant application  from members of an actual NSF IOS grant review panel that had just finished reviewing grants for the previous three days:\n",
    "\n",
    "\n",
    "- \"MAKE IT EASY FOR THE REVIEWERS - don't make me look stuff up or hunt for something\"\n",
    "- \"It seems so straightforward, but being as clear as possible and explicit as possible in any scientific communication immediately elevates any proposal.\"\n",
    "- \"Have a mock panel read it for you\"\n",
    "- \"Have one non-expert read it too\"\n",
    "- \"My best reviewed grants, I had my husband read and review--he is an attorney.  I always tell people that having people even outside science read them, can be really helpful--particularly in finding the holes.\"\n",
    "- \"The proposals I struggled to summarize were the ones that lacked clear writing and hypotheses. I would tell them to start with their hypotheses and build from there (acknowledging they have an appropriate for the system). I tell this to my students over and over.\"\n",
    "- \"Include broader impacts in the actual proposal\" (Broader Impacts are an essential part of National Science Foundation grants in which the proposer describes how the grant will have a positive impact on society).\n",
    "\n",
    "Of these 7 comments, 6 refer to the clarity, organization, and writing of the grant, 1 refers to including the required elements of the grant, and 0 referred to specific techniques or study systems. \n",
    "\n",
    "Does this perspective change how you view the challenge of writing a grant? For many grant writers it is a fundamental shift. You aren't trying to build walls that defend your work from a hostile attacker - you're doing something closer to hosting a large dinner. You're welcoming your guests to an event that - with any luck - is going to be amazing. You are arranging your space so that it is warm, well-organized and inviting. You are setting a table filled with tasty-looking things, and doing everything you can to make sure that they are not, in fact, poisonous. You are thinking about the needs of your guests. If someone needs a ride home, you have a plan for how to get them back. If a guest has a phobia about house fires, you make sure the fire extinguisher is visible, and they have a clear line of escape to the door.\n",
    "\n",
    "With this perspective in mind, let's consider some of the key goals that you will try to accomplish during the writing process.\n"
   ]
  },
  {
   "cell_type": "markdown",
   "metadata": {},
   "source": [
    "## Goal 1: convince your reader that this work is exciting\n",
    "\n",
    "Just like in a presentation, in a grant it is absolutely essential that within the first page of your proposal, your readers think your overall project is interesting and can clearly explain how it will move your field forward. Many successful grants have an overview image on the first or second page that diagrams the aims of the proposal and how they connect. Such images may even show how they relate to specific broader impacts of the grant.\n",
    "\n",
    "A really important part of how grant reviews at NSF work is that people who read your proposal will then have to defend and advocate for it in front of a panel. In a typical NSF panel, the primary reader of your proposal will have only 5 minutes to summarize what you're doing, why it's cool, and the strengths and weaknesses of the research to a panel. However, your 90 page proposal with 15 pages of scientific material won't be the only one they have to do this for - they might be asked to closely read 6-9 proposals out of 40 or so in a panel. Additionally, while some readers may be top-notch experts in your subfield, it is common for many of your panelists to be from diverse disciplines.\n",
    "\n",
    "That means that when writing your proposal, it's not good enough to convince your reader - you want to *recruit* them into being an advocate for your work, then *equip* and *train* them in how to clearly and compellingly explain the key strengths of your proposal to other people. Of course, you don't want to say that this is what you're doing, but it is a function of your proposal that should be at the top of your mind. If it helps, you might think of this a little bit like a scientific version of generating talking points in politics. \n",
    "\n",
    "\n",
    "## Goal 2:  show your reader that you can feasibly carry out the work\n",
    "\n",
    "\"Can they really do the work?\"\n",
    "\"How much time did they leave to finish Aim 3?\"\n",
    "\"Has this person ever done this kind of research before?\"\n",
    "\"The aims sound great but can they really get all this done in 3 years?\"\n",
    "\n",
    "These are some of the types of questions that might be asked of your grant proposal during a panel discussion. Such questions will be especially important when a grant proposes new work or new methods that are outside an investigators previous experience. Critically, for NSF grants, you must show the feasibility of both the research *and* Broader Impact portions of your proposal. So what can you do to give ammunition to those who want to defend your proposal? Here are some ways I've seen investigators demonstrate they can do a technique:\n",
    "\n",
    "- **Read the literature deeply** and see how people use the technique. Be careful to look for critiques of the method in the literature that occur in multiple papers - while there are some critiques and limitations of every method, frequently repeated critiques are likely to show up in the discussion. You may therefore wish to design your research in such a way as to show you are aware of and have considered these issues. \n",
    "\n",
    "- **Never use technical words or buzzwords you aren't 100% comfortable explaining in plain language**. This is often one of the biggest indicators of someone who is claiming expertise that they have not earned. It is good to use *appropriate* technical language for a given technique, but to do so you *must* be familiar enough with the ideas to be able to explain any technical terms to a non-expert in plain language. \n",
    "\n",
    "- **Use the technique in a collaborative paper and cite that in your grant**. One great way to hear up close and in person how true experts explain methods is to collaborate with them on a project where they use the method of choice. Even if you are working on other aspects of a project, this may give you lots of opportunities to ask them questions that will greatly accelerate your ability to learn the method.\n",
    "\n",
    "- **Collect preliminary data documenting your ability to use the technique on a small example similar to what you want to do in the grant**. If you can show that you've already used your the technique, it is a clear way for your panelists to justify why they think you can do the work. Indeed, while we like to think of getting a grant as the first step in a scientific project, realistically most projects are pushed forward at least a little bit before any funding is secured. \n",
    "\n",
    "- **Discuss your plans with an expert in the technique, and ask them to write a letter of support**. If you know someone who uses the technique heavily, you might ask them to read that section of your proposal. Listen carefully to their feedback, while being aware they might be much more gentle in person than with a written proposal from someone they don't know. Take their feedback seriously, and fix any issues you can based on it. If they seem excited to discuss the work more with you in the future, you might ask them write a letter of support for your grant. In your grant you can then state, \"The PI will consult with [expert name], an expert in the use of this technique, regarding any difficulties that may arise with this method.\"\n",
    "\n",
    "- **Include a plan and request funding to have personnel trained in the technique**. Sometimes the easist way out of a critique is also the least painful - one solution to not being expert in a technique is to ask for more money to train personnel (which might be you or other people on the grant) in the techique. Such funds might cover a visit to another lab to do the work (be sure they are willing to do this and will write you a letter), or to attend a workshop. Be sure to consult with the expert about how long of a stay would be needed to get up and running with the technique.\n",
    "\n",
    "- **State explicitly what you will do if the technique fails.** This shows that you the maturity to have considered the challenges in your work, and have planned for these enventualities. For example, you might say: \"If we are unable to generate knockout mutants, we will instead ...\". If there really is only one technique to get the data you need, that is a bit of a weakness. However, if the overall project could still be a success without that data,  that may be worth briefly mentioning. Many grant writers include a paragraph with a bolded title like \"Potential challenges and alternative Approaches\" for every major goal of their project."
   ]
  },
  {
   "cell_type": "markdown",
   "metadata": {},
   "source": [
    "## Exercises \n",
    "\n",
    "**Read 10 grant summaries in an area of interest**. Each funding agency will have a different place to look up information on previously awarded grants. \n",
    "\n",
    "- **National Science Foundation (NSF)** grants https://www.nsf.gov/awardsearch/. Just enter a search term to find grants on that topic (e.g. 'coral'). \n",
    "- **National Institute of Health (NIH)** grants (try e.g. 'microbiome' in search terms): [RePORT grant system](https://projectreporter.nih.gov/reporter.cfm).  \n",
    "- **Department of Energy (DOE)** grants: DOE [Portfolio Analysis and Management System (PAMS)](https://pamspublic.science.energy.gov/WebPAMSExternal/interface/awards/AwardSearchExternal.aspx)\n",
    "    \n",
    "    For each abstract, try to identify the type of grant, which division it was funded by, the main goal of the research, and the two or three main aims of the funded work. It may help to organize your findings into a table like this:\n",
    "\n",
    "| Grant Type  \t| Funder \t| Amount \t| Main Goal \t| Aim 1 \t| Aim 2 \t| Aim 3 \t|\n",
    "|-------------\t|--------\t|--------\t|-----------\t|-------\t|-------\t|-------\t|\n",
    "|             \t|        \t|        \t|           \t|       \t|       \t|       \t|\n",
    "|             \t|        \t|        \t|           \t|       \t|       \t|       \t|\n",
    "|             \t|        \t|        \t|           \t|       \t|       \t|       \t|\n",
    "|             \t|        \t|        \t|           \t|       \t|       \t|       \t|\n",
    "|             \t|        \t|        \t|           \t|       \t|       \t|       \t|\n",
    "\n",
    "\n",
    "Now try looking up some grants from a different funder. Do you notice differences in how they are formatted or the style of writing? \n",
    "\n",
    "**Look up a funding opportunity - which might be a grant or scholarship - appropriate for your current career stage.** Figure out when it is due, and list all the materials you would need to submit. Try designing a schedule for when you would finish each, leaving plenty of extra time for things that are not wholly under your control, such as letters of support or recommendation.\n",
    "\n",
    "**Sketch an idea for a grant** Write down one problem in your field that you think you could solve, or one new opportunity for research. Then, try to write down 3 aims or goals that together would let you achieve the research. Ideally, these goals will complement or build on each other, but not be so interdependant that aims 2 and 3 can't be attempted at all if aim 1 can't be achieved.\n",
    "\n",
    "\n",
    "**Write down the top 3 reasons your grant deserves to be funded**. Use only one sentence for each. Then, return to your main text, and try to make sure these are very clear from the text. \n",
    "\n",
    "**Sketch a diagram illustrating how the different aims or goals of your project will interact with each other.** It is often a very good idea to include this type of diagram somewhere on the very first page or two of your grant narrative. It allows readers to see your vision for the project, and reminds anyone who gets lost how the pieces fit together.\n",
    "\n",
    "**Have a reader present your proposal and its strengths and weaknesses** . Try sharing your draft with a reader, and instead of asking them if they liked it, ask them to explain the proposal and its strengths and weaknesses to someone else. Listen carefully to what excites them, what they mention, and what they omit. You can then follow up on those things. Sometimes other readers will be very excited by parts of your proposal that seemed obvious or only mildly neat to you. Other times they will entirely miss a whole chunk of the proposal that you thought was important, indicating that either you need to highlight it more or else that maybe it's not as exciting as you thought. However, it's worth noting that different people respond very differently to grant proposals based on their interests, background, and how closely they were able to read the proposal.\n",
    "\n",
    "\n"
   ]
  },
  {
   "cell_type": "markdown",
   "metadata": {},
   "source": [
    "## Reference and Further Reading:\n",
    "\n",
    "For National Science Foundation (NSF) grants:\n",
    "- [Official Guidelines for Grant Proposals](https://www.nsf.gov/pubs/policydocs/pappg20_1/index.jsp)\n",
    "- [Official Guide to merit review for NSF grants](https://www.nsf.gov/bfa/dias/policy/merit_review/)\n",
    "- [\"How to write a winning NSF proposal\"](https://www.unomaha.edu/college-of-information-science-and-technology/research/how-to-write-a-winning-nsf-proposal.pdf) from principalinvestigators.org\n",
    "- [Links with advice for NSF CAREER proposals](https://www.amherst.edu/offices/grants/prop_toolkit/develop_successful_proposal/nsf-career-tipsheet)\n",
    "\n",
    "\n",
    "For National Institute of Health (NIH) grants:\n",
    "- [Official NIH application guide](https://grants.nih.gov/grants/how-to-apply-application-guide/format-and-write/write-your-application.htm)\n",
    "- [Official description of the NIH grant review process](https://public.csr.nih.gov/ForApplicants/InitialReviewResultsAndAppeals/applicationduringafterreview#:~:text=Study%20sections%20convene%20for%201,overall%20impact%20scores%20to%20CSR.)"
   ]
  },
  {
   "cell_type": "code",
   "execution_count": null,
   "metadata": {},
   "outputs": [],
   "source": []
  }
 ],
 "metadata": {
  "kernelspec": {
   "display_name": "Python 3",
   "language": "python",
   "name": "python3"
  },
  "language_info": {
   "codemirror_mode": {
    "name": "ipython",
    "version": 3
   },
   "file_extension": ".py",
   "mimetype": "text/x-python",
   "name": "python",
   "nbconvert_exporter": "python",
   "pygments_lexer": "ipython3",
   "version": "3.6.11"
  }
 },
 "nbformat": 4,
 "nbformat_minor": 4
}
