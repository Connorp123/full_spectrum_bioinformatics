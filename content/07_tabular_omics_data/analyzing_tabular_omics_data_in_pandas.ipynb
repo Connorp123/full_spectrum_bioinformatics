{
 "cells": [
  {
   "cell_type": "markdown",
   "metadata": {},
   "source": [
    "## Analyzing Tabular Omics Data using Pandas DataFrames\n",
    "\n",
    "\n",
    "\n",
    "## Working With A Feature Table of Microbial Counts\n",
    "\n",
    "\n",
    "In this jupyter notebook we will do some basic graphing of a feature table of microbes by samples. We'll work with tabular data representing one of the microbiome change scenarios from the previous section. \n",
    "\n",
    "Here is the scenario in cartoon form:\n",
    "<img src=\"./resources/Scenario_1_specific_pathogen_w_table-01.png\" width=\"400\"  description=\"A cartoon of multicolored microbes in 6 healthy people or 6 people with a disease. The picture shows 12 boxes (one per person). In each box there are multiple microbes of different types. A table below will list the counts of microbes in each sample if you cannot view them here.\"> \n",
    "\n",
    "\n",
    "\n",
    "#### Checking that the raw data is present\n",
    "\n",
    "As a first step let's check that we have 'scenario1_otus.txt' in our current working directory. The listdir function in the builtin os module returns a list of all contents of a specified directory on your computer.\n",
    "\n",
    "It can be useful to run it prior to trying to open files if you need to remember filenames. In this case, the raw data we want to open is stored in the resources folder within the folder for this chapter. Let's import the listdir function and quickly check that our data is there..."
   ]
  },
  {
   "cell_type": "code",
   "execution_count": 101,
   "metadata": {},
   "outputs": [
    {
     "name": "stdout",
     "output_type": "stream",
     "text": [
      "Directory contents: ['.DS_Store', 'evenness.png', 'paleobiodb_dinosauria_occurences.csv', 'richness.png', 'richness_vs_eveness.png', 'scenario1_otus_pandas.txt', 'Scenario_1_specific_pathogen_no_table-01.png', 'Scenario_1_specific_pathogen_table_only.png', 'Scenario_1_specific_pathogen_w_table-01.png', 'Scenario_2_community_shift.ai', 'Scenario_2_community_shift_no_table-01.png', 'Scenario_3_microbial_overgrowth_no_table-01.png', 'Scenario_4_alpha_diversity_with_table_r2-01.png', 'Scenario_5_beta_diversity_no_table-01.png']\n"
     ]
    }
   ],
   "source": [
    "from os import listdir\n",
    "print(\"Directory contents:\",listdir(\"./resources/\"))"
   ]
  },
  {
   "cell_type": "markdown",
   "metadata": {},
   "source": [
    "Great. Now that we've seen that the data is available, let's load it into python using [pandas](https://pandas.pydata.org/pandas-docs/stable/getting_started/10min.html#min)!"
   ]
  },
  {
   "cell_type": "code",
   "execution_count": 102,
   "metadata": {},
   "outputs": [],
   "source": [
    "from pandas import read_csv\n",
    "\n",
    "#Load the text version of the table (a csv file) into python using pandas\n",
    "feature_table = read_csv(\"./resources/scenario1_otus_pandas.txt\",sep=\"\\t\")"
   ]
  },
  {
   "cell_type": "markdown",
   "metadata": {},
   "source": [
    "Once we've seen that the table loaded, let's work on figuring out how pandas is representing it inside python. We'll use the type() function to work out what type of object our feature table is:"
   ]
  },
  {
   "cell_type": "code",
   "execution_count": 103,
   "metadata": {},
   "outputs": [
    {
     "data": {
      "text/plain": [
       "pandas.core.frame.DataFrame"
      ]
     },
     "execution_count": 103,
     "metadata": {},
     "output_type": "execute_result"
    }
   ],
   "source": [
    "type(feature_table)"
   ]
  },
  {
   "cell_type": "markdown",
   "metadata": {},
   "source": [
    "It looks like our table of data has been loaded as a pandas DataFrame. DataFrame objects serve as a convenient and very powerful way to represent tabular data. They represent those data as a table with row and column labels. Subsets of the data along a row or column can be pulled out as pandas Series objects.\n",
    "\n",
    "To examine the feature table in a Jupyter notebook, we can simply type the name of the variable that holds it on it's own line:\n"
   ]
  },
  {
   "cell_type": "code",
   "execution_count": 104,
   "metadata": {},
   "outputs": [
    {
     "data": {
      "text/html": [
       "<div>\n",
       "<style scoped>\n",
       "    .dataframe tbody tr th:only-of-type {\n",
       "        vertical-align: middle;\n",
       "    }\n",
       "\n",
       "    .dataframe tbody tr th {\n",
       "        vertical-align: top;\n",
       "    }\n",
       "\n",
       "    .dataframe thead th {\n",
       "        text-align: right;\n",
       "    }\n",
       "</style>\n",
       "<table border=\"1\" class=\"dataframe\">\n",
       "  <thead>\n",
       "    <tr style=\"text-align: right;\">\n",
       "      <th></th>\n",
       "      <th>OTU_ID</th>\n",
       "      <th>patient1</th>\n",
       "      <th>patient2</th>\n",
       "      <th>patient3</th>\n",
       "      <th>patient4</th>\n",
       "      <th>patient5</th>\n",
       "      <th>patient6</th>\n",
       "      <th>patient7</th>\n",
       "      <th>patient8</th>\n",
       "      <th>patient9</th>\n",
       "      <th>patient10</th>\n",
       "      <th>patient11</th>\n",
       "      <th>patient12</th>\n",
       "    </tr>\n",
       "  </thead>\n",
       "  <tbody>\n",
       "    <tr>\n",
       "      <th>0</th>\n",
       "      <td>OTU1</td>\n",
       "      <td>3</td>\n",
       "      <td>4</td>\n",
       "      <td>2</td>\n",
       "      <td>2</td>\n",
       "      <td>0</td>\n",
       "      <td>4</td>\n",
       "      <td>4</td>\n",
       "      <td>4</td>\n",
       "      <td>0</td>\n",
       "      <td>3</td>\n",
       "      <td>2</td>\n",
       "      <td>2</td>\n",
       "    </tr>\n",
       "    <tr>\n",
       "      <th>1</th>\n",
       "      <td>OTU2</td>\n",
       "      <td>4</td>\n",
       "      <td>1</td>\n",
       "      <td>3</td>\n",
       "      <td>4</td>\n",
       "      <td>1</td>\n",
       "      <td>3</td>\n",
       "      <td>3</td>\n",
       "      <td>3</td>\n",
       "      <td>4</td>\n",
       "      <td>1</td>\n",
       "      <td>1</td>\n",
       "      <td>4</td>\n",
       "    </tr>\n",
       "    <tr>\n",
       "      <th>2</th>\n",
       "      <td>OTU3</td>\n",
       "      <td>1</td>\n",
       "      <td>4</td>\n",
       "      <td>2</td>\n",
       "      <td>1</td>\n",
       "      <td>4</td>\n",
       "      <td>2</td>\n",
       "      <td>2</td>\n",
       "      <td>2</td>\n",
       "      <td>1</td>\n",
       "      <td>4</td>\n",
       "      <td>4</td>\n",
       "      <td>1</td>\n",
       "    </tr>\n",
       "    <tr>\n",
       "      <th>3</th>\n",
       "      <td>OTU4</td>\n",
       "      <td>2</td>\n",
       "      <td>3</td>\n",
       "      <td>0</td>\n",
       "      <td>1</td>\n",
       "      <td>2</td>\n",
       "      <td>0</td>\n",
       "      <td>1</td>\n",
       "      <td>2</td>\n",
       "      <td>3</td>\n",
       "      <td>0</td>\n",
       "      <td>2</td>\n",
       "      <td>1</td>\n",
       "    </tr>\n",
       "    <tr>\n",
       "      <th>4</th>\n",
       "      <td>OTU5</td>\n",
       "      <td>0</td>\n",
       "      <td>0</td>\n",
       "      <td>0</td>\n",
       "      <td>0</td>\n",
       "      <td>0</td>\n",
       "      <td>0</td>\n",
       "      <td>1</td>\n",
       "      <td>4</td>\n",
       "      <td>2</td>\n",
       "      <td>2</td>\n",
       "      <td>3</td>\n",
       "      <td>4</td>\n",
       "    </tr>\n",
       "  </tbody>\n",
       "</table>\n",
       "</div>"
      ],
      "text/plain": [
       "  OTU_ID  patient1  patient2  patient3  patient4  patient5  patient6  \\\n",
       "0   OTU1         3         4         2         2         0         4   \n",
       "1   OTU2         4         1         3         4         1         3   \n",
       "2   OTU3         1         4         2         1         4         2   \n",
       "3   OTU4         2         3         0         1         2         0   \n",
       "4   OTU5         0         0         0         0         0         0   \n",
       "\n",
       "   patient7  patient8  patient9  patient10  patient11  patient12  \n",
       "0         4         4         0          3          2          2  \n",
       "1         3         3         4          1          1          4  \n",
       "2         2         2         1          4          4          1  \n",
       "3         1         2         3          0          2          1  \n",
       "4         1         4         2          2          3          4  "
      ]
     },
     "execution_count": 104,
     "metadata": {},
     "output_type": "execute_result"
    }
   ],
   "source": [
    "feature_table"
   ]
  },
  {
   "cell_type": "markdown",
   "metadata": {},
   "source": [
    "#### Setting the row labels\n",
    "\n",
    "An important feature of pandas DataFrames is their index column. This serves as a set of unique row labels for each row in your data. Because we didn't specify an index column when we loaded our data we have to set it manually. We can do so with the dataframe's set_index method."
   ]
  },
  {
   "cell_type": "code",
   "execution_count": 105,
   "metadata": {},
   "outputs": [],
   "source": [
    "#Use OTU ID column to label each row\n",
    "feature_table = feature_table.set_index('OTU_ID')"
   ]
  },
  {
   "cell_type": "markdown",
   "metadata": {},
   "source": [
    "If we view the dataframe again, we should notice that the left hand column of numbers has dissapeared, and our rows are now correctly labelled by microbe"
   ]
  },
  {
   "cell_type": "markdown",
   "metadata": {},
   "source": [
    "#### Accessing column data\n",
    "\n",
    "We might want to access the rows or columns of our pandas data directly so that we can do calculations. A nice tutorial on this can be found here: https://www.shanelynn.ie/select-pandas-dataframe-rows-and-columns-using-iloc-loc-and-ix/.\n",
    "\n",
    "In brief, we can select a column by indexing into the pandas DataFrame object using a column name. I currently have the OTUs as columns, so we could access them with feature_table[\"OTU1\"]"
   ]
  },
  {
   "cell_type": "code",
   "execution_count": 106,
   "metadata": {},
   "outputs": [
    {
     "name": "stdout",
     "output_type": "stream",
     "text": [
      "OTU_ID\n",
      "OTU1    3\n",
      "OTU2    4\n",
      "OTU3    1\n",
      "OTU4    2\n",
      "OTU5    0\n",
      "Name: patient1, dtype: int64\n"
     ]
    }
   ],
   "source": [
    "#Access a column \n",
    "print(feature_table[\"patient1\"])"
   ]
  },
  {
   "cell_type": "markdown",
   "metadata": {},
   "source": [
    "However, this way of selecting columns in pandas is a bit special-purpose - it doesn't always extend in the simplest way to rows for example.\n",
    "\n",
    "#### A consistent way to access row or column data in pandas\n",
    "\n",
    "An alternative way to index into a pandas DataFrame is by using the .loc indexer (accessed by the name of your dataframe and then .loc)\n",
    "\n",
    "Note that this is not called like a function (so not 'df.loc('whatever')'), but more a way of indexing (closer to how you would call it if loc were a dict that was a property of the dataframe).\n",
    "\n",
    "When using .loc, we specify what rows we want, then what columns we want. We can use the colon character to indicate 'all'. In this way we can do row and column selection using exactly the same syntax, which is nice for those of us who don't like to remember too many things.\n",
    "\n",
    "(More info on this here: https://brohrer.github.io/dataframe_indexing.html)\n",
    "\n",
    "#### Select a column using .loc\n",
    "\n",
    "Here's how we can use the DataFrame loc property to select a column by name:"
   ]
  },
  {
   "cell_type": "code",
   "execution_count": 107,
   "metadata": {},
   "outputs": [
    {
     "name": "stdout",
     "output_type": "stream",
     "text": [
      "Select all of the OTU1 column:\n",
      "patient1     1\n",
      "patient2     1\n",
      "patient3     1\n",
      "patient4     1\n",
      "patient5     0\n",
      "patient6     1\n",
      "patient7     1\n",
      "patient8     1\n",
      "patient9     0\n",
      "patient10    1\n",
      "patient11    1\n",
      "patient12    1\n",
      "Name: OTU1, dtype: int64\n"
     ]
    }
   ],
   "source": [
    "#Recall that : means all, and we specify rows,columns when using .loc\n",
    "print(\"Select all of the OTU1 column:\")\n",
    "selected_column = feature_table_transposed.loc[:,'OTU1']\n",
    "print(selected_column)"
   ]
  },
  {
   "cell_type": "markdown",
   "metadata": {},
   "source": [
    "Cool! So we see that we now get the count of microbe 1 ('OTU1') in each patient's sample. However, this data type looks kinda funky. That's because it is a pandas Series object. It therefore doesn't print in the same way as either a pandas DataFrame or a python list. We'll talk more about that in a minute. For now, let's continue to explore how to select data using .loc.\n",
    "\n",
    "#### Select a row from a pandas DataFrame with .loc\n"
   ]
  },
  {
   "cell_type": "code",
   "execution_count": 108,
   "metadata": {},
   "outputs": [
    {
     "name": "stdout",
     "output_type": "stream",
     "text": [
      "\n",
      "Select the patient1 row:\n",
      "OTU_ID\n",
      "OTU1    1\n",
      "OTU2    1\n",
      "OTU3    1\n",
      "OTU4    1\n",
      "OTU5    0\n",
      "Name: patient1, dtype: int64\n"
     ]
    }
   ],
   "source": [
    "print(\"\\nSelect the patient1 row:\")\n",
    "selected_row = feature_table_transposed.loc['patient1',:]\n",
    "print(selected_row)\n",
    "\n"
   ]
  },
  {
   "cell_type": "markdown",
   "metadata": {},
   "source": [
    "#### Select a single entry in our table using .loc by specifying the row and column names\n",
    "\n",
    "We can combine these types of indices to access the value of a single cell"
   ]
  },
  {
   "cell_type": "code",
   "execution_count": 109,
   "metadata": {},
   "outputs": [
    {
     "name": "stdout",
     "output_type": "stream",
     "text": [
      "\n",
      "Select one cell by specifying row and column:\n",
      "1\n"
     ]
    }
   ],
   "source": [
    "print(\"\\nSelect one cell by specifying row and column:\")\n",
    "selected_row_and_column = feature_table_transposed.loc['patient1','OTU1']\n",
    "print(selected_row_and_column)"
   ]
  },
  {
   "cell_type": "markdown",
   "metadata": {},
   "source": [
    "#### Testing what we get back when we select a pandas column or row.\n",
    "\n",
    "We said up above that these pandas Series objects we got back from selecting row or columns of a dataframe don't look quite like either lists or DataFrames. In this case we know the result is a Series, but in cases like this where we don't already know the type of an object we can use the builtin type() function to check the type of any object in python. "
   ]
  },
  {
   "cell_type": "code",
   "execution_count": 110,
   "metadata": {},
   "outputs": [
    {
     "name": "stdout",
     "output_type": "stream",
     "text": [
      "\n",
      "feature_table['OTU1'] is an object of type: <class 'pandas.core.series.Series'>\n"
     ]
    }
   ],
   "source": [
    "selected_column = feature_table_transposed.loc[:,'OTU1']\n",
    "selected_column_type = type(selected_column)\n",
    "\n",
    "#WHAT IS THIS? Print the answer to screen\n",
    "print(\"\\nfeature_table['OTU1'] is an object of type:\", selected_column_type)"
   ]
  },
  {
   "cell_type": "markdown",
   "metadata": {},
   "source": [
    "Great, so we've now proven to ourselves that this is a pandas Series object. We can now do some Googling to find out more about this data type. One great resource is from the Beyond Data Science blog: https://towardsdatascience.com/pandas-series-a-lightweight-intro-b7963a0d62a2. \n",
    "\n",
    "One of the first tasks we might have is to convert this Series back into a basic python type like a list. \n",
    "\n",
    "#### Getting a list out of a pandas Series object\n",
    "\n",
    "Let's say we don't want to work with the data as a series, but instead to convert it to a list. We can do that using the builtin list() function.\n",
    "        "
   ]
  },
  {
   "cell_type": "code",
   "execution_count": 111,
   "metadata": {},
   "outputs": [
    {
     "name": "stdout",
     "output_type": "stream",
     "text": [
      "[1, 1, 1, 1, 0, 1, 1, 1, 0, 1, 1, 1]\n"
     ]
    }
   ],
   "source": [
    "OTU1_data = list(feature_table_transposed.loc[:,\"OTU1\"])\n",
    "print(OTU1_data)"
   ]
  },
  {
   "cell_type": "markdown",
   "metadata": {},
   "source": [
    "#### Getting a numpy array object out of a pandas Series object\n",
    "\n",
    "an alternative way of getting numeric data out of a pandas Series object is by calling its .values property, which returns a numpy array of the data.\n",
    "\n",
    "NOTE: values is a *property* (data stored in the object) not a *method* (function associated with the object. The main reason this matters is because if you call .values() with parentheses by accident, you will get an error"
   ]
  },
  {
   "cell_type": "code",
   "execution_count": 112,
   "metadata": {},
   "outputs": [
    {
     "name": "stdout",
     "output_type": "stream",
     "text": [
      "Data as a numpy array: [1 1 1 1 0 1 1 1 0 1 1 1]\n"
     ]
    }
   ],
   "source": [
    "OTU1_data_as_array = feature_table_transposed.loc[:,\"OTU1\"].values\n",
    "print(\"Data as a numpy array:\",OTU1_data_as_array)"
   ]
  },
  {
   "cell_type": "markdown",
   "metadata": {},
   "source": [
    "#### Filter rows of a pandas dataframe by column values\n",
    "\n",
    "Let's say we want just the patients *without* OTU5 or *without* OTU4. In that case we can use a condition within our .loc selection. A vertical bar | should be read as 'or'. "
   ]
  },
  {
   "cell_type": "code",
   "execution_count": 113,
   "metadata": {},
   "outputs": [
    {
     "data": {
      "text/html": [
       "<div>\n",
       "<style scoped>\n",
       "    .dataframe tbody tr th:only-of-type {\n",
       "        vertical-align: middle;\n",
       "    }\n",
       "\n",
       "    .dataframe tbody tr th {\n",
       "        vertical-align: top;\n",
       "    }\n",
       "\n",
       "    .dataframe thead th {\n",
       "        text-align: right;\n",
       "    }\n",
       "</style>\n",
       "<table border=\"1\" class=\"dataframe\">\n",
       "  <thead>\n",
       "    <tr style=\"text-align: right;\">\n",
       "      <th></th>\n",
       "      <th>patient1</th>\n",
       "      <th>patient2</th>\n",
       "      <th>patient3</th>\n",
       "      <th>patient4</th>\n",
       "      <th>patient5</th>\n",
       "      <th>patient6</th>\n",
       "      <th>patient10</th>\n",
       "    </tr>\n",
       "    <tr>\n",
       "      <th>OTU_ID</th>\n",
       "      <th></th>\n",
       "      <th></th>\n",
       "      <th></th>\n",
       "      <th></th>\n",
       "      <th></th>\n",
       "      <th></th>\n",
       "      <th></th>\n",
       "    </tr>\n",
       "  </thead>\n",
       "  <tbody>\n",
       "    <tr>\n",
       "      <th>OTU1</th>\n",
       "      <td>3</td>\n",
       "      <td>4</td>\n",
       "      <td>2</td>\n",
       "      <td>2</td>\n",
       "      <td>0</td>\n",
       "      <td>4</td>\n",
       "      <td>3</td>\n",
       "    </tr>\n",
       "    <tr>\n",
       "      <th>OTU2</th>\n",
       "      <td>4</td>\n",
       "      <td>1</td>\n",
       "      <td>3</td>\n",
       "      <td>4</td>\n",
       "      <td>1</td>\n",
       "      <td>3</td>\n",
       "      <td>1</td>\n",
       "    </tr>\n",
       "    <tr>\n",
       "      <th>OTU3</th>\n",
       "      <td>1</td>\n",
       "      <td>4</td>\n",
       "      <td>2</td>\n",
       "      <td>1</td>\n",
       "      <td>4</td>\n",
       "      <td>2</td>\n",
       "      <td>4</td>\n",
       "    </tr>\n",
       "    <tr>\n",
       "      <th>OTU4</th>\n",
       "      <td>2</td>\n",
       "      <td>3</td>\n",
       "      <td>0</td>\n",
       "      <td>1</td>\n",
       "      <td>2</td>\n",
       "      <td>0</td>\n",
       "      <td>0</td>\n",
       "    </tr>\n",
       "    <tr>\n",
       "      <th>OTU5</th>\n",
       "      <td>0</td>\n",
       "      <td>0</td>\n",
       "      <td>0</td>\n",
       "      <td>0</td>\n",
       "      <td>0</td>\n",
       "      <td>0</td>\n",
       "      <td>2</td>\n",
       "    </tr>\n",
       "  </tbody>\n",
       "</table>\n",
       "</div>"
      ],
      "text/plain": [
       "        patient1  patient2  patient3  patient4  patient5  patient6  patient10\n",
       "OTU_ID                                                                       \n",
       "OTU1           3         4         2         2         0         4          3\n",
       "OTU2           4         1         3         4         1         3          1\n",
       "OTU3           1         4         2         1         4         2          4\n",
       "OTU4           2         3         0         1         2         0          0\n",
       "OTU5           0         0         0         0         0         0          2"
      ]
     },
     "execution_count": 113,
     "metadata": {},
     "output_type": "execute_result"
    }
   ],
   "source": [
    "columns_to_grab = (feature_table.loc['OTU5',:] == 0) | (feature_table.loc['OTU4',:] == 0)\n",
    "\n",
    "feature_table.loc[:,columns_to_grab]"
   ]
  },
  {
   "cell_type": "markdown",
   "metadata": {},
   "source": [
    "#### Rendering DataFrames as HTML\n",
    "\n",
    "In a Jupyter Notebook, DataFrames can be rendered simpy by typing the variable name holding them on it's own line. However, if working outside of Jupyter notebooks it can be useful to know how to generate HTML versions of these tables where needed. This is shown below:"
   ]
  },
  {
   "cell_type": "code",
   "execution_count": 114,
   "metadata": {},
   "outputs": [
    {
     "data": {
      "text/html": [
       "<table border=\"1\" class=\"dataframe\">\n",
       "  <thead>\n",
       "    <tr style=\"text-align: right;\">\n",
       "      <th></th>\n",
       "      <th>patient1</th>\n",
       "      <th>patient2</th>\n",
       "      <th>patient3</th>\n",
       "      <th>patient4</th>\n",
       "      <th>patient5</th>\n",
       "      <th>patient6</th>\n",
       "      <th>patient7</th>\n",
       "      <th>patient8</th>\n",
       "      <th>patient9</th>\n",
       "      <th>patient10</th>\n",
       "      <th>patient11</th>\n",
       "      <th>patient12</th>\n",
       "    </tr>\n",
       "    <tr>\n",
       "      <th>OTU_ID</th>\n",
       "      <th></th>\n",
       "      <th></th>\n",
       "      <th></th>\n",
       "      <th></th>\n",
       "      <th></th>\n",
       "      <th></th>\n",
       "      <th></th>\n",
       "      <th></th>\n",
       "      <th></th>\n",
       "      <th></th>\n",
       "      <th></th>\n",
       "      <th></th>\n",
       "    </tr>\n",
       "  </thead>\n",
       "  <tbody>\n",
       "    <tr>\n",
       "      <th>OTU1</th>\n",
       "      <td>3</td>\n",
       "      <td>4</td>\n",
       "      <td>2</td>\n",
       "      <td>2</td>\n",
       "      <td>0</td>\n",
       "      <td>4</td>\n",
       "      <td>4</td>\n",
       "      <td>4</td>\n",
       "      <td>0</td>\n",
       "      <td>3</td>\n",
       "      <td>2</td>\n",
       "      <td>2</td>\n",
       "    </tr>\n",
       "    <tr>\n",
       "      <th>OTU2</th>\n",
       "      <td>4</td>\n",
       "      <td>1</td>\n",
       "      <td>3</td>\n",
       "      <td>4</td>\n",
       "      <td>1</td>\n",
       "      <td>3</td>\n",
       "      <td>3</td>\n",
       "      <td>3</td>\n",
       "      <td>4</td>\n",
       "      <td>1</td>\n",
       "      <td>1</td>\n",
       "      <td>4</td>\n",
       "    </tr>\n",
       "    <tr>\n",
       "      <th>OTU3</th>\n",
       "      <td>1</td>\n",
       "      <td>4</td>\n",
       "      <td>2</td>\n",
       "      <td>1</td>\n",
       "      <td>4</td>\n",
       "      <td>2</td>\n",
       "      <td>2</td>\n",
       "      <td>2</td>\n",
       "      <td>1</td>\n",
       "      <td>4</td>\n",
       "      <td>4</td>\n",
       "      <td>1</td>\n",
       "    </tr>\n",
       "    <tr>\n",
       "      <th>OTU4</th>\n",
       "      <td>2</td>\n",
       "      <td>3</td>\n",
       "      <td>0</td>\n",
       "      <td>1</td>\n",
       "      <td>2</td>\n",
       "      <td>0</td>\n",
       "      <td>1</td>\n",
       "      <td>2</td>\n",
       "      <td>3</td>\n",
       "      <td>0</td>\n",
       "      <td>2</td>\n",
       "      <td>1</td>\n",
       "    </tr>\n",
       "    <tr>\n",
       "      <th>OTU5</th>\n",
       "      <td>0</td>\n",
       "      <td>0</td>\n",
       "      <td>0</td>\n",
       "      <td>0</td>\n",
       "      <td>0</td>\n",
       "      <td>0</td>\n",
       "      <td>1</td>\n",
       "      <td>4</td>\n",
       "      <td>2</td>\n",
       "      <td>2</td>\n",
       "      <td>3</td>\n",
       "      <td>4</td>\n",
       "    </tr>\n",
       "  </tbody>\n",
       "</table>"
      ],
      "text/plain": [
       "<IPython.core.display.HTML object>"
      ]
     },
     "execution_count": 114,
     "metadata": {},
     "output_type": "execute_result"
    }
   ],
   "source": [
    "#Converting it to HTML to show it\n",
    "feature_table_to_show = feature_table.to_html()\n",
    "\n",
    "#Show the HTML\n",
    "from IPython.display import HTML\n",
    "feature_table_as_html = HTML(feature_table_to_show)\n",
    "feature_table_as_html"
   ]
  },
  {
   "cell_type": "markdown",
   "metadata": {},
   "source": [
    "## Styling Pandas dataframes \n",
    "\n",
    "Pandas dataframes can be [styled](https://pandas.pydata.org/pandas-docs/stable/user_guide/style.html) in several ways to highlight values of interest. We can use this styling to provide a quick heatmap-like coloring to a pandas table:"
   ]
  },
  {
   "cell_type": "code",
   "execution_count": 115,
   "metadata": {},
   "outputs": [
    {
     "data": {
      "text/html": [
       "<style  type=\"text/css\" >\n",
       "    #T_8c1f9266_9bb5_11ea_8c53_4c3275908149row0_col0 {\n",
       "            background-color:  #2070b4;\n",
       "            color:  #f1f1f1;\n",
       "        }    #T_8c1f9266_9bb5_11ea_8c53_4c3275908149row0_col1 {\n",
       "            background-color:  #08306b;\n",
       "            color:  #f1f1f1;\n",
       "        }    #T_8c1f9266_9bb5_11ea_8c53_4c3275908149row0_col2 {\n",
       "            background-color:  #3787c0;\n",
       "            color:  #000000;\n",
       "        }    #T_8c1f9266_9bb5_11ea_8c53_4c3275908149row0_col3 {\n",
       "            background-color:  #6aaed6;\n",
       "            color:  #000000;\n",
       "        }    #T_8c1f9266_9bb5_11ea_8c53_4c3275908149row0_col4 {\n",
       "            background-color:  #f7fbff;\n",
       "            color:  #000000;\n",
       "        }    #T_8c1f9266_9bb5_11ea_8c53_4c3275908149row0_col5 {\n",
       "            background-color:  #08306b;\n",
       "            color:  #f1f1f1;\n",
       "        }    #T_8c1f9266_9bb5_11ea_8c53_4c3275908149row0_col6 {\n",
       "            background-color:  #08306b;\n",
       "            color:  #f1f1f1;\n",
       "        }    #T_8c1f9266_9bb5_11ea_8c53_4c3275908149row0_col7 {\n",
       "            background-color:  #08306b;\n",
       "            color:  #f1f1f1;\n",
       "        }    #T_8c1f9266_9bb5_11ea_8c53_4c3275908149row0_col8 {\n",
       "            background-color:  #f7fbff;\n",
       "            color:  #000000;\n",
       "        }    #T_8c1f9266_9bb5_11ea_8c53_4c3275908149row0_col9 {\n",
       "            background-color:  #2070b4;\n",
       "            color:  #f1f1f1;\n",
       "        }    #T_8c1f9266_9bb5_11ea_8c53_4c3275908149row0_col10 {\n",
       "            background-color:  #abd0e6;\n",
       "            color:  #000000;\n",
       "        }    #T_8c1f9266_9bb5_11ea_8c53_4c3275908149row0_col11 {\n",
       "            background-color:  #abd0e6;\n",
       "            color:  #000000;\n",
       "        }    #T_8c1f9266_9bb5_11ea_8c53_4c3275908149row1_col0 {\n",
       "            background-color:  #08306b;\n",
       "            color:  #f1f1f1;\n",
       "        }    #T_8c1f9266_9bb5_11ea_8c53_4c3275908149row1_col1 {\n",
       "            background-color:  #c6dbef;\n",
       "            color:  #000000;\n",
       "        }    #T_8c1f9266_9bb5_11ea_8c53_4c3275908149row1_col2 {\n",
       "            background-color:  #08306b;\n",
       "            color:  #f1f1f1;\n",
       "        }    #T_8c1f9266_9bb5_11ea_8c53_4c3275908149row1_col3 {\n",
       "            background-color:  #08306b;\n",
       "            color:  #f1f1f1;\n",
       "        }    #T_8c1f9266_9bb5_11ea_8c53_4c3275908149row1_col4 {\n",
       "            background-color:  #c6dbef;\n",
       "            color:  #000000;\n",
       "        }    #T_8c1f9266_9bb5_11ea_8c53_4c3275908149row1_col5 {\n",
       "            background-color:  #2070b4;\n",
       "            color:  #f1f1f1;\n",
       "        }    #T_8c1f9266_9bb5_11ea_8c53_4c3275908149row1_col6 {\n",
       "            background-color:  #3787c0;\n",
       "            color:  #000000;\n",
       "        }    #T_8c1f9266_9bb5_11ea_8c53_4c3275908149row1_col7 {\n",
       "            background-color:  #6aaed6;\n",
       "            color:  #000000;\n",
       "        }    #T_8c1f9266_9bb5_11ea_8c53_4c3275908149row1_col8 {\n",
       "            background-color:  #08306b;\n",
       "            color:  #f1f1f1;\n",
       "        }    #T_8c1f9266_9bb5_11ea_8c53_4c3275908149row1_col9 {\n",
       "            background-color:  #c6dbef;\n",
       "            color:  #000000;\n",
       "        }    #T_8c1f9266_9bb5_11ea_8c53_4c3275908149row1_col10 {\n",
       "            background-color:  #f7fbff;\n",
       "            color:  #000000;\n",
       "        }    #T_8c1f9266_9bb5_11ea_8c53_4c3275908149row1_col11 {\n",
       "            background-color:  #08306b;\n",
       "            color:  #f1f1f1;\n",
       "        }    #T_8c1f9266_9bb5_11ea_8c53_4c3275908149row2_col0 {\n",
       "            background-color:  #c6dbef;\n",
       "            color:  #000000;\n",
       "        }    #T_8c1f9266_9bb5_11ea_8c53_4c3275908149row2_col1 {\n",
       "            background-color:  #08306b;\n",
       "            color:  #f1f1f1;\n",
       "        }    #T_8c1f9266_9bb5_11ea_8c53_4c3275908149row2_col2 {\n",
       "            background-color:  #3787c0;\n",
       "            color:  #000000;\n",
       "        }    #T_8c1f9266_9bb5_11ea_8c53_4c3275908149row2_col3 {\n",
       "            background-color:  #c6dbef;\n",
       "            color:  #000000;\n",
       "        }    #T_8c1f9266_9bb5_11ea_8c53_4c3275908149row2_col4 {\n",
       "            background-color:  #08306b;\n",
       "            color:  #f1f1f1;\n",
       "        }    #T_8c1f9266_9bb5_11ea_8c53_4c3275908149row2_col5 {\n",
       "            background-color:  #6aaed6;\n",
       "            color:  #000000;\n",
       "        }    #T_8c1f9266_9bb5_11ea_8c53_4c3275908149row2_col6 {\n",
       "            background-color:  #abd0e6;\n",
       "            color:  #000000;\n",
       "        }    #T_8c1f9266_9bb5_11ea_8c53_4c3275908149row2_col7 {\n",
       "            background-color:  #f7fbff;\n",
       "            color:  #000000;\n",
       "        }    #T_8c1f9266_9bb5_11ea_8c53_4c3275908149row2_col8 {\n",
       "            background-color:  #c6dbef;\n",
       "            color:  #000000;\n",
       "        }    #T_8c1f9266_9bb5_11ea_8c53_4c3275908149row2_col9 {\n",
       "            background-color:  #08306b;\n",
       "            color:  #f1f1f1;\n",
       "        }    #T_8c1f9266_9bb5_11ea_8c53_4c3275908149row2_col10 {\n",
       "            background-color:  #08306b;\n",
       "            color:  #f1f1f1;\n",
       "        }    #T_8c1f9266_9bb5_11ea_8c53_4c3275908149row2_col11 {\n",
       "            background-color:  #f7fbff;\n",
       "            color:  #000000;\n",
       "        }    #T_8c1f9266_9bb5_11ea_8c53_4c3275908149row3_col0 {\n",
       "            background-color:  #6aaed6;\n",
       "            color:  #000000;\n",
       "        }    #T_8c1f9266_9bb5_11ea_8c53_4c3275908149row3_col1 {\n",
       "            background-color:  #2070b4;\n",
       "            color:  #f1f1f1;\n",
       "        }    #T_8c1f9266_9bb5_11ea_8c53_4c3275908149row3_col2 {\n",
       "            background-color:  #f7fbff;\n",
       "            color:  #000000;\n",
       "        }    #T_8c1f9266_9bb5_11ea_8c53_4c3275908149row3_col3 {\n",
       "            background-color:  #c6dbef;\n",
       "            color:  #000000;\n",
       "        }    #T_8c1f9266_9bb5_11ea_8c53_4c3275908149row3_col4 {\n",
       "            background-color:  #6aaed6;\n",
       "            color:  #000000;\n",
       "        }    #T_8c1f9266_9bb5_11ea_8c53_4c3275908149row3_col5 {\n",
       "            background-color:  #f7fbff;\n",
       "            color:  #000000;\n",
       "        }    #T_8c1f9266_9bb5_11ea_8c53_4c3275908149row3_col6 {\n",
       "            background-color:  #f7fbff;\n",
       "            color:  #000000;\n",
       "        }    #T_8c1f9266_9bb5_11ea_8c53_4c3275908149row3_col7 {\n",
       "            background-color:  #f7fbff;\n",
       "            color:  #000000;\n",
       "        }    #T_8c1f9266_9bb5_11ea_8c53_4c3275908149row3_col8 {\n",
       "            background-color:  #2070b4;\n",
       "            color:  #f1f1f1;\n",
       "        }    #T_8c1f9266_9bb5_11ea_8c53_4c3275908149row3_col9 {\n",
       "            background-color:  #f7fbff;\n",
       "            color:  #000000;\n",
       "        }    #T_8c1f9266_9bb5_11ea_8c53_4c3275908149row3_col10 {\n",
       "            background-color:  #abd0e6;\n",
       "            color:  #000000;\n",
       "        }    #T_8c1f9266_9bb5_11ea_8c53_4c3275908149row3_col11 {\n",
       "            background-color:  #f7fbff;\n",
       "            color:  #000000;\n",
       "        }    #T_8c1f9266_9bb5_11ea_8c53_4c3275908149row4_col0 {\n",
       "            background-color:  #f7fbff;\n",
       "            color:  #000000;\n",
       "        }    #T_8c1f9266_9bb5_11ea_8c53_4c3275908149row4_col1 {\n",
       "            background-color:  #f7fbff;\n",
       "            color:  #000000;\n",
       "        }    #T_8c1f9266_9bb5_11ea_8c53_4c3275908149row4_col2 {\n",
       "            background-color:  #f7fbff;\n",
       "            color:  #000000;\n",
       "        }    #T_8c1f9266_9bb5_11ea_8c53_4c3275908149row4_col3 {\n",
       "            background-color:  #f7fbff;\n",
       "            color:  #000000;\n",
       "        }    #T_8c1f9266_9bb5_11ea_8c53_4c3275908149row4_col4 {\n",
       "            background-color:  #f7fbff;\n",
       "            color:  #000000;\n",
       "        }    #T_8c1f9266_9bb5_11ea_8c53_4c3275908149row4_col5 {\n",
       "            background-color:  #f7fbff;\n",
       "            color:  #000000;\n",
       "        }    #T_8c1f9266_9bb5_11ea_8c53_4c3275908149row4_col6 {\n",
       "            background-color:  #f7fbff;\n",
       "            color:  #000000;\n",
       "        }    #T_8c1f9266_9bb5_11ea_8c53_4c3275908149row4_col7 {\n",
       "            background-color:  #08306b;\n",
       "            color:  #f1f1f1;\n",
       "        }    #T_8c1f9266_9bb5_11ea_8c53_4c3275908149row4_col8 {\n",
       "            background-color:  #6aaed6;\n",
       "            color:  #000000;\n",
       "        }    #T_8c1f9266_9bb5_11ea_8c53_4c3275908149row4_col9 {\n",
       "            background-color:  #6aaed6;\n",
       "            color:  #000000;\n",
       "        }    #T_8c1f9266_9bb5_11ea_8c53_4c3275908149row4_col10 {\n",
       "            background-color:  #3787c0;\n",
       "            color:  #000000;\n",
       "        }    #T_8c1f9266_9bb5_11ea_8c53_4c3275908149row4_col11 {\n",
       "            background-color:  #08306b;\n",
       "            color:  #f1f1f1;\n",
       "        }</style><table id=\"T_8c1f9266_9bb5_11ea_8c53_4c3275908149\" ><thead>    <tr>        <th class=\"blank level0\" ></th>        <th class=\"col_heading level0 col0\" >patient1</th>        <th class=\"col_heading level0 col1\" >patient2</th>        <th class=\"col_heading level0 col2\" >patient3</th>        <th class=\"col_heading level0 col3\" >patient4</th>        <th class=\"col_heading level0 col4\" >patient5</th>        <th class=\"col_heading level0 col5\" >patient6</th>        <th class=\"col_heading level0 col6\" >patient7</th>        <th class=\"col_heading level0 col7\" >patient8</th>        <th class=\"col_heading level0 col8\" >patient9</th>        <th class=\"col_heading level0 col9\" >patient10</th>        <th class=\"col_heading level0 col10\" >patient11</th>        <th class=\"col_heading level0 col11\" >patient12</th>    </tr>    <tr>        <th class=\"index_name level0\" >OTU_ID</th>        <th class=\"blank\" ></th>        <th class=\"blank\" ></th>        <th class=\"blank\" ></th>        <th class=\"blank\" ></th>        <th class=\"blank\" ></th>        <th class=\"blank\" ></th>        <th class=\"blank\" ></th>        <th class=\"blank\" ></th>        <th class=\"blank\" ></th>        <th class=\"blank\" ></th>        <th class=\"blank\" ></th>        <th class=\"blank\" ></th>    </tr></thead><tbody>\n",
       "                <tr>\n",
       "                        <th id=\"T_8c1f9266_9bb5_11ea_8c53_4c3275908149level0_row0\" class=\"row_heading level0 row0\" >OTU1</th>\n",
       "                        <td id=\"T_8c1f9266_9bb5_11ea_8c53_4c3275908149row0_col0\" class=\"data row0 col0\" >3</td>\n",
       "                        <td id=\"T_8c1f9266_9bb5_11ea_8c53_4c3275908149row0_col1\" class=\"data row0 col1\" >4</td>\n",
       "                        <td id=\"T_8c1f9266_9bb5_11ea_8c53_4c3275908149row0_col2\" class=\"data row0 col2\" >2</td>\n",
       "                        <td id=\"T_8c1f9266_9bb5_11ea_8c53_4c3275908149row0_col3\" class=\"data row0 col3\" >2</td>\n",
       "                        <td id=\"T_8c1f9266_9bb5_11ea_8c53_4c3275908149row0_col4\" class=\"data row0 col4\" >0</td>\n",
       "                        <td id=\"T_8c1f9266_9bb5_11ea_8c53_4c3275908149row0_col5\" class=\"data row0 col5\" >4</td>\n",
       "                        <td id=\"T_8c1f9266_9bb5_11ea_8c53_4c3275908149row0_col6\" class=\"data row0 col6\" >4</td>\n",
       "                        <td id=\"T_8c1f9266_9bb5_11ea_8c53_4c3275908149row0_col7\" class=\"data row0 col7\" >4</td>\n",
       "                        <td id=\"T_8c1f9266_9bb5_11ea_8c53_4c3275908149row0_col8\" class=\"data row0 col8\" >0</td>\n",
       "                        <td id=\"T_8c1f9266_9bb5_11ea_8c53_4c3275908149row0_col9\" class=\"data row0 col9\" >3</td>\n",
       "                        <td id=\"T_8c1f9266_9bb5_11ea_8c53_4c3275908149row0_col10\" class=\"data row0 col10\" >2</td>\n",
       "                        <td id=\"T_8c1f9266_9bb5_11ea_8c53_4c3275908149row0_col11\" class=\"data row0 col11\" >2</td>\n",
       "            </tr>\n",
       "            <tr>\n",
       "                        <th id=\"T_8c1f9266_9bb5_11ea_8c53_4c3275908149level0_row1\" class=\"row_heading level0 row1\" >OTU2</th>\n",
       "                        <td id=\"T_8c1f9266_9bb5_11ea_8c53_4c3275908149row1_col0\" class=\"data row1 col0\" >4</td>\n",
       "                        <td id=\"T_8c1f9266_9bb5_11ea_8c53_4c3275908149row1_col1\" class=\"data row1 col1\" >1</td>\n",
       "                        <td id=\"T_8c1f9266_9bb5_11ea_8c53_4c3275908149row1_col2\" class=\"data row1 col2\" >3</td>\n",
       "                        <td id=\"T_8c1f9266_9bb5_11ea_8c53_4c3275908149row1_col3\" class=\"data row1 col3\" >4</td>\n",
       "                        <td id=\"T_8c1f9266_9bb5_11ea_8c53_4c3275908149row1_col4\" class=\"data row1 col4\" >1</td>\n",
       "                        <td id=\"T_8c1f9266_9bb5_11ea_8c53_4c3275908149row1_col5\" class=\"data row1 col5\" >3</td>\n",
       "                        <td id=\"T_8c1f9266_9bb5_11ea_8c53_4c3275908149row1_col6\" class=\"data row1 col6\" >3</td>\n",
       "                        <td id=\"T_8c1f9266_9bb5_11ea_8c53_4c3275908149row1_col7\" class=\"data row1 col7\" >3</td>\n",
       "                        <td id=\"T_8c1f9266_9bb5_11ea_8c53_4c3275908149row1_col8\" class=\"data row1 col8\" >4</td>\n",
       "                        <td id=\"T_8c1f9266_9bb5_11ea_8c53_4c3275908149row1_col9\" class=\"data row1 col9\" >1</td>\n",
       "                        <td id=\"T_8c1f9266_9bb5_11ea_8c53_4c3275908149row1_col10\" class=\"data row1 col10\" >1</td>\n",
       "                        <td id=\"T_8c1f9266_9bb5_11ea_8c53_4c3275908149row1_col11\" class=\"data row1 col11\" >4</td>\n",
       "            </tr>\n",
       "            <tr>\n",
       "                        <th id=\"T_8c1f9266_9bb5_11ea_8c53_4c3275908149level0_row2\" class=\"row_heading level0 row2\" >OTU3</th>\n",
       "                        <td id=\"T_8c1f9266_9bb5_11ea_8c53_4c3275908149row2_col0\" class=\"data row2 col0\" >1</td>\n",
       "                        <td id=\"T_8c1f9266_9bb5_11ea_8c53_4c3275908149row2_col1\" class=\"data row2 col1\" >4</td>\n",
       "                        <td id=\"T_8c1f9266_9bb5_11ea_8c53_4c3275908149row2_col2\" class=\"data row2 col2\" >2</td>\n",
       "                        <td id=\"T_8c1f9266_9bb5_11ea_8c53_4c3275908149row2_col3\" class=\"data row2 col3\" >1</td>\n",
       "                        <td id=\"T_8c1f9266_9bb5_11ea_8c53_4c3275908149row2_col4\" class=\"data row2 col4\" >4</td>\n",
       "                        <td id=\"T_8c1f9266_9bb5_11ea_8c53_4c3275908149row2_col5\" class=\"data row2 col5\" >2</td>\n",
       "                        <td id=\"T_8c1f9266_9bb5_11ea_8c53_4c3275908149row2_col6\" class=\"data row2 col6\" >2</td>\n",
       "                        <td id=\"T_8c1f9266_9bb5_11ea_8c53_4c3275908149row2_col7\" class=\"data row2 col7\" >2</td>\n",
       "                        <td id=\"T_8c1f9266_9bb5_11ea_8c53_4c3275908149row2_col8\" class=\"data row2 col8\" >1</td>\n",
       "                        <td id=\"T_8c1f9266_9bb5_11ea_8c53_4c3275908149row2_col9\" class=\"data row2 col9\" >4</td>\n",
       "                        <td id=\"T_8c1f9266_9bb5_11ea_8c53_4c3275908149row2_col10\" class=\"data row2 col10\" >4</td>\n",
       "                        <td id=\"T_8c1f9266_9bb5_11ea_8c53_4c3275908149row2_col11\" class=\"data row2 col11\" >1</td>\n",
       "            </tr>\n",
       "            <tr>\n",
       "                        <th id=\"T_8c1f9266_9bb5_11ea_8c53_4c3275908149level0_row3\" class=\"row_heading level0 row3\" >OTU4</th>\n",
       "                        <td id=\"T_8c1f9266_9bb5_11ea_8c53_4c3275908149row3_col0\" class=\"data row3 col0\" >2</td>\n",
       "                        <td id=\"T_8c1f9266_9bb5_11ea_8c53_4c3275908149row3_col1\" class=\"data row3 col1\" >3</td>\n",
       "                        <td id=\"T_8c1f9266_9bb5_11ea_8c53_4c3275908149row3_col2\" class=\"data row3 col2\" >0</td>\n",
       "                        <td id=\"T_8c1f9266_9bb5_11ea_8c53_4c3275908149row3_col3\" class=\"data row3 col3\" >1</td>\n",
       "                        <td id=\"T_8c1f9266_9bb5_11ea_8c53_4c3275908149row3_col4\" class=\"data row3 col4\" >2</td>\n",
       "                        <td id=\"T_8c1f9266_9bb5_11ea_8c53_4c3275908149row3_col5\" class=\"data row3 col5\" >0</td>\n",
       "                        <td id=\"T_8c1f9266_9bb5_11ea_8c53_4c3275908149row3_col6\" class=\"data row3 col6\" >1</td>\n",
       "                        <td id=\"T_8c1f9266_9bb5_11ea_8c53_4c3275908149row3_col7\" class=\"data row3 col7\" >2</td>\n",
       "                        <td id=\"T_8c1f9266_9bb5_11ea_8c53_4c3275908149row3_col8\" class=\"data row3 col8\" >3</td>\n",
       "                        <td id=\"T_8c1f9266_9bb5_11ea_8c53_4c3275908149row3_col9\" class=\"data row3 col9\" >0</td>\n",
       "                        <td id=\"T_8c1f9266_9bb5_11ea_8c53_4c3275908149row3_col10\" class=\"data row3 col10\" >2</td>\n",
       "                        <td id=\"T_8c1f9266_9bb5_11ea_8c53_4c3275908149row3_col11\" class=\"data row3 col11\" >1</td>\n",
       "            </tr>\n",
       "            <tr>\n",
       "                        <th id=\"T_8c1f9266_9bb5_11ea_8c53_4c3275908149level0_row4\" class=\"row_heading level0 row4\" >OTU5</th>\n",
       "                        <td id=\"T_8c1f9266_9bb5_11ea_8c53_4c3275908149row4_col0\" class=\"data row4 col0\" >0</td>\n",
       "                        <td id=\"T_8c1f9266_9bb5_11ea_8c53_4c3275908149row4_col1\" class=\"data row4 col1\" >0</td>\n",
       "                        <td id=\"T_8c1f9266_9bb5_11ea_8c53_4c3275908149row4_col2\" class=\"data row4 col2\" >0</td>\n",
       "                        <td id=\"T_8c1f9266_9bb5_11ea_8c53_4c3275908149row4_col3\" class=\"data row4 col3\" >0</td>\n",
       "                        <td id=\"T_8c1f9266_9bb5_11ea_8c53_4c3275908149row4_col4\" class=\"data row4 col4\" >0</td>\n",
       "                        <td id=\"T_8c1f9266_9bb5_11ea_8c53_4c3275908149row4_col5\" class=\"data row4 col5\" >0</td>\n",
       "                        <td id=\"T_8c1f9266_9bb5_11ea_8c53_4c3275908149row4_col6\" class=\"data row4 col6\" >1</td>\n",
       "                        <td id=\"T_8c1f9266_9bb5_11ea_8c53_4c3275908149row4_col7\" class=\"data row4 col7\" >4</td>\n",
       "                        <td id=\"T_8c1f9266_9bb5_11ea_8c53_4c3275908149row4_col8\" class=\"data row4 col8\" >2</td>\n",
       "                        <td id=\"T_8c1f9266_9bb5_11ea_8c53_4c3275908149row4_col9\" class=\"data row4 col9\" >2</td>\n",
       "                        <td id=\"T_8c1f9266_9bb5_11ea_8c53_4c3275908149row4_col10\" class=\"data row4 col10\" >3</td>\n",
       "                        <td id=\"T_8c1f9266_9bb5_11ea_8c53_4c3275908149row4_col11\" class=\"data row4 col11\" >4</td>\n",
       "            </tr>\n",
       "    </tbody></table>"
      ],
      "text/plain": [
       "<pandas.io.formats.style.Styler at 0x1a1da76d30>"
      ]
     },
     "execution_count": 115,
     "metadata": {},
     "output_type": "execute_result"
    }
   ],
   "source": [
    "#Set the feature table display style\n",
    "#to use a background gradient based on values.\n",
    "feature_table_visualization = feature_table.style.background_gradient(cmap='Blues')\n",
    "feature_table_visualization"
   ]
  },
  {
   "cell_type": "markdown",
   "metadata": {},
   "source": [
    "### Graphing pandas DataFrames using heatmaps\n",
    "\n",
    "One of the advantages of pandas DataFrames is that they integrate well with many other commonly used visualization and statistics packages in python. If we want a true heatmap that, for example, clusters rows and columns by similarity we will need to step outside of the pandas module alone and combine it with the [Seaborn](https://seaborn.pydata.org/) graphing package. \n",
    "\n",
    "[Seaborn](https://seaborn.pydata.org/) is a graphing package built on top of [matplotlib](https://matplotlib.org/1.3.1/index.html). It integrates smoothly with pandas, and the two are commonly used together. \n",
    "\n",
    "The clustermap function in seaborn is a convenient way to make a heatmap of our data, clustered according to the similarity of rows and columns. In this chart the rows will be the different microbes, the columns will be the patients, and the color of each cell will represent the count of microbes in each patient. The order of the  rows and columns will reflect the similarity of their counts."
   ]
  },
  {
   "cell_type": "code",
   "execution_count": 116,
   "metadata": {},
   "outputs": [
    {
     "data": {
      "text/plain": [
       "<seaborn.matrix.ClusterGrid at 0x1a1ccf3f98>"
      ]
     },
     "execution_count": 116,
     "metadata": {},
     "output_type": "execute_result"
    },
    {
     "data": {
      "image/png": "[encoded data removed]",
      "text/plain": [
       "<Figure size 720x720 with 4 Axes>"
      ]
     },
     "metadata": {
      "needs_background": "light"
     },
     "output_type": "display_data"
    }
   ],
   "source": [
    "%matplotlib inline\n",
    "from seaborn import clustermap\n",
    "clustermap(feature_table,cmap=\"Blues\")"
   ]
  },
  {
   "cell_type": "markdown",
   "metadata": {},
   "source": [
    "If we don't want to cluster the data, and just want a basic heatmap, we can set the row_cluster and col_cluster parameters to False."
   ]
  },
  {
   "cell_type": "code",
   "execution_count": 117,
   "metadata": {},
   "outputs": [
    {
     "data": {
      "text/plain": [
       "<seaborn.matrix.ClusterGrid at 0x1a1dee2ac8>"
      ]
     },
     "execution_count": 117,
     "metadata": {},
     "output_type": "execute_result"
    },
    {
     "data": {
      "image/png": "[encoded data removed]",
      "text/plain": [
       "<Figure size 720x720 with 4 Axes>"
      ]
     },
     "metadata": {
      "needs_background": "light"
     },
     "output_type": "display_data"
    }
   ],
   "source": [
    "clustermap(feature_table,row_cluster=False,col_cluster=False,cmap=\"Blues\")"
   ]
  },
  {
   "cell_type": "markdown",
   "metadata": {},
   "source": [
    "If we wanted to swap the rows and columns, we could use the pandas DataFrame method .transpose() to swap the rows and columns of the DataFrame, and then rerun the clustermap on the transposed data. We can also separately control clustering of rows and columns with the row_cluster and col_cluster parameters. Finally, we can change the color mapping or 'cmap' using the cmap paramter. "
   ]
  },
  {
   "cell_type": "code",
   "execution_count": 118,
   "metadata": {},
   "outputs": [
    {
     "data": {
      "text/plain": [
       "<seaborn.matrix.ClusterGrid at 0x1a1e152f28>"
      ]
     },
     "execution_count": 118,
     "metadata": {},
     "output_type": "execute_result"
    },
    {
     "data": {
      "image/png": "[encoded data removed]",
      "text/plain": [
       "<Figure size 720x720 with 4 Axes>"
      ]
     },
     "metadata": {
      "needs_background": "light"
     },
     "output_type": "display_data"
    }
   ],
   "source": [
    "feature_table_transposed = feature_table.transpose()\n",
    "clustermap(feature_table_transposed, row_cluster=False,col_cluster=True,cmap='Blues')"
   ]
  },
  {
   "cell_type": "markdown",
   "metadata": {},
   "source": [
    "## Calculating Microbiome Richness using Pandas DataFrames  \n",
    "\n",
    "Next we will calculate the alpha diversity in this dataset. This is equivalent to calculating how many species are represented in each with counts > 0. (We'll leave aside for the moment important concerns about normalization)"
   ]
  },
  {
   "cell_type": "code",
   "execution_count": 122,
   "metadata": {},
   "outputs": [
    {
     "name": "stdout",
     "output_type": "stream",
     "text": [
      "['patient1' 'patient2' 'patient3' 'patient4' 'patient5' 'patient6'\n",
      " 'patient7' 'patient8' 'patient9' 'patient10' 'patient11' 'patient12']\n"
     ]
    }
   ],
   "source": [
    "#First look up the names of all the samples (so all the column names)\n",
    "print(feature_table.columns.values)"
   ]
  },
  {
   "cell_type": "markdown",
   "metadata": {},
   "source": [
    "#### A solution for calculating alpha diversity using for loops\n",
    "\n",
    "One way we might calculate alpha diversity is using for loops. The approach is:\n",
    "\n",
    "- grab each column \n",
    "- iterate over the rows\n",
    "- if a row is non-zero add 1 to the alpha diversity of that column\n",
    "- print (or yield) the alpha diversity for the current column before moving on to the next one.\n",
    "\n",
    "You can think of this as a'traditional' approach that doesn't rely on much of pandas special functionality other than a single step where we grab our column of interest."
   ]
  },
  {
   "cell_type": "code",
   "execution_count": 123,
   "metadata": {},
   "outputs": [
    {
     "name": "stdout",
     "output_type": "stream",
     "text": [
      "patient1: 4\n",
      "patient2: 4\n",
      "patient3: 3\n",
      "patient4: 4\n",
      "patient5: 3\n",
      "patient6: 3\n",
      "patient7: 5\n",
      "patient8: 5\n",
      "patient9: 4\n",
      "patient10: 4\n",
      "patient11: 5\n",
      "patient12: 5\n"
     ]
    }
   ],
   "source": [
    "adiv_by_patient = {}\n",
    "for patient in feature_table.columns.values:\n",
    "    adiv = 0   \n",
    "    patient_otus = feature_table.loc[:,patient]\n",
    "    for otu_count in patient_otus :\n",
    "        if otu_count > 0:\n",
    "            adiv += 1            \n",
    "    print(f\"{patient}: {adiv}\")\n",
    "    adiv_by_patient[patient] = adiv\n",
    "    \n"
   ]
  },
  {
   "cell_type": "markdown",
   "metadata": {},
   "source": [
    "A related solution uses conditional indexing to find all cells that have a value above 0 and set it to 1. This effectively converts the table to a presence/absence table. One can then use the built in sum function to add up the columns:"
   ]
  },
  {
   "cell_type": "code",
   "execution_count": 124,
   "metadata": {},
   "outputs": [
    {
     "data": {
      "text/plain": [
       "patient1     4\n",
       "patient2     4\n",
       "patient3     3\n",
       "patient4     4\n",
       "patient5     3\n",
       "patient6     3\n",
       "patient7     5\n",
       "patient8     5\n",
       "patient9     4\n",
       "patient10    4\n",
       "patient11    5\n",
       "patient12    5\n",
       "dtype: int64"
      ]
     },
     "execution_count": 124,
     "metadata": {},
     "output_type": "execute_result"
    }
   ],
   "source": [
    "#Convert all values above 0 to 1\n",
    "feature_table[feature_table >0] = 1\n",
    "#Sum along the columns\n",
    "feature_table.sum()"
   ]
  },
  {
   "cell_type": "markdown",
   "metadata": {},
   "source": [
    "Note that this is not at all the only way to calculate this quantity. For example, if you are familiar with the numpy python library, a similar effect can be achiveved by extracting a numpy array from the feature table, using the numpy where function to set all non-zero cells to 1 and then using the numpy sum function to sum down the colums."
   ]
  },
  {
   "cell_type": "markdown",
   "metadata": {},
   "source": [
    "## Conclusion\n",
    "\n",
    "Although tabular data can have many origins, the steps for analyzing it are often similar. Pandas DataFrames present a powerful and very widely used tool for analyzing tabular data in python."
   ]
  },
  {
   "cell_type": "markdown",
   "metadata": {},
   "source": [
    "## Exercises\n",
    "\n",
    "1. **Normalizing a table**. Write a function that *normalizes* a table of species counts expressed as a pandas DataFrame. To normalize the table, calculate the sum of each column (assuming the columns are the samples), and divide each entry by its column sum. For example, patient6 has values 4,3, and 2 for a total of 9 counts. Expressed as proportions these would be 4/9, 3/9, and 2/9 or ~0.444, ~0.333, and ~0.222.\n",
    "\n",
    "2. **Calculating Shannon's Diversity Index**. Shannon's Diversity Index (H) is a measure of alpha diversity in ecological communities that incorporates elements of both richness and evenness (see e.g. this [post](http://www.tiem.utk.edu/~gross/bioed/bealsmodules/shannonDI.html)). Mathematically it is straightforward to calculate: iterate over all the species in a community. One by one, multiply each species' proportion in the community by the natural log of that proportion (p * ln(p)). Sum up the result and multiply it by -1. Or if you prefer here is the same statement put into mathematical notation: \\begin{equation*}H = -\\sum_{i=1}^n p_i*ln(p_i)  \\end{equation*} Write a function that calculates Shannon's Diversity Index on microbial community data expressed as a table. Check that your calculation is working correctly by comparing against a hand-calculated result. For example, patient6 has values 4,3, and 2 for a total of 9 counts. Expressed as proportions these would be 4/9, 3/9, and 2/9. So the Shannon diversity would be -1 * ((4/9)*ln(4/9) + (3/9)*ln(3/9) + (2/9)*ln(2/9)) or  ~1.06.\n",
    "\n",
    "3. **Short answer:** Do you think incorporating elements of both richness and evenness in a single measure is an advantage, or would you prefer this information in separate measures? What might be a situation where one approach is preferred over the other?\n",
    "\n",
    " "
   ]
  },
  {
   "cell_type": "markdown",
   "metadata": {},
   "source": [
    "## Project Ideas\n",
    "\n",
    "**Study the alpha diversity of a group over time using fossil data and pandas**. The Paleobiology Database ([paleobiodb.org](https://paleobiodb.org/#/)) let's you visualize and filter fossil data for different groups of animals over time. Filtering and then using the chart icon on the left let's you visualize alpha diversity over time for a given group. Download the raw data for your taxon of interest as a .csv file. Opening it in Excel you will notice the first ~15 rows have header info that needs to be trimmed off for pandas to read the file. After that there are many columns of data describing each fossil. Pay particular attention to the max_ma and min_ma columns: these represent the maximum and minimum number of millions of years ago that each fossil was found. Use table filtering to gather data according to some category of interest: the different groups within your taxon, fossils found on different continents, etc, and compare alpha diversity between them. Extend your method to use rarefaction (random subsampling) to normalize the number of counts between categories so that your total is not artifactually influenced by sampling depth. You can also try plotting the diversity of your different categories over time to try to understand major events (migration, meteor impacts, etc) that might have caused extinctions within your group. "
   ]
  },
  {
   "cell_type": "markdown",
   "metadata": {},
   "source": [
    "## Further Reading\n",
    "\n",
    "[1] DataQuest intro to Pandas for Data Analysis using IGN video game reviews [link](https://www.dataquest.io/blog/pandas-python-tutorial/)\n",
    "\n",
    "[2] The Pandas API reference for DataFrames and Data Series [link](https://pandas.pydata.org/pandas-docs/stable/reference/api/pandas.DataFrame.sum.html). This contains lists of useful methods and their documentation.\n",
    "\n",
    "\n",
    "\n"
   ]
  }
 ],
 "metadata": {
  "kernelspec": {
   "display_name": "Python 3",
   "language": "python",
   "name": "python3"
  },
  "language_info": {
   "codemirror_mode": {
    "name": "ipython",
    "version": 3
   },
   "file_extension": ".py",
   "mimetype": "text/x-python",
   "name": "python",
   "nbconvert_exporter": "python",
   "pygments_lexer": "ipython3",
   "version": "3.7.2"
  }
 },
 "nbformat": 4,
 "nbformat_minor": 2
}
