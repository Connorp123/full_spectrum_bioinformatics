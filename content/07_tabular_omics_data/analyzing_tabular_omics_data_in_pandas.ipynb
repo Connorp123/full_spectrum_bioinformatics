{
 "cells": [
  {
   "cell_type": "markdown",
   "metadata": {},
   "source": [
    "## Analyzing Tabular Omics Data using Pandas DataFrames\n",
    "\n",
    "\n",
    "\n",
    "## Analyzing A Feature Table of Microbial Counts\n",
    "\n",
    "\n",
    "In this jupyter notebook we will do some basic graphing of a feature table of microbes by samples. We'll work with tabular data representing one of the microbiome change scenarios from the previous section. \n",
    "\n",
    "Here is the scenario in cartoon form:\n",
    "<img src=\"./resources/Scenario_1_specific_pathogen_w_table-01.png\" width=\"400\"  description=\"A cartoon of multicolored microbes in 6 healthy people or 6 people with a disease. The picture shows 12 boxes (one per person). In each box there are multiple microbes of different types. A table below will list the counts of microbes in each sample if you cannot view them here.\"> \n",
    "\n",
    "\n",
    "\n",
    "#### Checking that the raw data is present\n",
    "\n",
    "As a first step let's check that we have 'scenario1_otus.txt' in our current working directory. The listdir function in the builtin os module returns a list of all contents of a specified directory on your computer.\n",
    "\n",
    "It can be useful to run it prior to trying to open files if you need to remember filenames. In this case, the raw data we want to open is stored in the resources folder within the folder for this chapter. Let's import the listdir function and quickly check that our data is there..."
   ]
  },
  {
   "cell_type": "code",
   "execution_count": 17,
   "metadata": {},
   "outputs": [
    {
     "name": "stdout",
     "output_type": "stream",
     "text": [
      "Directory contents: ['.DS_Store', 'evenness.png', 'richness.png', 'richness_vs_eveness.png', 'scenario1_otus_pandas.txt', 'Scenario_1_specific_pathogen_no_table-01.png', 'Scenario_1_specific_pathogen_table_only.png', 'Scenario_1_specific_pathogen_w_table-01.png', 'Scenario_2_community_shift.ai', 'Scenario_2_community_shift_no_table-01.png', 'Scenario_3_microbial_overgrowth_no_table-01.png', 'Scenario_4_alpha_diversity_with_table_r2-01.png', 'Scenario_5_beta_diversity_no_table-01.png']\n"
     ]
    }
   ],
   "source": [
    "from os import listdir\n",
    "print(\"Directory contents:\",listdir(\"./resources/\"))"
   ]
  },
  {
   "cell_type": "markdown",
   "metadata": {},
   "source": [
    "Great. Now that we've seen that the data is available, let's load it into python using [pandas](https://pandas.pydata.org/pandas-docs/stable/getting_started/10min.html#min)!"
   ]
  },
  {
   "cell_type": "code",
   "execution_count": 18,
   "metadata": {},
   "outputs": [],
   "source": [
    "from pandas import read_csv\n",
    "\n",
    "#Load the text version of the table (a csv file) into python using pandas\n",
    "feature_table = read_csv(\"./resources/scenario1_otus_pandas.txt\",sep=\"\\t\")"
   ]
  },
  {
   "cell_type": "markdown",
   "metadata": {},
   "source": [
    "Once we've seen that the table loaded, let's work on figuring out how pandas is representing it inside python. We'll use the type() function to work out what type of object our feature table is:"
   ]
  },
  {
   "cell_type": "code",
   "execution_count": 19,
   "metadata": {},
   "outputs": [
    {
     "data": {
      "text/plain": [
       "pandas.core.frame.DataFrame"
      ]
     },
     "execution_count": 19,
     "metadata": {},
     "output_type": "execute_result"
    }
   ],
   "source": [
    "type(feature_table)"
   ]
  },
  {
   "cell_type": "markdown",
   "metadata": {},
   "source": [
    "It looks like our table of data has been loaded as a pandas DataFrame. DataFrame objects serve as a convenient and very powerful way to represent tabular data. They represent those data as a table with row and column labels. Subsets of the data along a row or column can be pulled out as pandas Series objects.\n",
    "\n",
    "To examine the feature table in a Jupyter notebook, we can simply type the name of the variable that holds it on it's own line:\n"
   ]
  },
  {
   "cell_type": "code",
   "execution_count": 20,
   "metadata": {},
   "outputs": [
    {
     "data": {
      "text/html": [
       "<div>\n",
       "<style scoped>\n",
       "    .dataframe tbody tr th:only-of-type {\n",
       "        vertical-align: middle;\n",
       "    }\n",
       "\n",
       "    .dataframe tbody tr th {\n",
       "        vertical-align: top;\n",
       "    }\n",
       "\n",
       "    .dataframe thead th {\n",
       "        text-align: right;\n",
       "    }\n",
       "</style>\n",
       "<table border=\"1\" class=\"dataframe\">\n",
       "  <thead>\n",
       "    <tr style=\"text-align: right;\">\n",
       "      <th></th>\n",
       "      <th>OTU_ID</th>\n",
       "      <th>patient1</th>\n",
       "      <th>patient2</th>\n",
       "      <th>patient3</th>\n",
       "      <th>patient4</th>\n",
       "      <th>patient5</th>\n",
       "      <th>patient6</th>\n",
       "      <th>patient7</th>\n",
       "      <th>patient8</th>\n",
       "      <th>patient9</th>\n",
       "      <th>patient10</th>\n",
       "      <th>patient11</th>\n",
       "      <th>patient12</th>\n",
       "    </tr>\n",
       "  </thead>\n",
       "  <tbody>\n",
       "    <tr>\n",
       "      <th>0</th>\n",
       "      <td>OTU1</td>\n",
       "      <td>3</td>\n",
       "      <td>4</td>\n",
       "      <td>2</td>\n",
       "      <td>2</td>\n",
       "      <td>0</td>\n",
       "      <td>4</td>\n",
       "      <td>4</td>\n",
       "      <td>4</td>\n",
       "      <td>0</td>\n",
       "      <td>3</td>\n",
       "      <td>2</td>\n",
       "      <td>2</td>\n",
       "    </tr>\n",
       "    <tr>\n",
       "      <th>1</th>\n",
       "      <td>OTU2</td>\n",
       "      <td>4</td>\n",
       "      <td>1</td>\n",
       "      <td>3</td>\n",
       "      <td>4</td>\n",
       "      <td>1</td>\n",
       "      <td>3</td>\n",
       "      <td>3</td>\n",
       "      <td>3</td>\n",
       "      <td>4</td>\n",
       "      <td>1</td>\n",
       "      <td>1</td>\n",
       "      <td>4</td>\n",
       "    </tr>\n",
       "    <tr>\n",
       "      <th>2</th>\n",
       "      <td>OTU3</td>\n",
       "      <td>1</td>\n",
       "      <td>4</td>\n",
       "      <td>2</td>\n",
       "      <td>1</td>\n",
       "      <td>4</td>\n",
       "      <td>2</td>\n",
       "      <td>2</td>\n",
       "      <td>2</td>\n",
       "      <td>1</td>\n",
       "      <td>4</td>\n",
       "      <td>4</td>\n",
       "      <td>1</td>\n",
       "    </tr>\n",
       "    <tr>\n",
       "      <th>3</th>\n",
       "      <td>OTU4</td>\n",
       "      <td>2</td>\n",
       "      <td>3</td>\n",
       "      <td>0</td>\n",
       "      <td>1</td>\n",
       "      <td>2</td>\n",
       "      <td>0</td>\n",
       "      <td>1</td>\n",
       "      <td>2</td>\n",
       "      <td>3</td>\n",
       "      <td>0</td>\n",
       "      <td>2</td>\n",
       "      <td>1</td>\n",
       "    </tr>\n",
       "    <tr>\n",
       "      <th>4</th>\n",
       "      <td>OTU5</td>\n",
       "      <td>0</td>\n",
       "      <td>0</td>\n",
       "      <td>0</td>\n",
       "      <td>0</td>\n",
       "      <td>0</td>\n",
       "      <td>0</td>\n",
       "      <td>1</td>\n",
       "      <td>4</td>\n",
       "      <td>2</td>\n",
       "      <td>2</td>\n",
       "      <td>3</td>\n",
       "      <td>4</td>\n",
       "    </tr>\n",
       "  </tbody>\n",
       "</table>\n",
       "</div>"
      ],
      "text/plain": [
       "  OTU_ID  patient1  patient2  patient3  patient4  patient5  patient6  \\\n",
       "0   OTU1         3         4         2         2         0         4   \n",
       "1   OTU2         4         1         3         4         1         3   \n",
       "2   OTU3         1         4         2         1         4         2   \n",
       "3   OTU4         2         3         0         1         2         0   \n",
       "4   OTU5         0         0         0         0         0         0   \n",
       "\n",
       "   patient7  patient8  patient9  patient10  patient11  patient12  \n",
       "0         4         4         0          3          2          2  \n",
       "1         3         3         4          1          1          4  \n",
       "2         2         2         1          4          4          1  \n",
       "3         1         2         3          0          2          1  \n",
       "4         1         4         2          2          3          4  "
      ]
     },
     "execution_count": 20,
     "metadata": {},
     "output_type": "execute_result"
    }
   ],
   "source": [
    "feature_table"
   ]
  },
  {
   "cell_type": "markdown",
   "metadata": {},
   "source": [
    "#### Setting the row labels\n",
    "\n",
    "An important feature of pandas DataFrames is their index column. This serves as a set of unique row labels for each row in your data. Because we didn't specify an index column when we loaded our data we have to set it manually. We can do so with the dataframe's set_index method."
   ]
  },
  {
   "cell_type": "code",
   "execution_count": 21,
   "metadata": {},
   "outputs": [],
   "source": [
    "#Use OTU ID column to label each row\n",
    "feature_table = feature_table.set_index('OTU_ID')"
   ]
  },
  {
   "cell_type": "markdown",
   "metadata": {},
   "source": [
    "If we view the dataframe again, we should notice that the left hand column of numbers has dissapeared, and our rows are now correctly labelled by microbe"
   ]
  },
  {
   "cell_type": "markdown",
   "metadata": {},
   "source": [
    "### Graphing the data\n",
    "\n",
    "One of the advantages of pandas DataFrames is that they integrate well with many other commonly used visualization and statistics packages in python. One package that is commonly used to graph data held in pandas dataframes is the seaborn visualization package.\n",
    "\n",
    "The clustermap function in seaborn is a convenient way to make a heatmap of our data, clustered according to the similarity of rows and columns. In this chart the rows will be the different microbes, the columns will be the patients, and the color of each cell will represent the count of microbes in each patient. The order of the  rows and columns will reflect the similarity of their counts."
   ]
  },
  {
   "cell_type": "code",
   "execution_count": 22,
   "metadata": {},
   "outputs": [
    {
     "data": {
      "text/plain": [
       "<seaborn.matrix.ClusterGrid at 0x1131835f8>"
      ]
     },
     "execution_count": 22,
     "metadata": {},
     "output_type": "execute_result"
    },
    {
     "data": {
      "image/png": "[encoded data removed]",
      "text/plain": [
       "<Figure size 720x720 with 4 Axes>"
      ]
     },
     "metadata": {
      "needs_background": "light"
     },
     "output_type": "display_data"
    }
   ],
   "source": [
    "%matplotlib inline\n",
    "from seaborn import clustermap\n",
    "clustermap(feature_table)"
   ]
  },
  {
   "cell_type": "markdown",
   "metadata": {},
   "source": [
    "If we don't want to cluster the data, and just want a basic heatmap, we can set the row_cluster and col_cluster parameters to False."
   ]
  },
  {
   "cell_type": "code",
   "execution_count": 23,
   "metadata": {},
   "outputs": [
    {
     "data": {
      "text/plain": [
       "<seaborn.matrix.ClusterGrid at 0x1a163389b0>"
      ]
     },
     "execution_count": 23,
     "metadata": {},
     "output_type": "execute_result"
    },
    {
     "data": {
      "image/png": "[encoded data removed]",
      "text/plain": [
       "<Figure size 720x720 with 4 Axes>"
      ]
     },
     "metadata": {
      "needs_background": "light"
     },
     "output_type": "display_data"
    }
   ],
   "source": [
    "clustermap(feature_table,row_cluster=False,col_cluster=False)"
   ]
  },
  {
   "cell_type": "markdown",
   "metadata": {},
   "source": [
    "If we wanted to swap the rows and columns, we could use the pandas DataFrame method .transpose() to swap the rows and columns of the DataFrame, and then rerun the clustermap on the transposed data. We can also separately control clustering of rows and columns with the row_cluster and col_cluster parameters. Finally, we can change the color mapping or 'cmap' using the cmap paramter. "
   ]
  },
  {
   "cell_type": "code",
   "execution_count": 24,
   "metadata": {},
   "outputs": [
    {
     "data": {
      "text/plain": [
       "<seaborn.matrix.ClusterGrid at 0x1a16795978>"
      ]
     },
     "execution_count": 24,
     "metadata": {},
     "output_type": "execute_result"
    },
    {
     "data": {
      "image/png": "[encoded data removed]",
      "text/plain": [
       "<Figure size 720x720 with 4 Axes>"
      ]
     },
     "metadata": {
      "needs_background": "light"
     },
     "output_type": "display_data"
    }
   ],
   "source": [
    "feature_table_transposed = feature_table.transpose()\n",
    "clustermap(feature_table_transposed, row_cluster=False,col_cluster=True,cmap='Reds')"
   ]
  },
  {
   "cell_type": "markdown",
   "metadata": {},
   "source": [
    "#### Accessing column data\n",
    "\n",
    "We might want to access the rows or columns of our pandas data directly so that we can do calculations. A nice tutorial on this can be found here: https://www.shanelynn.ie/select-pandas-dataframe-rows-and-columns-using-iloc-loc-and-ix/.\n",
    "\n",
    "In brief, we can select a column by indexing into the pandas DataFrame object using a column name. I currently have the OTUs as columns, so we could access them with feature_table[\"OTU1\"]"
   ]
  },
  {
   "cell_type": "code",
   "execution_count": 25,
   "metadata": {},
   "outputs": [
    {
     "name": "stdout",
     "output_type": "stream",
     "text": [
      "OTU_ID\n",
      "OTU1    3\n",
      "OTU2    4\n",
      "OTU3    1\n",
      "OTU4    2\n",
      "OTU5    0\n",
      "Name: patient1, dtype: int64\n"
     ]
    }
   ],
   "source": [
    "#Access a column \n",
    "print(feature_table[\"patient1\"])"
   ]
  },
  {
   "cell_type": "markdown",
   "metadata": {},
   "source": [
    "However, this way of selecting columns in pandas is a bit special-purpose - it doesn't always extend in the simplest way to rows for example.\n",
    "\n",
    "#### A consistent way to access row or column data in pandas\n",
    "\n",
    "An alternative way to index into a pandas DataFrame is by using the .loc indexer (accessed by the name of your dataframe and then .loc)\n",
    "\n",
    "Note that this is not called like a function (so not 'df.loc('whatever')'), but more a way of indexing (closer to how you would call it if loc were a dict that was a property of the dataframe).\n",
    "\n",
    "When using .loc, we specify what rows we want, then what columns we want. We can use the colon character to indicate 'all'. In this way we can do row and column selection using exactly the same syntax, which is nice for those of us who don't like to remember too many things.\n",
    "\n",
    "(More info on this here: https://brohrer.github.io/dataframe_indexing.html)\n",
    "\n",
    "##### Select a column using .loc\n",
    "\n"
   ]
  },
  {
   "cell_type": "code",
   "execution_count": 26,
   "metadata": {},
   "outputs": [
    {
     "name": "stdout",
     "output_type": "stream",
     "text": [
      "Select all of the OTU1 column:\n",
      "patient1     3\n",
      "patient2     4\n",
      "patient3     2\n",
      "patient4     2\n",
      "patient5     0\n",
      "patient6     4\n",
      "patient7     4\n",
      "patient8     4\n",
      "patient9     0\n",
      "patient10    3\n",
      "patient11    2\n",
      "patient12    2\n",
      "Name: OTU1, dtype: int64\n"
     ]
    }
   ],
   "source": [
    "#Recall that : means all, and we specify rows,columns when using .loc\n",
    "print(\"Select all of the OTU1 column:\")\n",
    "selected_column = feature_table_transposed.loc[:,'OTU1']\n",
    "print(selected_column)\n",
    "\n"
   ]
  },
  {
   "cell_type": "markdown",
   "metadata": {},
   "source": [
    "Cool! So we see that we now get the count of microbe 1 ('OTU1') in each patient's sample. However, this data type looks kinda funky. That's because it is a pandas Series object. It therefore doesn't print in the same way as either a pandas DataFrame or a python list. We'll talk more about that in a minute. For now, let's continue to explore how to select data using .loc.\n",
    "\n",
    "##### Select a row from a pandas DataFrame with .loc\n"
   ]
  },
  {
   "cell_type": "code",
   "execution_count": 27,
   "metadata": {},
   "outputs": [
    {
     "name": "stdout",
     "output_type": "stream",
     "text": [
      "\n",
      "Select the patient1 row:\n",
      "OTU_ID\n",
      "OTU1    3\n",
      "OTU2    4\n",
      "OTU3    1\n",
      "OTU4    2\n",
      "OTU5    0\n",
      "Name: patient1, dtype: int64\n"
     ]
    }
   ],
   "source": [
    "print(\"\\nSelect the patient1 row:\")\n",
    "selected_row = feature_table_transposed.loc['patient1',:]\n",
    "print(selected_row)\n",
    "\n"
   ]
  },
  {
   "cell_type": "markdown",
   "metadata": {},
   "source": [
    "#### Select a single entry in our table using .loc by specifying the row and column names\n",
    "\n",
    "We can combine these types of indices to access the value of a single cell"
   ]
  },
  {
   "cell_type": "code",
   "execution_count": 28,
   "metadata": {},
   "outputs": [
    {
     "name": "stdout",
     "output_type": "stream",
     "text": [
      "\n",
      "Select one cell by specifying row and column:\n",
      "3\n"
     ]
    }
   ],
   "source": [
    "print(\"\\nSelect one cell by specifying row and column:\")\n",
    "selected_row_and_column = feature_table_transposed.loc['patient1','OTU1']\n",
    "print(selected_row_and_column)"
   ]
  },
  {
   "cell_type": "markdown",
   "metadata": {},
   "source": [
    "##### Testing what we get back and converting it to other data formats.\n",
    "\n",
    "We said up above that these pandas Series objects we got back from selecting row or columns of a dataframe don't look quite like either lists or DataFrames. In this case we know the result is a Series, but in cases like this where we don't already know the type of an object we can use the builtin type() function to check the type of any object in python. "
   ]
  },
  {
   "cell_type": "code",
   "execution_count": 29,
   "metadata": {},
   "outputs": [
    {
     "name": "stdout",
     "output_type": "stream",
     "text": [
      "\n",
      "feature_table['OTU1'] is an object of type: <class 'pandas.core.series.Series'>\n"
     ]
    }
   ],
   "source": [
    "selected_column = feature_table_transposed.loc[:,'OTU1']\n",
    "selected_column_type = type(selected_column)\n",
    "\n",
    "#WHAT IS THIS? Print the answer to screen\n",
    "print(\"\\nfeature_table['OTU1'] is an object of type:\", selected_column_type)"
   ]
  },
  {
   "cell_type": "markdown",
   "metadata": {},
   "source": [
    "Great, so we've now proven to ourselves that this is a pandas Series object. We can now do some Googling to find out more about this data type. One great resource is from the Beyond Data Science blog: https://towardsdatascience.com/pandas-series-a-lightweight-intro-b7963a0d62a2. \n",
    "\n",
    "One of the first tasks we might have is to convert this Series back into a basic python type like a list. \n",
    "\n",
    "##### Getting a list out of a pandas Series object\n",
    "\n",
    "Let's say we don't want to work with the data as a series, but instead to convert it to a list. We can do that using the builtin list() function.\n",
    "        "
   ]
  },
  {
   "cell_type": "code",
   "execution_count": 30,
   "metadata": {},
   "outputs": [
    {
     "name": "stdout",
     "output_type": "stream",
     "text": [
      "[3, 4, 2, 2, 0, 4, 4, 4, 0, 3, 2, 2]\n"
     ]
    }
   ],
   "source": [
    "OTU1_data = list(feature_table_transposed.loc[:,\"OTU1\"])\n",
    "print(OTU1_data)"
   ]
  },
  {
   "cell_type": "markdown",
   "metadata": {},
   "source": [
    "##### Getting a numpy array object out of a pandas Series object\n",
    "\n",
    "an alternative way of getting numeric data out of a pandas Series object is by calling its .values property, which returns a numpy array of the data.\n",
    "\n",
    "NOTE: values is a *property* (data stored in the object) not a *method* (function associated with the object. The main reason this matters is because if you call .values() with parentheses by accident, you will get an error"
   ]
  },
  {
   "cell_type": "code",
   "execution_count": 31,
   "metadata": {},
   "outputs": [
    {
     "name": "stdout",
     "output_type": "stream",
     "text": [
      "[3 4 2 2 0 4 4 4 0 3 2 2]\n"
     ]
    }
   ],
   "source": [
    "OTU1_data_as_array = feature_table_transposed.loc[:,\"OTU1\"].values\n",
    "print(OTU1_data_as_array)"
   ]
  },
  {
   "cell_type": "code",
   "execution_count": 32,
   "metadata": {},
   "outputs": [
    {
     "name": "stdout",
     "output_type": "stream",
     "text": [
      "OTU_ID\n",
      "OTU1    3\n",
      "OTU2    4\n",
      "OTU3    1\n",
      "OTU4    2\n",
      "OTU5    0\n",
      "Name: patient1, dtype: int64\n"
     ]
    }
   ],
   "source": [
    "HTML(feature_table.to_html())\n",
    "patient1_data = feature_table_transposed.loc['patient1',:]\n",
    "print(patient1_data)"
   ]
  },
  {
   "cell_type": "markdown",
   "metadata": {},
   "source": [
    "#### Alpha Diversity - Richness\n",
    "\n",
    "Next we will calculate the alpha diversity in this dataset. This is equivalent to calculating how many species are represented in each with counts > 0. (We'll leave aside for the moment important concerns about normalization)"
   ]
  },
  {
   "cell_type": "code",
   "execution_count": 33,
   "metadata": {},
   "outputs": [
    {
     "name": "stdout",
     "output_type": "stream",
     "text": [
      "['patient1' 'patient2' 'patient3' 'patient4' 'patient5' 'patient6'\n",
      " 'patient7' 'patient8' 'patient9' 'patient10' 'patient11' 'patient12']\n"
     ]
    }
   ],
   "source": [
    "#First look up the names of all the samples (so all the column names)\n",
    "print(feature_table.columns.values)"
   ]
  },
  {
   "cell_type": "code",
   "execution_count": 34,
   "metadata": {},
   "outputs": [
    {
     "name": "stdout",
     "output_type": "stream",
     "text": [
      "patient1\n",
      "OTU1\n",
      "OTU2\n",
      "OTU3\n",
      "OTU4\n",
      "OTU5\n",
      "Alpha Diversity for sample: patient1 4\n",
      "patient2\n",
      "OTU1\n",
      "OTU2\n",
      "OTU3\n",
      "OTU4\n",
      "OTU5\n",
      "Alpha Diversity for sample: patient2 4\n",
      "patient3\n",
      "OTU1\n",
      "OTU2\n",
      "OTU3\n",
      "OTU4\n",
      "OTU5\n",
      "Alpha Diversity for sample: patient3 3\n",
      "patient4\n",
      "OTU1\n",
      "OTU2\n",
      "OTU3\n",
      "OTU4\n",
      "OTU5\n",
      "Alpha Diversity for sample: patient4 4\n",
      "patient5\n",
      "OTU1\n",
      "OTU2\n",
      "OTU3\n",
      "OTU4\n",
      "OTU5\n",
      "Alpha Diversity for sample: patient5 3\n",
      "patient6\n",
      "OTU1\n",
      "OTU2\n",
      "OTU3\n",
      "OTU4\n",
      "OTU5\n",
      "Alpha Diversity for sample: patient6 3\n",
      "patient7\n",
      "OTU1\n",
      "OTU2\n",
      "OTU3\n",
      "OTU4\n",
      "OTU5\n",
      "Alpha Diversity for sample: patient7 5\n",
      "patient8\n",
      "OTU1\n",
      "OTU2\n",
      "OTU3\n",
      "OTU4\n",
      "OTU5\n",
      "Alpha Diversity for sample: patient8 5\n",
      "patient9\n",
      "OTU1\n",
      "OTU2\n",
      "OTU3\n",
      "OTU4\n",
      "OTU5\n",
      "Alpha Diversity for sample: patient9 4\n",
      "patient10\n",
      "OTU1\n",
      "OTU2\n",
      "OTU3\n",
      "OTU4\n",
      "OTU5\n",
      "Alpha Diversity for sample: patient10 4\n",
      "patient11\n",
      "OTU1\n",
      "OTU2\n",
      "OTU3\n",
      "OTU4\n",
      "OTU5\n",
      "Alpha Diversity for sample: patient11 5\n",
      "patient12\n",
      "OTU1\n",
      "OTU2\n",
      "OTU3\n",
      "OTU4\n",
      "OTU5\n",
      "Alpha Diversity for sample: patient12 5\n"
     ]
    }
   ],
   "source": [
    "for i in range(12):\n",
    "    sampleid = \"patient%i\" %(i+1)\n",
    "    print(sampleid)\n",
    "    adiv = 0\n",
    "    for i in range(5):\n",
    "        rowid = \"OTU%i\" %(i+1)\n",
    "        print(rowid)\n",
    "        \n",
    "        if feature_table.loc[rowid,sampleid] != 0:\n",
    "            adiv +=1\n",
    "    print(\"Alpha Diversity for sample: %s\" %sampleid,adiv)\n",
    "            "
   ]
  },
  {
   "cell_type": "code",
   "execution_count": 35,
   "metadata": {},
   "outputs": [
    {
     "name": "stdout",
     "output_type": "stream",
     "text": [
      "patient1\n",
      "4\n",
      "patient2\n",
      "4\n",
      "patient3\n",
      "3\n",
      "patient4\n",
      "4\n",
      "patient5\n",
      "3\n",
      "patient6\n",
      "3\n",
      "patient7\n",
      "5\n",
      "patient8\n",
      "5\n",
      "patient9\n",
      "4\n",
      "patient10\n",
      "4\n",
      "patient11\n",
      "5\n",
      "patient12\n",
      "5\n"
     ]
    }
   ],
   "source": [
    "for patient in feature_table.columns.values:\n",
    "    adiv = 0   \n",
    "    patient_otus = feature_table.loc[:,patient]\n",
    "    for otu_count in patient_otus :\n",
    "        if otu_count != 0:\n",
    "            adiv += 1            \n",
    "    print(patient)\n",
    "    print(adiv)"
   ]
  },
  {
   "cell_type": "code",
   "execution_count": 36,
   "metadata": {},
   "outputs": [
    {
     "name": "stdout",
     "output_type": "stream",
     "text": [
      "[[3 4 2 2 0 4 4 4 0 3 2 2]\n",
      " [4 1 3 4 1 3 3 3 4 1 1 4]\n",
      " [1 4 2 1 4 2 2 2 1 4 4 1]\n",
      " [2 3 0 1 2 0 1 2 3 0 2 1]\n",
      " [0 0 0 0 0 0 1 4 2 2 3 4]]\n",
      "Presence/absence table:\n",
      " [[1 1 1 1 0 1 1 1 0 1 1 1]\n",
      " [1 1 1 1 1 1 1 1 1 1 1 1]\n",
      " [1 1 1 1 1 1 1 1 1 1 1 1]\n",
      " [1 1 0 1 1 0 1 1 1 0 1 1]\n",
      " [0 0 0 0 0 0 1 1 1 1 1 1]]\n"
     ]
    }
   ],
   "source": [
    "from numpy import array,where,sum\n",
    "feature_table_as_array = array(feature_table)\n",
    "print(feature_table_as_array)\n",
    "\n",
    "#Convert entries in array that are >1 to 1\n",
    "binary_feature_table = where(feature_table >= 1,1,0)\n",
    "print(\"Presence/absence table:\\n\",binary_feature_table)\n",
    "    "
   ]
  },
  {
   "cell_type": "code",
   "execution_count": 37,
   "metadata": {},
   "outputs": [
    {
     "name": "stdout",
     "output_type": "stream",
     "text": [
      "[4 4 3 4 3 3 5 5 4 4 5 5]\n"
     ]
    }
   ],
   "source": [
    "#Now sum up all the columns\n",
    "alpha_diversity = sum(binary_feature_table,axis=0)\n",
    "print(alpha_diversity)"
   ]
  },
  {
   "cell_type": "markdown",
   "metadata": {},
   "source": [
    "#### Filter rows of a pandas dataframe by column values\n",
    "\n",
    "Let's say we want just the patients *without* OTU5 or *without* OTU4"
   ]
  },
  {
   "cell_type": "code",
   "execution_count": 38,
   "metadata": {},
   "outputs": [
    {
     "data": {
      "text/html": [
       "<table border=\"1\" class=\"dataframe\">\n",
       "  <thead>\n",
       "    <tr style=\"text-align: right;\">\n",
       "      <th></th>\n",
       "      <th>patient1</th>\n",
       "      <th>patient2</th>\n",
       "      <th>patient3</th>\n",
       "      <th>patient4</th>\n",
       "      <th>patient5</th>\n",
       "      <th>patient6</th>\n",
       "      <th>patient7</th>\n",
       "      <th>patient8</th>\n",
       "      <th>patient9</th>\n",
       "      <th>patient10</th>\n",
       "      <th>patient11</th>\n",
       "      <th>patient12</th>\n",
       "    </tr>\n",
       "    <tr>\n",
       "      <th>OTU_ID</th>\n",
       "      <th></th>\n",
       "      <th></th>\n",
       "      <th></th>\n",
       "      <th></th>\n",
       "      <th></th>\n",
       "      <th></th>\n",
       "      <th></th>\n",
       "      <th></th>\n",
       "      <th></th>\n",
       "      <th></th>\n",
       "      <th></th>\n",
       "      <th></th>\n",
       "    </tr>\n",
       "  </thead>\n",
       "  <tbody>\n",
       "    <tr>\n",
       "      <th>OTU1</th>\n",
       "      <td>3</td>\n",
       "      <td>4</td>\n",
       "      <td>2</td>\n",
       "      <td>2</td>\n",
       "      <td>0</td>\n",
       "      <td>4</td>\n",
       "      <td>4</td>\n",
       "      <td>4</td>\n",
       "      <td>0</td>\n",
       "      <td>3</td>\n",
       "      <td>2</td>\n",
       "      <td>2</td>\n",
       "    </tr>\n",
       "    <tr>\n",
       "      <th>OTU2</th>\n",
       "      <td>4</td>\n",
       "      <td>1</td>\n",
       "      <td>3</td>\n",
       "      <td>4</td>\n",
       "      <td>1</td>\n",
       "      <td>3</td>\n",
       "      <td>3</td>\n",
       "      <td>3</td>\n",
       "      <td>4</td>\n",
       "      <td>1</td>\n",
       "      <td>1</td>\n",
       "      <td>4</td>\n",
       "    </tr>\n",
       "    <tr>\n",
       "      <th>OTU3</th>\n",
       "      <td>1</td>\n",
       "      <td>4</td>\n",
       "      <td>2</td>\n",
       "      <td>1</td>\n",
       "      <td>4</td>\n",
       "      <td>2</td>\n",
       "      <td>2</td>\n",
       "      <td>2</td>\n",
       "      <td>1</td>\n",
       "      <td>4</td>\n",
       "      <td>4</td>\n",
       "      <td>1</td>\n",
       "    </tr>\n",
       "    <tr>\n",
       "      <th>OTU4</th>\n",
       "      <td>2</td>\n",
       "      <td>3</td>\n",
       "      <td>0</td>\n",
       "      <td>1</td>\n",
       "      <td>2</td>\n",
       "      <td>0</td>\n",
       "      <td>1</td>\n",
       "      <td>2</td>\n",
       "      <td>3</td>\n",
       "      <td>0</td>\n",
       "      <td>2</td>\n",
       "      <td>1</td>\n",
       "    </tr>\n",
       "    <tr>\n",
       "      <th>OTU5</th>\n",
       "      <td>0</td>\n",
       "      <td>0</td>\n",
       "      <td>0</td>\n",
       "      <td>0</td>\n",
       "      <td>0</td>\n",
       "      <td>0</td>\n",
       "      <td>1</td>\n",
       "      <td>4</td>\n",
       "      <td>2</td>\n",
       "      <td>2</td>\n",
       "      <td>3</td>\n",
       "      <td>4</td>\n",
       "    </tr>\n",
       "  </tbody>\n",
       "</table>"
      ],
      "text/plain": [
       "<IPython.core.display.HTML object>"
      ]
     },
     "execution_count": 38,
     "metadata": {},
     "output_type": "execute_result"
    }
   ],
   "source": [
    "HTML(feature_table.to_html())"
   ]
  },
  {
   "cell_type": "code",
   "execution_count": 39,
   "metadata": {},
   "outputs": [
    {
     "name": "stdout",
     "output_type": "stream",
     "text": [
      "patient1      True\n",
      "patient2      True\n",
      "patient3      True\n",
      "patient4      True\n",
      "patient5      True\n",
      "patient6      True\n",
      "patient7     False\n",
      "patient8     False\n",
      "patient9     False\n",
      "patient10     True\n",
      "patient11    False\n",
      "patient12    False\n",
      "dtype: bool\n"
     ]
    },
    {
     "data": {
      "text/html": [
       "<div>\n",
       "<style scoped>\n",
       "    .dataframe tbody tr th:only-of-type {\n",
       "        vertical-align: middle;\n",
       "    }\n",
       "\n",
       "    .dataframe tbody tr th {\n",
       "        vertical-align: top;\n",
       "    }\n",
       "\n",
       "    .dataframe thead th {\n",
       "        text-align: right;\n",
       "    }\n",
       "</style>\n",
       "<table border=\"1\" class=\"dataframe\">\n",
       "  <thead>\n",
       "    <tr style=\"text-align: right;\">\n",
       "      <th></th>\n",
       "      <th>patient1</th>\n",
       "      <th>patient2</th>\n",
       "      <th>patient3</th>\n",
       "      <th>patient4</th>\n",
       "      <th>patient5</th>\n",
       "      <th>patient6</th>\n",
       "      <th>patient10</th>\n",
       "    </tr>\n",
       "    <tr>\n",
       "      <th>OTU_ID</th>\n",
       "      <th></th>\n",
       "      <th></th>\n",
       "      <th></th>\n",
       "      <th></th>\n",
       "      <th></th>\n",
       "      <th></th>\n",
       "      <th></th>\n",
       "    </tr>\n",
       "  </thead>\n",
       "  <tbody>\n",
       "    <tr>\n",
       "      <th>OTU1</th>\n",
       "      <td>3</td>\n",
       "      <td>4</td>\n",
       "      <td>2</td>\n",
       "      <td>2</td>\n",
       "      <td>0</td>\n",
       "      <td>4</td>\n",
       "      <td>3</td>\n",
       "    </tr>\n",
       "    <tr>\n",
       "      <th>OTU2</th>\n",
       "      <td>4</td>\n",
       "      <td>1</td>\n",
       "      <td>3</td>\n",
       "      <td>4</td>\n",
       "      <td>1</td>\n",
       "      <td>3</td>\n",
       "      <td>1</td>\n",
       "    </tr>\n",
       "    <tr>\n",
       "      <th>OTU3</th>\n",
       "      <td>1</td>\n",
       "      <td>4</td>\n",
       "      <td>2</td>\n",
       "      <td>1</td>\n",
       "      <td>4</td>\n",
       "      <td>2</td>\n",
       "      <td>4</td>\n",
       "    </tr>\n",
       "    <tr>\n",
       "      <th>OTU4</th>\n",
       "      <td>2</td>\n",
       "      <td>3</td>\n",
       "      <td>0</td>\n",
       "      <td>1</td>\n",
       "      <td>2</td>\n",
       "      <td>0</td>\n",
       "      <td>0</td>\n",
       "    </tr>\n",
       "    <tr>\n",
       "      <th>OTU5</th>\n",
       "      <td>0</td>\n",
       "      <td>0</td>\n",
       "      <td>0</td>\n",
       "      <td>0</td>\n",
       "      <td>0</td>\n",
       "      <td>0</td>\n",
       "      <td>2</td>\n",
       "    </tr>\n",
       "  </tbody>\n",
       "</table>\n",
       "</div>"
      ],
      "text/plain": [
       "        patient1  patient2  patient3  patient4  patient5  patient6  patient10\n",
       "OTU_ID                                                                       \n",
       "OTU1           3         4         2         2         0         4          3\n",
       "OTU2           4         1         3         4         1         3          1\n",
       "OTU3           1         4         2         1         4         2          4\n",
       "OTU4           2         3         0         1         2         0          0\n",
       "OTU5           0         0         0         0         0         0          2"
      ]
     },
     "execution_count": 39,
     "metadata": {},
     "output_type": "execute_result"
    }
   ],
   "source": [
    "columns_to_grab = (feature_table.loc['OTU5',:] == 0) | (feature_table.loc['OTU4',:] == 0)\n",
    "print(columns_to_grab)\n",
    "\n",
    "feature_table.loc[:,columns_to_grab]"
   ]
  },
  {
   "cell_type": "markdown",
   "metadata": {},
   "source": [
    "#### Rendering DataFrames as HTML\n",
    "\n",
    "In a Jupyter Notebook, DataFrames can be rendered simpy by typing the variable name holding them on it's own line. However, if working outside of Jupyter notebooks it can be useful to know how to generate HTML versions of these tables where needed. This is shown below:"
   ]
  },
  {
   "cell_type": "code",
   "execution_count": 40,
   "metadata": {},
   "outputs": [
    {
     "data": {
      "text/html": [
       "<table border=\"1\" class=\"dataframe\">\n",
       "  <thead>\n",
       "    <tr style=\"text-align: right;\">\n",
       "      <th></th>\n",
       "      <th>patient1</th>\n",
       "      <th>patient2</th>\n",
       "      <th>patient3</th>\n",
       "      <th>patient4</th>\n",
       "      <th>patient5</th>\n",
       "      <th>patient6</th>\n",
       "      <th>patient7</th>\n",
       "      <th>patient8</th>\n",
       "      <th>patient9</th>\n",
       "      <th>patient10</th>\n",
       "      <th>patient11</th>\n",
       "      <th>patient12</th>\n",
       "    </tr>\n",
       "    <tr>\n",
       "      <th>OTU_ID</th>\n",
       "      <th></th>\n",
       "      <th></th>\n",
       "      <th></th>\n",
       "      <th></th>\n",
       "      <th></th>\n",
       "      <th></th>\n",
       "      <th></th>\n",
       "      <th></th>\n",
       "      <th></th>\n",
       "      <th></th>\n",
       "      <th></th>\n",
       "      <th></th>\n",
       "    </tr>\n",
       "  </thead>\n",
       "  <tbody>\n",
       "    <tr>\n",
       "      <th>OTU1</th>\n",
       "      <td>3</td>\n",
       "      <td>4</td>\n",
       "      <td>2</td>\n",
       "      <td>2</td>\n",
       "      <td>0</td>\n",
       "      <td>4</td>\n",
       "      <td>4</td>\n",
       "      <td>4</td>\n",
       "      <td>0</td>\n",
       "      <td>3</td>\n",
       "      <td>2</td>\n",
       "      <td>2</td>\n",
       "    </tr>\n",
       "    <tr>\n",
       "      <th>OTU2</th>\n",
       "      <td>4</td>\n",
       "      <td>1</td>\n",
       "      <td>3</td>\n",
       "      <td>4</td>\n",
       "      <td>1</td>\n",
       "      <td>3</td>\n",
       "      <td>3</td>\n",
       "      <td>3</td>\n",
       "      <td>4</td>\n",
       "      <td>1</td>\n",
       "      <td>1</td>\n",
       "      <td>4</td>\n",
       "    </tr>\n",
       "    <tr>\n",
       "      <th>OTU3</th>\n",
       "      <td>1</td>\n",
       "      <td>4</td>\n",
       "      <td>2</td>\n",
       "      <td>1</td>\n",
       "      <td>4</td>\n",
       "      <td>2</td>\n",
       "      <td>2</td>\n",
       "      <td>2</td>\n",
       "      <td>1</td>\n",
       "      <td>4</td>\n",
       "      <td>4</td>\n",
       "      <td>1</td>\n",
       "    </tr>\n",
       "    <tr>\n",
       "      <th>OTU4</th>\n",
       "      <td>2</td>\n",
       "      <td>3</td>\n",
       "      <td>0</td>\n",
       "      <td>1</td>\n",
       "      <td>2</td>\n",
       "      <td>0</td>\n",
       "      <td>1</td>\n",
       "      <td>2</td>\n",
       "      <td>3</td>\n",
       "      <td>0</td>\n",
       "      <td>2</td>\n",
       "      <td>1</td>\n",
       "    </tr>\n",
       "    <tr>\n",
       "      <th>OTU5</th>\n",
       "      <td>0</td>\n",
       "      <td>0</td>\n",
       "      <td>0</td>\n",
       "      <td>0</td>\n",
       "      <td>0</td>\n",
       "      <td>0</td>\n",
       "      <td>1</td>\n",
       "      <td>4</td>\n",
       "      <td>2</td>\n",
       "      <td>2</td>\n",
       "      <td>3</td>\n",
       "      <td>4</td>\n",
       "    </tr>\n",
       "  </tbody>\n",
       "</table>"
      ],
      "text/plain": [
       "<IPython.core.display.HTML object>"
      ]
     },
     "execution_count": 40,
     "metadata": {},
     "output_type": "execute_result"
    }
   ],
   "source": [
    "#Converting it to HTML to show it\n",
    "feature_table_to_show = feature_table.to_html()\n",
    "\n",
    "#Show the HTML\n",
    "from IPython.display import HTML\n",
    "feature_table_as_html = HTML(feature_table_to_show)\n",
    "feature_table_as_html"
   ]
  }
 ],
 "metadata": {
  "kernelspec": {
   "display_name": "Python 3",
   "language": "python",
   "name": "python3"
  },
  "language_info": {
   "codemirror_mode": {
    "name": "ipython",
    "version": 3
   },
   "file_extension": ".py",
   "mimetype": "text/x-python",
   "name": "python",
   "nbconvert_exporter": "python",
   "pygments_lexer": "ipython3",
   "version": "3.7.2"
  }
 },
 "nbformat": 4,
 "nbformat_minor": 2
}
