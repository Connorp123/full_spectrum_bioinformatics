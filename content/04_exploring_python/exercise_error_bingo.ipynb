{
 "cells": [
  {
   "cell_type": "markdown",
   "metadata": {},
   "source": [
    "# Exercise: Error Bingo\n",
    "## (AKA In programming, error messages are your friends - even if it doesn't seem like it at first!)\n",
    "\n",
    "\n",
    "\n",
    "<img src=\"./resources/Error_Bingo_Card.png\" width=\"600\" align=\"center\"  description=\"An image of a Bingo Card with the title 'Python Error Bingo!'. The card has 3 rows and 3 columns. On the top row are the words NameError, ValueError and SyntaxError. On the middle row are the words IOError, NameError, ZeroDivisionError. On the bottom row are the words TypeError, SyntaxError, and IndexError.\"/>\n"
   ]
  },
  {
   "cell_type": "markdown",
   "metadata": {},
   "source": [
    "\n",
    "\n",
    "\n",
    "## Background\n",
    "\n",
    "One might imagine that as programmers get more experienced, they get fewer error messages while coding. However, this is rarely the case. Instead, many experienced programmers get roughly similar numbers of error messages as more novice coders, but just get really good at very quickly correcting them. This is especially true in interpreted languages like python, where it is necessary to compile a program before running it. Eventually this happens so quickly for common errors that it barely breaks the flow of typing. Of course, especially subtle  errors can still make everyone pull their hair out. But consciously spending time getting familiar with what types of mistakes produce common error messages is a good way to recognize what an error message is trying to tell you, and to be able to more rapidly fix it. This exercise is designed to practice that process for some common python errors.\n",
    "\n",
    "## Goal\n",
    "\n",
    "Write python code that triggers each type of error. Try to get all the types of error on one row, column or diagonal.\n",
    "\n",
    "\n",
    "\n",
    "\n"
   ]
  }
 ],
 "metadata": {
  "kernelspec": {
   "display_name": "Python 3",
   "language": "python",
   "name": "python3"
  },
  "language_info": {
   "codemirror_mode": {
    "name": "ipython",
    "version": 3
   },
   "file_extension": ".py",
   "mimetype": "text/x-python",
   "name": "python",
   "nbconvert_exporter": "python",
   "pygments_lexer": "ipython3",
   "version": "3.7.2"
  }
 },
 "nbformat": 4,
 "nbformat_minor": 2
}
