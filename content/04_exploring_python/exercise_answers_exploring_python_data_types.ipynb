{
 "cells": [
  {
   "cell_type": "markdown",
   "metadata": {},
   "source": [
    "## Sample Exercise Answers\n",
    "\n",
    "**Exercise 1.** Which Python data structure(s) would you use to represent each of the following types of data, and why? (Note that in some cases there is more than one right answer depending on context - the important part of the exercise is in your consideration). \n",
    "\n",
    "* Which python data structure(s) would you use to represent the number of herbivorous fish on a coral reef?\n",
    "* the number of herbivorous fish on a coral reef, organized by species?\n",
    "* the length of a genome in nucleotides?\n",
    "* the nucleotide sequence of a gene in the human genome (such sequences are represented by the letters A,T,C and G)?\n",
    "5. the function of each gene in a genome (e.g. *Adh1* is a gene that encodes an [alcohol dehydrogense](https://en.wikipedia.org/wiki/Alcohol_dehydrogenase), etc)\n",
    "* the taxonomy of an organism (it's phylum, class, order, family, genus and species)?\n",
    "* the scientific names of all the organisms found in an environment?\n",
    "* the locations of exons in an mRNA (representing each exon as start and stop coordinates relative to the beginning of the mRNA)?"
   ]
  },
  {
   "cell_type": "markdown",
   "metadata": {},
   "source": [
    "* To literally represent the **number of herbivorous fish on a coral reef**, i'd likely use an integer:"
   ]
  },
  {
   "cell_type": "code",
   "execution_count": 2,
   "metadata": {},
   "outputs": [],
   "source": [
    "n_herbivorous_fish = 10082"
   ]
  },
  {
   "cell_type": "markdown",
   "metadata": {},
   "source": [
    "* The **length of a genome in nucleotides** is a whole number - it's not possible to have a partial Adenosine in a genome for example.  Therefore I'd represent that length with an integer. So for example if I was representing the length of [**Escherichia coli** K-12 MG1655](https://www.genome.jp/dbget-bin/www_bget?gn:T00007), I might write something like:"
   ]
  },
  {
   "cell_type": "code",
   "execution_count": null,
   "metadata": {},
   "outputs": [],
   "source": [
    "genome_length = 4641652"
   ]
  },
  {
   "cell_type": "markdown",
   "metadata": {},
   "source": [
    "I'd probably have to think about the variable name a bit to make sure it makes sense in context. If there is only one genome, then genome_length is probably fine as a variable name. If we were comparing the physical length of the genome (if it were cut and unrolled) vs. it's length in nucleotides, then I might need to add to that variable a little bit to specify that it refers to nucleotides. Perhaps in that case I could name the two variables genome_length_nm (nm is the abbreviation for nanometers) or genome_length_nt (nt is a fairly commonly used abbreviation for nucleotides)."
   ]
  },
  {
   "cell_type": "markdown",
   "metadata": {},
   "source": [
    "* **To represent the function of each gene in a genome**, I would probably use a dict with the gene identifiers as keys and the gene functions as values. When I say gene identifiers, I mean unique ids for each gene, similar to a gene name but guaranteed not to overlap with other genes or similar genes in other organisms. Here's an example:"
   ]
  },
  {
   "cell_type": "code",
   "execution_count": 3,
   "metadata": {},
   "outputs": [],
   "source": [
    "gene_functions = {\"Aldh1\": \"Alcohol dehydrogenase\", \"TLR2\":\"Toll-like receptor 2\"}"
   ]
  },
  {
   "cell_type": "markdown",
   "metadata": {},
   "source": [
    "* I would likely **represent the nucleotide sequence of a gene in the human genome** with a **string** object. (Alternatively, one could implement a custom class to handle this type of data - we'll cover this later on)."
   ]
  },
  {
   "cell_type": "code",
   "execution_count": null,
   "metadata": {},
   "outputs": [],
   "source": [
    "dna_seq = \"GACTCGTACGATCGATCGGGGGCAGCATCGACGCGCGCTACGTACGTACTAGCTACGATCGGCGATCGATCGATCACGGGGGGTACA\""
   ]
  },
  {
   "cell_type": "markdown",
   "metadata": {},
   "source": [
    "* To represent the **scientific names of all organisms in an environment** I might use a list. Alternatively, if my input data had duplicates and I wanted a list of each species, I might use a set object:"
   ]
  },
  {
   "cell_type": "code",
   "execution_count": 4,
   "metadata": {},
   "outputs": [
    {
     "name": "stdout",
     "output_type": "stream",
     "text": [
      "3 unique fish species were observed on the reef.\n"
     ]
    }
   ],
   "source": [
    "original_reef_fish_observations = [\"Sparisoma viride\",\"Stegastes planifrons\",\"Acanthurus bahianus\",\n",
    "                        \"Stegastes planifrons\",\"Stegastes planifrons\",\"Stegastes planifrons\",\n",
    "                        \"Sparisoma viride\"]\n",
    "unique_species = set(original_reef_fish_observations)\n",
    "n_unique_species = len(unique_species)\n",
    "print(f\"{n_unique_species} unique fish species were observed on the reef.\")"
   ]
  },
  {
   "cell_type": "markdown",
   "metadata": {},
   "source": [
    "* To represent the **start and stop locations of exons in an mRNA**, I might use a dict of lists. The lists would hold start and stop integers for the indices at which the exon starts and stops in the RNA. As discussed above for DNA sequences, I would probably use a string object to represent the RNA itself: "
   ]
  },
  {
   "cell_type": "code",
   "execution_count": 5,
   "metadata": {},
   "outputs": [
    {
     "name": "stdout",
     "output_type": "stream",
     "text": [
      "The sequence of exon1 is:  CUACGCGCGGCGUAGCUAGCUACGUACGCGCGGCCGUAGUCAGU\n"
     ]
    }
   ],
   "source": [
    "RNA_seq = \"AUGGGCUAGUAGCUACGCGCGGCGUAGCUAGCUACGUACGCGCGGCCGUAGUCAGUAUCGUAGCUGCAUCGAUGCUACGUCGUACG\"\n",
    "exons = {\"exon1\":[12,56],\"exon2\":[67,75]}\n",
    "\n",
    "#The above structure lets us easily cut out exons using string slicing\n",
    "start,stop = exons[\"exon1\"]\n",
    "exon1 = RNA_seq[start:stop]\n",
    "print(\"The sequence of exon1 is: \", exon1)"
   ]
  }
 ],
 "metadata": {
  "kernelspec": {
   "display_name": "Python 3",
   "language": "python",
   "name": "python3"
  },
  "language_info": {
   "codemirror_mode": {
    "name": "ipython",
    "version": 3
   },
   "file_extension": ".py",
   "mimetype": "text/x-python",
   "name": "python",
   "nbconvert_exporter": "python",
   "pygments_lexer": "ipython3",
   "version": "3.7.2"
  }
 },
 "nbformat": 4,
 "nbformat_minor": 2
}
