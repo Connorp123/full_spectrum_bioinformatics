{
 "cells": [
  {
   "cell_type": "markdown",
   "metadata": {},
   "source": [
    "### Rank based methods\n",
    "\n",
    "Consider a case where you hypothesized that your lizard would grow over time, but you had no idea if that growth \n",
    "would go up at a constant rate (linear) or whether it would slow down over time (perhaps logarithmically) or if lizards might have growth spurts at various points.\n",
    "\n",
    "In such a case, we might want a method that could account for any of these possibilities: we just suppose that the lizards keep getting bigger, and never get smaller, but beyond that we don't have any special feelings about whether the increase is linear, logarithmic, or goes up in fits and spurts.\n",
    "\n",
    "In such a case we might choose to use a __rank based__ method. Instead of predicting the exact length of a lizard based on it's age, we would instead merely assert that the youngest lizard is smallest, the oldest lizard is largest, and the ones in the middle sort out according to age. In that case we could replace the y value for the smallest lizard with a 1, the y value for the second largest lizard with a 2, etc. These would then be the *ranks*  of the lizards lengths.\n",
    "\n",
    "If we were doing a normal linear regression of length on age, we would be doing Pearson regression. If we instead regress the *rank* of age on the *rank* of length then we are performing Spearman regression.\n",
    "\n",
    "It turns out that by transforming interval or ratio values into __ranks__ we can produce a range of new methods that make fewer assumptions about our distribution.\n",
    "\n",
    "For each common *parameteric* statistical test from statistics there is likely an equivalent non-parametric or rank-based alternative.\n",
    "\n",
    "| Parametric Test  | Non-parametric Test          |\n",
    "|------------------|------------------------------|\n",
    "|Pearson regression|Spearman regression           |\n",
    "|T-test            |Mann-Whitney U                |\n",
    "|Paired T-test     |Mann-Whitney Signed Rank test |\n",
    "|ANOVA             |Kruskall-Wallace              |\n",
    "\n",
    "\n",
    "\n",
    "Let's consider an example in which each x step increases y exponentially."
   ]
  },
  {
   "cell_type": "code",
   "execution_count": 90,
   "metadata": {},
   "outputs": [
    {
     "data": {
      "text/plain": [
       "[<matplotlib.lines.Line2D at 0x1a1bf93f28>]"
      ]
     },
     "execution_count": 90,
     "metadata": {},
     "output_type": "execute_result"
    },
    {
     "data": {
      "image/png": "[encoded data removed]",
      "text/plain": [
       "<Figure size 432x288 with 1 Axes>"
      ]
     },
     "metadata": {
      "needs_background": "light"
     },
     "output_type": "display_data"
    }
   ],
   "source": [
    "xs = list(range(1,10))\n",
    "from random import randint\n",
    "from math import log\n",
    "\n",
    "def simulate_y(x):\n",
    "    return (3 - 1/x**3)\n",
    "\n",
    "ys = []        \n",
    "for x in xs:\n",
    "    ys.append(simulate_y(x))\n",
    "\n",
    "#Plot the result\n",
    "plot(xs,ys,'ro')"
   ]
  },
  {
   "cell_type": "code",
   "execution_count": 91,
   "metadata": {},
   "outputs": [
    {
     "name": "stdout",
     "output_type": "stream",
     "text": [
      "Spearman r =  1.0\n",
      "Spearman p= 0.0\n",
      "Pearson r =  0.6191269478109577\n",
      "Pearson p= 0.07542274289051659\n"
     ]
    }
   ],
   "source": [
    "#Now let's fit Pearson and Spearman regressions\n",
    "from scipy.stats import spearmanr,pearsonr\n",
    "spearman_rho,p = spearmanr(xs,ys)\n",
    "print(\"Spearman r = \",spearman_rho)\n",
    "print(\"Spearman p=\",p)\n",
    "\n",
    "pearson_r,p = pearsonr(xs,ys)\n",
    "print(\"Pearson r = \",pearson_r)\n",
    "print(\"Pearson p=\",p)"
   ]
  }
 ],
 "metadata": {
  "kernelspec": {
   "display_name": "Python 3",
   "language": "python",
   "name": "python3"
  },
  "language_info": {
   "codemirror_mode": {
    "name": "ipython",
    "version": 3
   },
   "file_extension": ".py",
   "mimetype": "text/x-python",
   "name": "python",
   "nbconvert_exporter": "python",
   "pygments_lexer": "ipython3",
   "version": "3.7.2"
  }
 },
 "nbformat": 4,
 "nbformat_minor": 2
}
