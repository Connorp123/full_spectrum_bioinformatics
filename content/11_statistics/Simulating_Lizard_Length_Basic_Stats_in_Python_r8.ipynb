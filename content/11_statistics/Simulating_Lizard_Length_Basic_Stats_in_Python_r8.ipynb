{
 "cells": [
  {
   "cell_type": "markdown",
   "metadata": {},
   "source": [
    "### Basic statistical tests in python\n",
    "\n",
    "Scipy.stats has many common statistical tests available. Equally usefully, it contains methods for *simulating* data according to many common distributions. Using simulated datasets is a great way to learn about how to apply statistical methods and when they can go wrong. Let's try it out.\n",
    "\n",
    "#### Simulating Lizard Lengths\n",
    "\n",
    "Let's suppose we were studying two species of *Anolis* lizards in the Caribbean. First let's simulate the lengths of lizards from two populations.\n"
   ]
  },
  {
   "cell_type": "code",
   "execution_count": 12,
   "metadata": {},
   "outputs": [
    {
     "name": "stdout",
     "output_type": "stream",
     "text": [
      "Lizards1_sample: [ 6.65062750e+00  1.09079752e+01  5.55096102e-01  9.39320101e+00\n",
      "  8.33000966e+00  1.85920481e+00  9.01049408e+00  9.69136623e+00\n",
      "  2.89178239e+00  1.42338324e+00  8.23260397e+00  6.30454764e+00\n",
      "  5.38413383e+00  2.13000478e+00  6.08355960e+00  1.04016700e+01\n",
      "  4.74352385e+00  6.14865224e-01  4.87482272e+00  1.79838145e+00\n",
      "  3.99770951e+00  1.01030847e+01  7.77438308e+00  8.71498661e+00\n",
      "  4.63463420e+00  6.59947867e+00  6.51091630e+00 -2.79450761e-03\n",
      "  9.78210085e+00  4.71123314e+00  2.76090227e+00  6.41426835e+00\n",
      "  1.08992280e+01  4.48616140e+00  3.72119664e+00  9.81688271e+00\n",
      "  1.00039606e+01  8.37003487e+00  7.00120807e+00  3.85811570e+00\n",
      "  5.75717286e+00  4.45824613e+00  5.37819331e+00  9.37091952e+00\n",
      "  6.77921292e+00  4.40939272e+00  7.49596688e+00  6.52333940e+00\n",
      "  1.24635150e+01  4.45476625e+00  4.03137480e+00 -2.99292945e-01\n",
      "  7.86194195e+00  5.33479296e+00  4.86121976e+00  8.36709527e+00\n",
      "  5.48211137e+00  6.12700530e+00  1.10249157e+01  5.06607351e+00\n",
      "  5.35503950e+00  5.22782109e+00  5.08672412e+00  8.94122123e+00\n",
      "  1.09716790e+01 -2.40705700e+00  6.84645843e+00  8.02470338e+00\n",
      "  8.40895871e+00  7.55102739e+00  1.37052731e+01  1.21248945e+01\n",
      "  8.37383842e+00  6.85931657e+00  9.34492245e+00  6.70558384e+00\n",
      "  5.67467452e+00  3.46975244e+00  8.84302750e+00  1.34849688e+01\n",
      "  1.14659191e+01  7.32169698e+00  3.72226319e+00  1.39874640e-01\n",
      "  7.22505179e+00  8.74746136e+00  9.67629536e+00  1.33642854e+01\n",
      "  6.66124350e+00  6.22289333e+00  1.25983274e+01  6.71464947e+00\n",
      "  3.62063294e+00  7.20234689e+00  8.33903550e+00  8.84672666e+00\n",
      "  9.85530426e+00  1.16969083e+01  1.09129726e+01  9.09385219e+00]\n",
      "Lizards2_sample: [ 9.06180219 12.16189865 11.49099493 23.22994221 11.2233917  11.06949958\n",
      "  3.85149533 12.09249199  2.80318539  4.19630431 13.69452049 17.44039289\n",
      " 11.82407412 14.53997604 31.12833868  1.13429096 18.02243819 12.68748691\n",
      " 13.29249429  1.95607414  9.94070131 12.76047331  3.73238714  6.62628407\n",
      "  3.29924409 13.75750838  6.88887841 15.38275858 10.6785296  12.03185904\n",
      "  5.84278941  8.13613302 16.7238437   9.59198951 15.48658526  7.77092871\n",
      " 13.08267145  1.43141201  0.79182297  4.96597707 11.55927457  3.70271766\n",
      " 17.94356956  2.20943279 16.14183479 17.13988196 17.21105872 12.51543697\n",
      "  4.22848417  9.42471474  9.82550616 15.09308185 15.23655661 13.4664625\n",
      "  8.14701858  7.56539689 10.96534905 12.73543184  7.81100949  5.42213299\n",
      " 12.38513372 12.57059096  8.18408074  2.8708804  12.11039811 14.54986721\n",
      " 14.03919174  6.95193913 11.4826108   8.043756   14.00283962 10.19086061\n",
      " 15.79586423 20.03091453 11.55715713 15.48831891  5.05212519 18.36175819\n",
      "  9.28760086 -1.24064253 15.80047288  4.45864371 13.35944453 11.71975515\n",
      "  6.9730458  10.93510587 -1.66760806 15.09284188  8.72389262  8.88657516\n",
      " 11.51471359 18.37818278 18.48492273 -2.42200659  7.36235095  1.5329014\n",
      "  7.68751672 10.08440504 11.24151938 11.22214832]\n"
     ]
    }
   ],
   "source": [
    "from scipy.stats import ttest_ind,norm\n",
    "\n",
    "n_lizards = 100\n",
    "\n",
    "#Simulate the lengths of lizard population 1 \n",
    "pop_1_mean_size = 7.0\n",
    "#Here we build a normal distribution for population 1\n",
    "lizards1_dist = norm(loc= pop_1_mean_size,scale=3.0)\n",
    "#Then we draw random lizards from that population \n",
    "lizards1_sample = lizards1_dist.rvs(size=n_lizards)\n",
    "print(\"Lizards1_sample:\",lizards1_sample)\n",
    "\n",
    "#Simulate a second lizard population \n",
    "pop_2_mean_size = 10.0\n",
    "lizards2_dist = norm(loc=pop_2_mean_size,scale=5.0)\n",
    "lizards2_sample = lizards2_dist.rvs(size=n_lizards)\n",
    "print(\"Lizards2_sample:\",lizards2_sample)\n"
   ]
  },
  {
   "cell_type": "markdown",
   "metadata": {},
   "source": [
    "#### Let's plot the results\n",
    "\n",
    "The raw numbers above aren't too exciting to look at. Let's construct a histogram of the population so we can see what's going on."
   ]
  },
  {
   "cell_type": "code",
   "execution_count": 13,
   "metadata": {},
   "outputs": [],
   "source": [
    "%matplotlib inline\n",
    "#^ This makes the plots show up in the notebook\n",
    "\n",
    "from matplotlib.pyplot import hist,xlabel,ylabel,show,figure,axvline,subplots\n",
    "from numpy import mean\n",
    "\n",
    "n_bins = 20 # number of histogram bins\n",
    "\n",
    "def plot_lizard_lengths(pop1_sample,pop2_sample,pop1_color='orange',pop2_color='cyan',alpha=0.5,\n",
    "    x_axis_label=\"Measured value\",y_axis_label=\"Frequency in population\"):\n",
    "    \"\"\"Show a histogram of two population samples\n",
    "    pop1_sample -- the sample from population 1. Should be a list or array of numbers. \n",
    "       for example, the observed lengths of lizards\n",
    "    pop2_sample -- the sample from population 2.Should be a list or array of numbers. \n",
    "       for example, the observed lengths of lizards. \n",
    "    pop1_color -- the color for the 1st population in the histogram\n",
    "    pop2_color -- the color for the 2nd population in the histogram\n",
    "    alpha -- how opaque to make the histogram\n",
    "    x_axis_label -- a string with which to label the y-axis \n",
    "    y_axis_label -- a string with which to label the y-axis\n",
    "    \"\"\"\n",
    "\n",
    "    #Make a figure\n",
    "    figure(dpi=300)\n",
    "    \n",
    "    #Plot a histogram of the data from each lizard population on the figure\n",
    "    #NOTE: alpha is a measure of opacity - lower = more transparent\n",
    "    subplots(1,1)\n",
    "    hist(pop1_sample,bins=n_bins,color='orange',alpha=0.5)\n",
    "    hist(pop2_sample,bins=n_bins,color='cyan',alpha=0.5)\n",
    "\n",
    "    #Draw a vertical line at the mean value for the 1st population\n",
    "    pop1_sample_mean = mean(pop1_sample)\n",
    "    axvline(pop1_sample_mean,color='orange')\n",
    "\n",
    "    #Draw a vertical line at the mean value for the 2nd population\n",
    "    pop2_sample_mean = mean(pop2_sample)\n",
    "    axvline(pop2_sample_mean,color='cyan')\n",
    "\n",
    "    xlabel(x_axis_label)\n",
    "    ylabel(y_axis_label)\n",
    "\n",
    "    show()"
   ]
  },
  {
   "cell_type": "code",
   "execution_count": 14,
   "metadata": {},
   "outputs": [
    {
     "data": {
      "text/plain": [
       "<Figure size 1800x1200 with 0 Axes>"
      ]
     },
     "metadata": {},
     "output_type": "display_data"
    },
    {
     "data": {
      "image/png": "[encoded data removed]",
      "text/plain": [
       "<Figure size 432x288 with 1 Axes>"
      ]
     },
     "metadata": {
      "needs_background": "light"
     },
     "output_type": "display_data"
    }
   ],
   "source": [
    "#Now let's run our function on our lizard data to plot it\n",
    "plot_lizard_lengths(lizards1_sample,lizards2_sample,x_axis_label=\"Lizard lengths (cm)\")"
   ]
  },
  {
   "cell_type": "markdown",
   "metadata": {},
   "source": [
    "The graph shows a difference, but it may not be obvious whether that difference could be due to chance. Let's test if the distributions are significantly different using a T-test for independence. "
   ]
  },
  {
   "cell_type": "code",
   "execution_count": 15,
   "metadata": {},
   "outputs": [
    {
     "name": "stdout",
     "output_type": "stream",
     "text": [
      "T statistic: -5.563551825184217\n",
      "p-value: 1.0902299459430002e-07\n",
      "This result meets the conventional threshold for statistical significance\n"
     ]
    }
   ],
   "source": [
    "#NOTE: I set equal var = false because I know these two lizard populatins\n",
    "#have unequal standard deviations and variance\n",
    "t_stat,pval = ttest_ind(lizards1_sample,lizards2_sample,equal_var=False)\n",
    "print(\"T statistic:\",t_stat)\n",
    "print(\"p-value:\",pval)\n",
    "if pval < 0.05:\n",
    "    print (\"This result meets the conventional threshold for statistical significance\")"
   ]
  },
  {
   "cell_type": "markdown",
   "metadata": {},
   "source": [
    "### Effect size vs. significance\n",
    "\n",
    "Generally, *larger* effect sizes (here the difference in means) require *fewer* samples to detect significance. Let's try this out together...\n",
    "\n",
    "\n",
    "1. Try changing the above code so that the difference in lizard lengths between the population is smaller (do this without changing any other parameters). Does the p-value go up (indicating a greater probability of getting the observed difference between populations by chance)?\n",
    "\n",
    "\n",
    "2. Now increase the sample size (number of lizards sampled). What happens to the p-value?\n",
    "\n",
    "3. Are you getting frustrated by doing this manually? We can automate the process in a for loop and find by simulation a more general relationship between effect size and signficance.\n",
    "\n",
    "You an try this yourself or check out the code below..."
   ]
  },
  {
   "cell_type": "markdown",
   "metadata": {},
   "source": [
    "### A larger simulation of effect size, sample size and statistical significance\n",
    "\n",
    "First, let's write our above simulation of lizard populations and then t-test for independence  as a function so it is easier to reuse"
   ]
  },
  {
   "cell_type": "code",
   "execution_count": 16,
   "metadata": {},
   "outputs": [],
   "source": [
    "\n",
    "def simulate_lizard_pop_t_test(pop1_mean,pop2_mean,pop1_std_dev=2.0,pop2_std_dev=2.0,sample_size=100):\n",
    "    \"\"\"Simulate a t-test comparing two lizard populations\"\"\"\n",
    "    \n",
    "    n_lizards = sample_size\n",
    "    #Define a normal distribution for the 1st pop based on the mean and standard deviation\n",
    "    lizards1_dist = norm(loc= pop1_mean,scale=pop1_std_dev)\n",
    "\n",
    "    #Sample from that normal distribution to draw n_lizards (e.g. how many we measured)\n",
    "    lizards1_sample = lizards1_dist.rvs(size=n_lizards)\n",
    "\n",
    "    #Simulate a second lizard population in the same way\n",
    "    lizards2_dist = norm(loc=pop2_mean,scale=pop2_std_dev)\n",
    "    lizards2_sample = lizards2_dist.rvs(size=n_lizards)\n",
    "    \n",
    "    t_stat,pval = ttest_ind(lizards1_sample,lizards2_sample,equal_var=False)\n",
    "    \n",
    "    return pval"
   ]
  },
  {
   "cell_type": "markdown",
   "metadata": {},
   "source": [
    "So if we give this function the true (simulated) means and standard deviations of two populations, along with how many lizards from each population we actually measure, it can return to us a p-value from the T-test for independence. Now let's use this function to plot what happens to our p-values at various effect sizes and sample sizes"
   ]
  },
  {
   "cell_type": "code",
   "execution_count": 18,
   "metadata": {},
   "outputs": [
    {
     "data": {
      "text/plain": [
       "<Figure size 1800x1200 with 0 Axes>"
      ]
     },
     "metadata": {},
     "output_type": "display_data"
    },
    {
     "data": {
      "image/png": "[encoded data removed]",
      "text/plain": [
       "<Figure size 432x288 with 1 Axes>"
      ]
     },
     "metadata": {
      "needs_background": "light"
     },
     "output_type": "display_data"
    },
    {
     "data": {
      "image/png": "[encoded data removed]",
      "text/plain": [
       "<Figure size 432x288 with 1 Axes>"
      ]
     },
     "metadata": {
      "needs_background": "light"
     },
     "output_type": "display_data"
    },
    {
     "data": {
      "image/png": "[encoded data removed]",
      "text/plain": [
       "<Figure size 432x288 with 1 Axes>"
      ]
     },
     "metadata": {
      "needs_background": "light"
     },
     "output_type": "display_data"
    },
    {
     "data": {
      "image/png": "[encoded data removed]",
      "text/plain": [
       "<Figure size 432x288 with 1 Axes>"
      ]
     },
     "metadata": {
      "needs_background": "light"
     },
     "output_type": "display_data"
    }
   ],
   "source": [
    "from matplotlib.pyplot import figure,plot,subplots,axis,legend,axhline\n",
    "from matplotlib.colors import Normalize\n",
    "effect_sizes = [0,1,2,10]\n",
    "sample_sizes = [int(x) for x in range(1,50,1)]\n",
    "\n",
    "#Define population parameters\n",
    "pop1_mean = 70.0\n",
    "\n",
    "# We will define the population 2 mean\n",
    "#below relative to population 1\n",
    "#using the effect size\n",
    "pop2_mean = None \n",
    "\n",
    "#Set the standard deviation \n",
    "#for each population\n",
    "pop1_std_dev = 2.0\n",
    "pop2_std_dev = 2.0\n",
    "\n",
    "n_replicates = 10\n",
    "figure(dpi=300)\n",
    "#Iterate over the effect sizes, making a plot\n",
    "#of p-values vs. sample size for each\n",
    "\n",
    "for effect_size in effect_sizes:\n",
    "    \n",
    "    #This tells matplotlib to make this effect size\n",
    "    #a new subplot\n",
    "    subplots(1,1) \n",
    "    \n",
    "    #Set the x and y axis limits (xmin,xmax,ymin,ymax)\n",
    "    axis([min(sample_sizes),max(sample_sizes),0.0,1.0])\n",
    "    \n",
    "    #We'll store the individual sample sizes\n",
    "    #and p-values in lists\n",
    "    all_pvals = []\n",
    "    all_sample_sizes = [] \n",
    "    \n",
    "    #For now let's just assume that the mean size\n",
    "    #of lizards in population 2 is larger than population 1\n",
    "    #by an amount equal to effect size\n",
    "    pop2_mean = pop1_mean + effect_size\n",
    "    \n",
    "    #Test the p-value we get from a T-test at each sample size\n",
    "    #repeat n_replicates times\n",
    "    for n in sample_sizes:\n",
    "        for i in range(n_replicates):\n",
    "            pval = simulate_lizard_pop_t_test(pop1_mean=pop1_mean,\\\n",
    "                                              pop2_mean=pop2_mean,\\\n",
    "                                              pop1_std_dev = pop1_std_dev,\\\n",
    "                                              pop2_std_dev = pop2_std_dev,\\\n",
    "                                              sample_size = n)\n",
    "            all_pvals.append(pval)\n",
    "            all_sample_sizes.append(n)\n",
    "    \n",
    "    \n",
    "    plot(all_sample_sizes,all_pvals,'o',\\\n",
    "     label=\"Effect size=%s\" %effect_size,alpha=0.25)\n",
    "    \n",
    "    #Label p = 0.05 (the standard cutoff for statistical significance)\n",
    "    #with a horizontal red line\n",
    "    axhline(y=0.05, color='r', linestyle='-')\n",
    "    legend(loc='upper right')\n",
    "    xlabel(\"Sample Size\")\n",
    "    ylabel(\"pvalue\")\n"
   ]
  },
  {
   "cell_type": "markdown",
   "metadata": {},
   "source": [
    "\n",
    "In the above plots the x-axis represents the sample size, while the y-axis represents the p-value for our T-test of independence between the two populations of lizards. Each graph going down is a larger effect size (here the difference in means between the two populations).\n",
    "\n",
    "There are several things to notice here:\n",
    "\n",
    "1. __We get signficant results 5% of the time even if there is *no difference* between the populations__. Even when the effect size is 0 (top graph), some runs of the simulation give significant results. This is represented by p-values below the red line (p < 0.05) in the first graph. These represent *false positive* results (also called Type I errors). By definition, we expect these to occur 5% of the time (that's what we mean when we say p = 0.05!)\n",
    "\n",
    "2. __Increasing sample size gives us greater power to establish that differences between the populations are statistically significant__. If there *is* a true difference in size between the lizard populations (e.g. effect size > 0), then the more lizards we measure (i.e. the larger the sample size), the more likely we are to see that difference as statistically significant. You can verify this by noting that the further right we move on the x-axis in any of the bottom 3 graphs, the more points fall below the threshold for significance of p = 0.05 (i.e. below the red line).\n",
    "\n",
    "3. __As the effect size increases, fewer samples are required to establish statistical significance__. In the second graph, where the lizard populations differ by 1 cm in mean length, we *still* don't always see statistical significance, even when we measure 50 lizards from each population. In the bottom graph, where lizards differ in length by 10cm on average, we only need to measure roughly 5-10 lizards from each population to establish that they significantly differ in length. \n",
    "\n",
    "#### Questions\n",
    "\n",
    "1. How do you think the standard deviation of lengths within the two populations will affect our ability to detect significant differences? For example, if both populations had twice the standard deviation as they do in our simulation, how would you expect that to affect significance across effect sizes? (A qualitative answer is fine for now)\n",
    "\n",
    "2. Check your intuition by modifying the simulation above to use the new parameters for the standard deviation of each population. How big of a deal was this change of variance relative to sample size?"
   ]
  },
  {
   "cell_type": "markdown",
   "metadata": {},
   "source": [
    "### Simulating measuring many islands with identical pairs of populations\n",
    "\n",
    " Let's see what happens if we measured many pairs of lizard populations on different islands. Further, let's assume that all the populations always have the same size!\n",
    " \n",
    "#### Question\n",
    "1. Before you run the simulation, do you think you will see any significant differences between lizard populations on any of the islands? Recall that we simulated a case in which all the lizard populations have the same true distribution of sizes."
   ]
  },
  {
   "cell_type": "code",
   "execution_count": 29,
   "metadata": {},
   "outputs": [],
   "source": [
    "from matplotlib.pyplot import subplot,show\n",
    "### Simulating many identical lizard populations\n",
    "n_islands = 100\n",
    "pop_1_mean_size = 7\n",
    "pop_2_mean_size = 7\n",
    "for i in range(n_islands):\n",
    "    n_lizards = 100\n",
    "\n",
    "    #Simulate the lengths of lizard population 1 \n",
    "    #Assume both lizards are from the same normal distribution\n",
    "    #This is consistent with saying there is no real difference in the\n",
    "    #lengths of the populations\n",
    "    lizards_dist = norm(loc= pop_1_mean_size,scale=3.0)\n",
    "    \n",
    "    lizards1_sample = lizards_dist.rvs(size=n_lizards)\n",
    "    lizards2_sample = lizards_dist.rvs(size=n_lizards)\n",
    "\n",
    "    \n",
    "    #Run a t_test\n",
    "    t_stat,pval = ttest_ind(lizards1_sample,lizards2_sample,equal_var=True)\n",
    "    #print(\"Testing island: \",i, \"T-test result\",t_stat,pval)\n",
    "    if pval <= 0.05/n_islands:\n",
    "        print(\"Found a significant difference on Island %i (T-test, p = %f)!\"%(i,pval))\n",
    "        plot_lizard_lengths(lizards1_sample,lizards2_sample)\n",
    "        \n",
    "        "
   ]
  },
  {
   "cell_type": "markdown",
   "metadata": {},
   "source": [
    "Look at all those 'significant differences'! (If you didn't see any try running again). Recall that in truth the lizard populations *had the same mean*. Therefore all those apparently significant differences are lies! (or at least false positives).\n",
    "\n",
    "There are again several things to notice about the results of this simulation:\n",
    "\n",
    "1. As before, despite the fact that we know for certain that there are no real difference in mean lengths between the two lizard species on any island, we almost always find an island that *appears* to show a significant difference in lengths in our sampling (a *false positive*)\n",
    "\n",
    "\n",
    "2. This is a __really big problem__. Stated succinctly, and more formally, if we run many statistical tests and don't use some sort of correction for multiple comparisons, we *will* get many statistically significant results back that are lies (false positives). The correct way to deal with this is by using a correction for multiple comparisons such as the Bonferroni correction, or to use an alternative approach where we control the percentage of our supposedly significantly results that we will allow to be false positives (False Discovery Rate correction).\n",
    "\n",
    "\n",
    "3. Occasionally in the scientific literature you will encounter procedures where additional replicates are added until a statistically significant result is obtained. For example, this has come up in animal studies where researchers understandably wish to minimize the number of animals that must be sacrificed to do their experiment. However, this continue-until-you-get-significance approach is identical to the procedure that we implemented in code up above. As you can see, unless you use a special statistical method to account for this procedure it will typically produce an extremely high false positive rate. An alternative approach is to estimate the *effect size* for the effect you want to measure, and then design an experiment with sufficient sample size to reliably detect an effect of that magnitude.  \n",
    "\n",
    "### Dealing with multiple comparisons"
   ]
  },
  {
   "cell_type": "code",
   "execution_count": 4,
   "metadata": {},
   "outputs": [],
   "source": [
    "#Bonferroni \n",
    "p_corrected = min(1.0,p*N_comparisons)\n",
    "\n"
   ]
  },
  {
   "cell_type": "markdown",
   "metadata": {},
   "source": [
    "### Rank based methods\n",
    "\n",
    "Consider a case where you hypothesized that your lizard would grow over time, but you had no idea if that growth \n",
    "would go up at a constant rate (linear) or whether it would slow down over time (perhaps logarithmically) or if lizards might have growth spurts at various points.\n",
    "\n",
    "In such a case, we might want a method that could account for any of these possibilities: we just suppose that the lizards keep getting bigger, and never get smaller, but beyond that we don't have any special feelings about whether the increase is linear, logarithmic, or goes up in fits and spurts.\n",
    "\n",
    "In such a case we might choose to use a __rank based__ method. Instead of predicting the exact length of a lizard based on it's age, we would instead merely assert that the youngest lizard is smallest, the oldest lizard is largest, and the ones in the middle sort out according to age. In that case we could replace the y value for the smallest lizard with a 1, the y value for the second largest lizard with a 2, etc. These would then be the *ranks*  of the lizards lengths.\n",
    "\n",
    "If we were doing a normal linear regression of length on age, we would be doing Pearson regression. If we instead regress the *rank* of age on the *rank* of length then we are performing Spearman regression.\n",
    "\n",
    "It turns out that by transforming interval or ratio values into __ranks__ we can produce a range of new methods that make fewer assumptions about our distribution.\n",
    "\n",
    "For each common *parameteric* statistical test from statistics there is likely an equivalent non-parametric or rank-based alternative.\n",
    "\n",
    "| Parametric Test  | Non-parametric Test          |\n",
    "|------------------|------------------------------|\n",
    "|Pearson regression|Spearman regression           |\n",
    "|T-test            |Mann-Whitney U                |\n",
    "|Paired T-test     |Mann-Whitney Signed Rank test |\n",
    "|ANOVA             |Kruskall-Wallace              |\n",
    "\n",
    "\n",
    "\n",
    "Let's consider an example in which each x step increases y exponentially."
   ]
  },
  {
   "cell_type": "code",
   "execution_count": 90,
   "metadata": {},
   "outputs": [
    {
     "data": {
      "text/plain": [
       "[<matplotlib.lines.Line2D at 0x1a1bf93f28>]"
      ]
     },
     "execution_count": 90,
     "metadata": {},
     "output_type": "execute_result"
    },
    {
     "data": {
      "image/png": "[encoded data removed]",
      "text/plain": [
       "<Figure size 432x288 with 1 Axes>"
      ]
     },
     "metadata": {
      "needs_background": "light"
     },
     "output_type": "display_data"
    }
   ],
   "source": [
    "xs = list(range(1,10))\n",
    "from random import randint\n",
    "from math import log\n",
    "\n",
    "def simulate_y(x):\n",
    "    return (3 - 1/x**3)\n",
    "\n",
    "ys = []        \n",
    "for x in xs:\n",
    "    ys.append(simulate_y(x))\n",
    "\n",
    "#Plot the result\n",
    "plot(xs,ys,'ro')"
   ]
  },
  {
   "cell_type": "code",
   "execution_count": 91,
   "metadata": {},
   "outputs": [
    {
     "name": "stdout",
     "output_type": "stream",
     "text": [
      "Spearman r =  1.0\n",
      "Spearman p= 0.0\n",
      "Pearson r =  0.6191269478109577\n",
      "Pearson p= 0.07542274289051659\n"
     ]
    }
   ],
   "source": [
    "#Now let's fit Pearson and Spearman regressions\n",
    "from scipy.stats import spearmanr,pearsonr\n",
    "spearman_rho,p = spearmanr(xs,ys)\n",
    "print(\"Spearman r = \",spearman_rho)\n",
    "print(\"Spearman p=\",p)\n",
    "\n",
    "pearson_r,p = pearsonr(xs,ys)\n",
    "print(\"Pearson r = \",pearson_r)\n",
    "print(\"Pearson p=\",p)"
   ]
  },
  {
   "cell_type": "code",
   "execution_count": null,
   "metadata": {},
   "outputs": [],
   "source": []
  },
  {
   "cell_type": "code",
   "execution_count": null,
   "metadata": {},
   "outputs": [],
   "source": []
  }
 ],
 "metadata": {
  "kernelspec": {
   "display_name": "Python 3",
   "language": "python",
   "name": "python3"
  },
  "language_info": {
   "codemirror_mode": {
    "name": "ipython",
    "version": 3
   },
   "file_extension": ".py",
   "mimetype": "text/x-python",
   "name": "python",
   "nbconvert_exporter": "python",
   "pygments_lexer": "ipython3",
   "version": "3.7.2"
  }
 },
 "nbformat": 4,
 "nbformat_minor": 2
}
