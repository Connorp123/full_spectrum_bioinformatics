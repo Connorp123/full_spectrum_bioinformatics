{
 "cells": [
  {
   "cell_type": "markdown",
   "metadata": {},
   "source": [
    "## Dealing with Mulitple Comparisons\n",
    "\n",
    "Multiple comparisons occur any time you run the same statistical test across many datasets and seek to analyze the pool of significant results that result from your testing. Unless handles carefully, multiple comparisons can yield many false positive results. In this section we will prove this by simulation, and then implement two common and powerful methods for correcting for multiple comparisons.\n",
    "\n",
    "### Simulating measuring many islands with identical pairs of lizard populations\n",
    "\n",
    "Let's imagine two species of lizards live together on 100 different islands. In truth, the two species have identical average lengths. Let's imagine we don't yet know that, and want to see if on some islands their lengths differ. We might, for example, be planning followup analysis to see what it is about the environment on those islands that show different lengths that favors growth of one type of lizard over the other.\n",
    "\n",
    "Let's see what happens if we do our planned measurements, and run T-tests on the lizard species on each island. But remember - in truth the lizard species are exactly the same size on average! Let's see what happens when we run our T-tests on all the islands.\n",
    " \n",
    "**Stop and Think**.  Before you run the simulation, do you think you will see any significant differences between lizard populations on any of the islands? Why or why not?"
   ]
  },
  {
   "cell_type": "code",
   "execution_count": 36,
   "metadata": {},
   "outputs": [],
   "source": [
    "%matplotlib inline\n",
    "#^ This makes the plots show up in the notebook\n",
    "from matplotlib.pyplot import subplot,show,hist,xlabel,ylabel,show,figure,axvline,subplots\n",
    "from numpy import mean\n",
    "from scipy.stats import ttest_ind,norm\n",
    "\n",
    "n_bins = 20 # number of histogram bins\n",
    "\n",
    "def plot_lizard_lengths(pop1_sample,pop2_sample,pop1_color='orange',pop2_color='cyan',alpha=0.5,\n",
    "    x_axis_label=\"Measured value\",y_axis_label=\"Frequency in population\"):\n",
    "    \"\"\"Show a histogram of two population samples\n",
    "    pop1_sample -- the sample from population 1. Should be a list or array of numbers. \n",
    "       for example, the observed lengths of lizards\n",
    "    pop2_sample -- the sample from population 2.Should be a list or array of numbers. \n",
    "       for example, the observed lengths of lizards. \n",
    "    pop1_color -- the color for the 1st population in the histogram\n",
    "    pop2_color -- the color for the 2nd population in the histogram\n",
    "    alpha -- how opaque to make the histogram\n",
    "    x_axis_label -- a string with which to label the y-axis \n",
    "    y_axis_label -- a string with which to label the y-axis\n",
    "    \"\"\"\n",
    "\n",
    "    #Make a figure\n",
    "    figure(dpi=300)\n",
    "    \n",
    "    #Plot a histogram of the data from each lizard population on the figure\n",
    "    #NOTE: alpha is a measure of opacity - lower = more transparent\n",
    "    subplots(1,1)\n",
    "    hist(pop1_sample,bins=n_bins,color='orange',alpha=0.5)\n",
    "    hist(pop2_sample,bins=n_bins,color='cyan',alpha=0.5)\n",
    "\n",
    "    #Draw a vertical line at the mean value for the 1st population\n",
    "    pop1_sample_mean = mean(pop1_sample)\n",
    "    axvline(pop1_sample_mean,color='orange')\n",
    "\n",
    "    #Draw a vertical line at the mean value for the 2nd population\n",
    "    pop2_sample_mean = mean(pop2_sample)\n",
    "    axvline(pop2_sample_mean,color='cyan')\n",
    "\n",
    "    xlabel(x_axis_label)\n",
    "    ylabel(y_axis_label)\n",
    "\n",
    "    show()\n",
    "\n",
    "\n",
    "def evaluate_significance(pop_1_sample,pop2_sample,pval_threshold = 0.05,show_plot=True):\n",
    "    \"\"\"Return the p-value and plot the distribution if sig.\"\"\"\n",
    "    #Run a t_test\n",
    "    t_stat,pval = ttest_ind(lizards1_sample,lizards2_sample,equal_var=True)\n",
    "    #print(\"Testing island: \",i, \"T-test result\",t_stat,pval)\n",
    "    if pval <= pval_threshold and show_plot:\n",
    "        plot_lizard_lengths(lizards1_sample,lizards2_sample)\n",
    "    return pval, pval <= pval_threshold\n",
    "\n",
    "\n",
    "        \n",
    "        "
   ]
  },
  {
   "cell_type": "markdown",
   "metadata": {},
   "source": [
    "## Testing many identical lizard populations for significant differences\n",
    "\n",
    "Now let's use this code to evaluate the significance of differences between lizard populations that are identical. This might seem silly, but bear with me - the results are of fundamental importance to statistical analysis of many types of bioinformatic data."
   ]
  },
  {
   "cell_type": "code",
   "execution_count": 37,
   "metadata": {},
   "outputs": [
    {
     "name": "stdout",
     "output_type": "stream",
     "text": [
      "Testing two lizard populations on island 0 for significance\n",
      "Testing two lizard populations on island 1 for significance\n",
      "Testing two lizard populations on island 2 for significance\n",
      "Testing two lizard populations on island 3 for significance\n"
     ]
    },
    {
     "data": {
      "text/plain": [
       "<Figure size 1800x1200 with 0 Axes>"
      ]
     },
     "metadata": {},
     "output_type": "display_data"
    },
    {
     "data": {
      "image/png": "[encoded data removed]",
      "text/plain": [
       "<Figure size 432x288 with 1 Axes>"
      ]
     },
     "metadata": {
      "needs_background": "light"
     },
     "output_type": "display_data"
    },
    {
     "name": "stdout",
     "output_type": "stream",
     "text": [
      "Found a significant difference on Island 3 (T-test, p = 0.010324)!\n",
      "Testing two lizard populations on island 4 for significance\n",
      "Testing two lizard populations on island 5 for significance\n",
      "Testing two lizard populations on island 6 for significance\n",
      "Testing two lizard populations on island 7 for significance\n",
      "Testing two lizard populations on island 8 for significance\n",
      "Testing two lizard populations on island 9 for significance\n",
      "Testing two lizard populations on island 10 for significance\n",
      "Testing two lizard populations on island 11 for significance\n",
      "Testing two lizard populations on island 12 for significance\n",
      "Testing two lizard populations on island 13 for significance\n",
      "Testing two lizard populations on island 14 for significance\n",
      "Testing two lizard populations on island 15 for significance\n",
      "Testing two lizard populations on island 16 for significance\n",
      "Testing two lizard populations on island 17 for significance\n"
     ]
    },
    {
     "data": {
      "text/plain": [
       "<Figure size 1800x1200 with 0 Axes>"
      ]
     },
     "metadata": {},
     "output_type": "display_data"
    },
    {
     "data": {
      "image/png": "[encoded data removed]",
      "text/plain": [
       "<Figure size 432x288 with 1 Axes>"
      ]
     },
     "metadata": {
      "needs_background": "light"
     },
     "output_type": "display_data"
    },
    {
     "name": "stdout",
     "output_type": "stream",
     "text": [
      "Found a significant difference on Island 17 (T-test, p = 0.014214)!\n",
      "Testing two lizard populations on island 18 for significance\n",
      "Testing two lizard populations on island 19 for significance\n",
      "Testing two lizard populations on island 20 for significance\n",
      "Testing two lizard populations on island 21 for significance\n"
     ]
    },
    {
     "data": {
      "text/plain": [
       "<Figure size 1800x1200 with 0 Axes>"
      ]
     },
     "metadata": {},
     "output_type": "display_data"
    },
    {
     "data": {
      "image/png": "[encoded data removed]",
      "text/plain": [
       "<Figure size 432x288 with 1 Axes>"
      ]
     },
     "metadata": {
      "needs_background": "light"
     },
     "output_type": "display_data"
    },
    {
     "name": "stdout",
     "output_type": "stream",
     "text": [
      "Found a significant difference on Island 21 (T-test, p = 0.042869)!\n",
      "Testing two lizard populations on island 22 for significance\n",
      "Testing two lizard populations on island 23 for significance\n",
      "Testing two lizard populations on island 24 for significance\n",
      "Testing two lizard populations on island 25 for significance\n",
      "Testing two lizard populations on island 26 for significance\n",
      "Testing two lizard populations on island 27 for significance\n",
      "Testing two lizard populations on island 28 for significance\n",
      "Testing two lizard populations on island 29 for significance\n",
      "Testing two lizard populations on island 30 for significance\n",
      "Testing two lizard populations on island 31 for significance\n",
      "Testing two lizard populations on island 32 for significance\n",
      "Testing two lizard populations on island 33 for significance\n",
      "Testing two lizard populations on island 34 for significance\n",
      "Testing two lizard populations on island 35 for significance\n",
      "Testing two lizard populations on island 36 for significance\n",
      "Testing two lizard populations on island 37 for significance\n",
      "Testing two lizard populations on island 38 for significance\n",
      "Testing two lizard populations on island 39 for significance\n",
      "Testing two lizard populations on island 40 for significance\n",
      "Testing two lizard populations on island 41 for significance\n",
      "Testing two lizard populations on island 42 for significance\n",
      "Testing two lizard populations on island 43 for significance\n"
     ]
    },
    {
     "data": {
      "text/plain": [
       "<Figure size 1800x1200 with 0 Axes>"
      ]
     },
     "metadata": {},
     "output_type": "display_data"
    },
    {
     "data": {
      "image/png": "[encoded data removed]",
      "text/plain": [
       "<Figure size 432x288 with 1 Axes>"
      ]
     },
     "metadata": {
      "needs_background": "light"
     },
     "output_type": "display_data"
    },
    {
     "name": "stdout",
     "output_type": "stream",
     "text": [
      "Found a significant difference on Island 43 (T-test, p = 0.041361)!\n",
      "Testing two lizard populations on island 44 for significance\n",
      "Testing two lizard populations on island 45 for significance\n",
      "Testing two lizard populations on island 46 for significance\n",
      "Testing two lizard populations on island 47 for significance\n",
      "Testing two lizard populations on island 48 for significance\n"
     ]
    },
    {
     "data": {
      "text/plain": [
       "<Figure size 1800x1200 with 0 Axes>"
      ]
     },
     "metadata": {},
     "output_type": "display_data"
    },
    {
     "data": {
      "image/png": "[encoded data removed]",
      "text/plain": [
       "<Figure size 432x288 with 1 Axes>"
      ]
     },
     "metadata": {
      "needs_background": "light"
     },
     "output_type": "display_data"
    },
    {
     "name": "stdout",
     "output_type": "stream",
     "text": [
      "Found a significant difference on Island 48 (T-test, p = 0.033673)!\n",
      "Testing two lizard populations on island 49 for significance\n",
      "Testing two lizard populations on island 50 for significance\n",
      "Testing two lizard populations on island 51 for significance\n",
      "Testing two lizard populations on island 52 for significance\n",
      "Testing two lizard populations on island 53 for significance\n",
      "Testing two lizard populations on island 54 for significance\n",
      "Testing two lizard populations on island 55 for significance\n",
      "Testing two lizard populations on island 56 for significance\n",
      "Testing two lizard populations on island 57 for significance\n",
      "Testing two lizard populations on island 58 for significance\n",
      "Testing two lizard populations on island 59 for significance\n",
      "Testing two lizard populations on island 60 for significance\n",
      "Testing two lizard populations on island 61 for significance\n",
      "Testing two lizard populations on island 62 for significance\n",
      "Testing two lizard populations on island 63 for significance\n",
      "Testing two lizard populations on island 64 for significance\n",
      "Testing two lizard populations on island 65 for significance\n",
      "Testing two lizard populations on island 66 for significance\n"
     ]
    },
    {
     "data": {
      "text/plain": [
       "<Figure size 1800x1200 with 0 Axes>"
      ]
     },
     "metadata": {},
     "output_type": "display_data"
    },
    {
     "data": {
      "image/png": "[encoded data removed]",
      "text/plain": [
       "<Figure size 432x288 with 1 Axes>"
      ]
     },
     "metadata": {
      "needs_background": "light"
     },
     "output_type": "display_data"
    },
    {
     "name": "stdout",
     "output_type": "stream",
     "text": [
      "Found a significant difference on Island 66 (T-test, p = 0.041453)!\n",
      "Testing two lizard populations on island 67 for significance\n",
      "Testing two lizard populations on island 68 for significance\n",
      "Testing two lizard populations on island 69 for significance\n",
      "Testing two lizard populations on island 70 for significance\n",
      "Testing two lizard populations on island 71 for significance\n",
      "Testing two lizard populations on island 72 for significance\n",
      "Testing two lizard populations on island 73 for significance\n",
      "Testing two lizard populations on island 74 for significance\n",
      "Testing two lizard populations on island 75 for significance\n",
      "Testing two lizard populations on island 76 for significance\n",
      "Testing two lizard populations on island 77 for significance\n"
     ]
    },
    {
     "data": {
      "text/plain": [
       "<Figure size 1800x1200 with 0 Axes>"
      ]
     },
     "metadata": {},
     "output_type": "display_data"
    },
    {
     "data": {
      "image/png": "[encoded data removed]",
      "text/plain": [
       "<Figure size 432x288 with 1 Axes>"
      ]
     },
     "metadata": {
      "needs_background": "light"
     },
     "output_type": "display_data"
    },
    {
     "name": "stdout",
     "output_type": "stream",
     "text": [
      "Found a significant difference on Island 77 (T-test, p = 0.019799)!\n",
      "Testing two lizard populations on island 78 for significance\n",
      "Testing two lizard populations on island 79 for significance\n",
      "Testing two lizard populations on island 80 for significance\n",
      "Testing two lizard populations on island 81 for significance\n",
      "Testing two lizard populations on island 82 for significance\n",
      "Testing two lizard populations on island 83 for significance\n",
      "Testing two lizard populations on island 84 for significance\n",
      "Testing two lizard populations on island 85 for significance\n",
      "Testing two lizard populations on island 86 for significance\n",
      "Testing two lizard populations on island 87 for significance\n",
      "Testing two lizard populations on island 88 for significance\n",
      "Testing two lizard populations on island 89 for significance\n",
      "Testing two lizard populations on island 90 for significance\n",
      "Testing two lizard populations on island 91 for significance\n",
      "Testing two lizard populations on island 92 for significance\n",
      "Testing two lizard populations on island 93 for significance\n",
      "Testing two lizard populations on island 94 for significance\n",
      "Testing two lizard populations on island 95 for significance\n",
      "Testing two lizard populations on island 96 for significance\n",
      "Testing two lizard populations on island 97 for significance\n",
      "Testing two lizard populations on island 98 for significance\n",
      "Testing two lizard populations on island 99 for significance\n"
     ]
    }
   ],
   "source": [
    "### Simulating many identical lizard populations\n",
    "n_islands = 100\n",
    "#Set population means *equal*\n",
    "#this means there are no real differences\n",
    "#between populations.\n",
    "pop_1_mean_size = 7\n",
    "pop_2_mean_size = 7\n",
    "for i in range(n_islands):\n",
    "    n_lizards = 100\n",
    "    #Simulate the lengths of lizard population 1 \n",
    "    #Assume both lizards are from the same normal distribution\n",
    "    #This is consistent with saying there is no real difference in the\n",
    "    #lengths of the populations\n",
    "    lizards_dist = norm(loc= pop_1_mean_size,scale=3.0)\n",
    "    \n",
    "    lizards1_sample = lizards_dist.rvs(size=n_lizards)\n",
    "    lizards2_sample = lizards_dist.rvs(size=n_lizards)\n",
    "    print(\"Testing two lizard populations on island %i for significance\" %i)\n",
    "    pval, sig = evaluate_significance(lizards1_sample,lizards2_sample)\n",
    "    if sig:\n",
    "        print(\"Found a significant difference on Island %i (T-test, p = %f)!\"%(i,pval))\n",
    "    "
   ]
  },
  {
   "cell_type": "markdown",
   "metadata": {},
   "source": [
    "Look at all those 'significant differences'! (If you didn't see any try running again). Recall that in truth the lizard populations __*all had the same mean*__. Therefore all those apparently significant differences are lies! (or at least false positives).\n",
    "\n",
    "There are again several things to notice about the results of this simulation:\n",
    "\n",
    "1. Despite the fact that we know for certain that there are no real difference in mean lengths between the two lizard species on any island, we almost always find an island that *appears* to show a significant difference in lengths in our sampling. This is called a *false positive* result.\n",
    "\n",
    "\n",
    "2. This is a __really big problem__. Stated succinctly, and more formally, if we run many statistical tests and don't use some sort of correction for multiple comparisons, we *will* get many statistically significant results back that are lies (false positives). The correct way to deal with this is by using a correction for multiple comparisons such as the Bonferroni correction, or to use an alternative approach where we control the percentage of our supposedly significantly results that we will allow to be false positives (False Discovery Rate correction).\n",
    "\n",
    "  \n"
   ]
  },
  {
   "cell_type": "markdown",
   "metadata": {},
   "source": [
    "\n",
    "## Dealing with multiple comparisons\n",
    "\n",
    "The nature of p-values means that given a large number of tests, 5% will appear significant at p = 0.05, *even if there is no real difference*. This is very relevant to bioinformatics, because we are frequently analyzing large sets of genes, transcript abundances or metabolites to find candidates that are relevant to our problem. Luckily, there are methods that can help to protect us against multiple comparisons when doing statistical analysis.\n",
    "\n",
    "#### Bonferroni correction \n",
    "\n",
    "One simple approach called Bonferroni correction is to divide our p-value threshold for significance by the number of tests produced. So if we normally expect 1 false positive in 20 tests at p= 0.05 (if we naiively didn't correct for multiple comparisons), our Bonferroni threshold for significance would be 0.05 / 20 = 0.0025. Then after running 20 comparisons, we expect on average 0.05 false positive results (20 * 0.0025). Thus the Bonferroni procedure gives us a new significance threshold that limits the chances of observing *even one* significant result *out of all the tests conducted* to < 5% if the null hypothesis is correct.\n",
    "\n",
    "> Bonferroni corrected p-values give the chances of observing *at least one* significant result *out of all the tests conducted* under the null hypothesis. Thus a positive (p < 0.05) result after Boneferroni correction indicates that there is a less than 5% chance of getting *any* false positives among the entire family of positive test results. Thus this value is sometimes called the Family-Wise Error Rate (FWER)\n"
   ]
  },
  {
   "cell_type": "markdown",
   "metadata": {},
   "source": [
    "#### Redoing our lizard simulation with Bonferroni correction\n",
    "\n",
    "We will now redo our lizard-measuring simulation, but implement Bonferroni correction by passing a lower p-value threshold to our evaluate_significance function. The correct p-value threshold is the nominal p-value we want (0.05) divided by the number of tests we are going to run (here n_islands). Once we do so, we should have only a 5% risk of getting a false positive on *any* island if all the populations are the same."
   ]
  },
  {
   "cell_type": "code",
   "execution_count": 38,
   "metadata": {},
   "outputs": [
    {
     "name": "stdout",
     "output_type": "stream",
     "text": [
      "Testing two lizard populations on island 0 for significance\n",
      "Testing two lizard populations on island 1 for significance\n",
      "Testing two lizard populations on island 2 for significance\n",
      "Testing two lizard populations on island 3 for significance\n",
      "Testing two lizard populations on island 4 for significance\n",
      "Testing two lizard populations on island 5 for significance\n",
      "Testing two lizard populations on island 6 for significance\n",
      "Testing two lizard populations on island 7 for significance\n",
      "Testing two lizard populations on island 8 for significance\n",
      "Testing two lizard populations on island 9 for significance\n",
      "Testing two lizard populations on island 10 for significance\n",
      "Testing two lizard populations on island 11 for significance\n",
      "Testing two lizard populations on island 12 for significance\n",
      "Testing two lizard populations on island 13 for significance\n",
      "Testing two lizard populations on island 14 for significance\n",
      "Testing two lizard populations on island 15 for significance\n",
      "Testing two lizard populations on island 16 for significance\n",
      "Testing two lizard populations on island 17 for significance\n",
      "Testing two lizard populations on island 18 for significance\n",
      "Testing two lizard populations on island 19 for significance\n",
      "Testing two lizard populations on island 20 for significance\n",
      "Testing two lizard populations on island 21 for significance\n",
      "Testing two lizard populations on island 22 for significance\n",
      "Testing two lizard populations on island 23 for significance\n",
      "Testing two lizard populations on island 24 for significance\n",
      "Testing two lizard populations on island 25 for significance\n",
      "Testing two lizard populations on island 26 for significance\n",
      "Testing two lizard populations on island 27 for significance\n",
      "Testing two lizard populations on island 28 for significance\n",
      "Testing two lizard populations on island 29 for significance\n",
      "Testing two lizard populations on island 30 for significance\n",
      "Testing two lizard populations on island 31 for significance\n",
      "Testing two lizard populations on island 32 for significance\n",
      "Testing two lizard populations on island 33 for significance\n",
      "Testing two lizard populations on island 34 for significance\n",
      "Testing two lizard populations on island 35 for significance\n",
      "Testing two lizard populations on island 36 for significance\n",
      "Testing two lizard populations on island 37 for significance\n",
      "Testing two lizard populations on island 38 for significance\n",
      "Testing two lizard populations on island 39 for significance\n",
      "Testing two lizard populations on island 40 for significance\n",
      "Testing two lizard populations on island 41 for significance\n",
      "Testing two lizard populations on island 42 for significance\n",
      "Testing two lizard populations on island 43 for significance\n",
      "Testing two lizard populations on island 44 for significance\n",
      "Testing two lizard populations on island 45 for significance\n",
      "Testing two lizard populations on island 46 for significance\n",
      "Testing two lizard populations on island 47 for significance\n",
      "Testing two lizard populations on island 48 for significance\n",
      "Testing two lizard populations on island 49 for significance\n",
      "Testing two lizard populations on island 50 for significance\n",
      "Testing two lizard populations on island 51 for significance\n",
      "Testing two lizard populations on island 52 for significance\n",
      "Testing two lizard populations on island 53 for significance\n",
      "Testing two lizard populations on island 54 for significance\n",
      "Testing two lizard populations on island 55 for significance\n",
      "Testing two lizard populations on island 56 for significance\n",
      "Testing two lizard populations on island 57 for significance\n",
      "Testing two lizard populations on island 58 for significance\n",
      "Testing two lizard populations on island 59 for significance\n",
      "Testing two lizard populations on island 60 for significance\n",
      "Testing two lizard populations on island 61 for significance\n",
      "Testing two lizard populations on island 62 for significance\n",
      "Testing two lizard populations on island 63 for significance\n",
      "Testing two lizard populations on island 64 for significance\n",
      "Testing two lizard populations on island 65 for significance\n",
      "Testing two lizard populations on island 66 for significance\n",
      "Testing two lizard populations on island 67 for significance\n",
      "Testing two lizard populations on island 68 for significance\n",
      "Testing two lizard populations on island 69 for significance\n",
      "Testing two lizard populations on island 70 for significance\n",
      "Testing two lizard populations on island 71 for significance\n",
      "Testing two lizard populations on island 72 for significance\n",
      "Testing two lizard populations on island 73 for significance\n",
      "Testing two lizard populations on island 74 for significance\n",
      "Testing two lizard populations on island 75 for significance\n",
      "Testing two lizard populations on island 76 for significance\n",
      "Testing two lizard populations on island 77 for significance\n",
      "Testing two lizard populations on island 78 for significance\n",
      "Testing two lizard populations on island 79 for significance\n",
      "Testing two lizard populations on island 80 for significance\n",
      "Testing two lizard populations on island 81 for significance\n",
      "Testing two lizard populations on island 82 for significance\n",
      "Testing two lizard populations on island 83 for significance\n",
      "Testing two lizard populations on island 84 for significance\n",
      "Testing two lizard populations on island 85 for significance\n",
      "Testing two lizard populations on island 86 for significance\n",
      "Testing two lizard populations on island 87 for significance\n",
      "Testing two lizard populations on island 88 for significance\n",
      "Testing two lizard populations on island 89 for significance\n",
      "Testing two lizard populations on island 90 for significance\n",
      "Testing two lizard populations on island 91 for significance\n",
      "Testing two lizard populations on island 92 for significance\n",
      "Testing two lizard populations on island 93 for significance\n",
      "Testing two lizard populations on island 94 for significance\n",
      "Testing two lizard populations on island 95 for significance\n",
      "Testing two lizard populations on island 96 for significance\n",
      "Testing two lizard populations on island 97 for significance\n",
      "Testing two lizard populations on island 98 for significance\n",
      "Testing two lizard populations on island 99 for significance\n"
     ]
    }
   ],
   "source": [
    "### Simulating many identical lizard populations\n",
    "n_islands = 100\n",
    "pval_threshold = 0.05/n_islands\n",
    "#Set population means *equal*\n",
    "#this means there are no real differences\n",
    "#between populations.\n",
    "pop_1_mean_size = 7\n",
    "pop_2_mean_size = 7\n",
    "\n",
    "for i in range(n_islands):\n",
    "    n_lizards = 100\n",
    "    #Simulate the lengths of lizard population 1 \n",
    "    #Assume both lizards are from the same normal distribution\n",
    "    #This is consistent with saying there is no real difference in the\n",
    "    #lengths of the populations\n",
    "    lizards_dist = norm(loc= pop_1_mean_size,scale=3.0)\n",
    "    \n",
    "    lizards1_sample = lizards_dist.rvs(size=n_lizards)\n",
    "    lizards2_sample = lizards_dist.rvs(size=n_lizards)\n",
    "    print(\"Testing two lizard populations on island %i for significance\" %i)\n",
    "    pval, sig = evaluate_significance(lizards1_sample,lizards2_sample,pval_threshold=pval_threshold)\n",
    "    if sig:\n",
    "        print(\"Found a significant difference on Island %i (T-test, p = %f)!\"%(i,pval))"
   ]
  },
  {
   "cell_type": "markdown",
   "metadata": {},
   "source": [
    "Unless we got very unlucky, we should have seen that following Bonferroni correction we see no significant results across all 100 islands. In rare cases, we might have 1 false positives. But it is not typical to see ~5 false positives every time as it would be without Bonferroni correction."
   ]
  },
  {
   "cell_type": "markdown",
   "metadata": {},
   "source": [
    "#### Bonferroni correction is not a Free Lunch.\n",
    "\n",
    "It may appear we have solved the problem, but this is only partially true. Bonferroni correction protected us against false positives, and is essential if we are doing many tests, but this protection came at a cost. By lowering the threshold for significance, Bonferroni correction reduces our power to detect any real differences between the populations! \n",
    "\n",
    "> Bonferroni correction protects against false positives, but reduces statistical power - your ability to detect true differences.\n",
    "\n",
    "Ultimately, the problem isn't really with Bonferroni correction, it's with the way we are running our tests: we're comparing lizards across 100 islands for differences in length, but don't have any compelling reason to think that some of them will in fact be different. This type of approach is sometimes called **Data Dredging**. It can be useful (as long as appropriate corrections for multiple comparisons - like the Bonferroni correction - are used). However, if instead we had some way to target, for example, the 10 islands that were most likely to have length differences, we could still use Bonferroni correction but have 10 times greater power to detect those length differences. This suggests a take-home message:\n",
    "\n",
    "> To maximize statistical power, target your statistical tests to your biological hypotheses, rather than running all possible tests."
   ]
  },
  {
   "cell_type": "markdown",
   "metadata": {},
   "source": [
    "#### Controlling the False Discovery Rate to Allow for False Positives\n",
    "\n",
    "Bonferroni correction is a robust and strict solution if we want to protect ourselves from false positive results. However, as we saw it greatly reduces our statistical power to detect true positive trends if we are running many tests. We can't do better than the Bonferroni correction without either making additional assumptions about our data, or asking a slightly different question. \n",
    "\n",
    "However, in real world situations, we may sometimes be willing to accept some false positives. For example, imagine we are screening a huge library of chemical compounds for new compounds with antiviral activity. We want to ensure that we find any compounds that have potent antiviral activity, and we want to limit how many compounds that are really duds (i.e. with no antiviral activity) we incldue in the final pool.\n",
    "\n",
    "**False Discovery Rate** control is a procedure in which we state that we are willing to accept that a certain percentage of the results that come back as significant are lies (false postives). In mathematical notation, we denote this percentage as q. In many screening applications like the one above, it can be useful to allow for a q of e.g. 0.05. We would then expect that 95% of the positive results we get would have antiviral activity, while 5% would be false positives. Note that this is different from the standard if we ran a Bonferroni correction to our tests: then we would be limiting the risk that *any one* of our antiviral drugs for which we reported activity would be a false positive. However, this same strictness may cause the Bonferroni-corrected screen to miss some real drug candidates!\n",
    "\n",
    "> **False Discovery Rate** control sets a q-value that controls the average percentage of false positive results we're willing to accept in the final pool of positive results. They are especially useful when follow-up tests will be preformed on each positive result identified.\n",
    "\n",
    "#### False Discovery Rate control in python\n",
    "\n",
    "One small complication to using FDR control is that typically a list of p-values is required. So unlike Bonferroni correction, which can be applied to a single p-value, FDR control typically requires a list of p-values. So when doing FDR control in python, you have to keep track of the p-values in a list, and then perform FDR control at the end of your analysis, after all tests have finished running.\n",
    "\n",
    "Here's an example using an existing function from the [statsmodels](https://www.statsmodels.org/dev/install.html) library (part of the Anaconda python distribution) for implementing [FDR control using the popular Benjamini-Hochberg procedure](https://en.wikipedia.org/wiki/False_discovery_rate). We'll apply it to our lizard islands.\n",
    "\n"
   ]
  },
  {
   "cell_type": "code",
   "execution_count": 35,
   "metadata": {},
   "outputs": [
    {
     "name": "stdout",
     "output_type": "stream",
     "text": [
      "Resulting significance after FDR control: [False False False False False False False False False False False False\n",
      " False False False False False False False False False False False False\n",
      " False False False False False False False False False False False False\n",
      " False False False False False False False False False False False False\n",
      " False False False False False False False False False False False False\n",
      " False False False False False False False False False False False False\n",
      " False False False False False False False False False False False False\n",
      " False False False False False False False False False False False False\n",
      " False False False False]\n"
     ]
    }
   ],
   "source": [
    "from statsmodels.stats.multitest import multipletests\n",
    "\n",
    "\n",
    "\n",
    "### Simulating many identical lizard populations\n",
    "n_islands = 100\n",
    "#Don't apply Bonferroni correction if we're controlling FDR!\n",
    "pval_threshold = 0.05\n",
    "pop_1_mean_size = 7\n",
    "pop_2_mean_size = 7\n",
    "\n",
    "#keep track of p-values in a variable so we can use FDR control\n",
    "pvals = []\n",
    "for i in range(n_islands):\n",
    "    n_lizards = 100\n",
    "    lizards_dist = norm(loc= pop_1_mean_size,scale=3.0)\n",
    "    \n",
    "    lizards1_sample = lizards_dist.rvs(size=n_lizards)\n",
    "    lizards2_sample = lizards_dist.rvs(size=n_lizards)\n",
    "    pval, sig = evaluate_significance(lizards1_sample,lizards2_sample,pval_threshold=pval_threshold,show_plot=False)\n",
    "    pvals.append(pval)\n",
    "    \n",
    "sigs,corrected_pvals,_,_ = multipletests(pvals, alpha=0.05, method='fdr_bh', is_sorted=False, returnsorted=False)\n",
    "print(\"Resulting significance after FDR control:\", sigs)\n",
    "for i,result in enumerate(sigs):\n",
    "    if result:\n",
    "        print(\"Significant result found on Island %i\" %i)\n",
    "    \n"
   ]
  }
 ],
 "metadata": {
  "kernelspec": {
   "display_name": "Python 3",
   "language": "python",
   "name": "python3"
  },
  "language_info": {
   "codemirror_mode": {
    "name": "ipython",
    "version": 3
   },
   "file_extension": ".py",
   "mimetype": "text/x-python",
   "name": "python",
   "nbconvert_exporter": "python",
   "pygments_lexer": "ipython3",
   "version": "3.7.2"
  }
 },
 "nbformat": 4,
 "nbformat_minor": 2
}
