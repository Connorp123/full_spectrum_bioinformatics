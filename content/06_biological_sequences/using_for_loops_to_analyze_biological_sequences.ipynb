{
 "cells": [
  {
   "cell_type": "markdown",
   "metadata": {},
   "source": [
    "# Analyzing Biological Sequences using For Loops and If statements\n",
    "\n",
    "This section analyzes how to analyze biological sequences using lists and for loops in python.\n",
    "\n",
    "#### Prerequisites for this section\n",
    "* Have Anaconda python installed\n",
    "* Be familiar with how to run python\n",
    "* Be familiar with the Central Dogma of Molecular Biology, and how to represent DNA,RNA, and Protein sequences using python strings.\n",
    "\n",
    "* Be familiar with how to use python like a calculator including:\n",
    "   * assigning variables\n",
    "   * order of operations\n",
    "   * multiplication and division\n",
    "   * basic string operations\n",
    "   \n",
    "#### In this section you will learn\n",
    "* Use the string count method to measure the composition of a biological sequence\n",
    "* Calculate the GC content of a DNA sequence\n",
    "* Use 'for loops' to simplify repetitive code\n",
    "* The principle of DRY (do not repeat yourself) coding\n",
    "* How to use 'if statements' to let your code handle different conditions\n"
   ]
  },
  {
   "cell_type": "markdown",
   "metadata": {},
   "source": [
    "## Using python strings to represent biological sequences"
   ]
  },
  {
   "cell_type": "markdown",
   "metadata": {},
   "source": [
    "## Using for loops and dictionaries to analyze biological sequences."
   ]
  },
  {
   "cell_type": "markdown",
   "metadata": {},
   "source": [
    "#### Application: Calculate GC content\n",
    "\n",
    "The [GC content](https://en.wikipedia.org/wiki/GC-content#Applications) of DNA or RNA sequences is defined as the percentage of total nucleotides that are G or C out of the total count of all nucleotides in the sequence. Let's use what we know so far to calculate the GC content of an example DNA sequence. \n",
    "\n",
    "**Goal**: given a DNA sequence represented as a string, calculate the percentage GC content of that sequence.\n",
    "\n",
    "**Approach**: we will use the **count** method of python string objects to count up how many 'A','G','C',and 'T' strings occur in our sequence and then do some arithmatic to convert those counts into GC content."
   ]
  },
  {
   "cell_type": "code",
   "execution_count": 42,
   "metadata": {},
   "outputs": [
    {
     "name": "stdout",
     "output_type": "stream",
     "text": [
      "The GC content of our sequence is: 76.28571428571429\n"
     ]
    }
   ],
   "source": [
    "DNA_sequence = \"\"\"CTCAGTCAGGCGCTCAGCTCCGTTTCGGTTTCACTTCCGGTGGAGGGCCGCCTCTGAGCGGGCGGCGGGCCGACGGCGAGCGCGGGCGGCGGCGGTGACGGAGGCGCCGCTGCCAGGGGGCGTGCGGCAGCGCGGCGGCGGCGGCGGCGGCGGCGGCGGCGGAGGCGGCGGCGGCGGCGGCGGCGGCGGCGGCTGGGCCTCGAGCGCCCGCAGCCCACCTCTCGGGGGCGGGCTCCCGGCGCTAGCAGGGCTGAAGAGAAGATGGAGGAGCTGGTGGTGGAAGTGCGGGGCTCCAATGGCGCTTTCTACAAGGTACTTGGCTCTAGGGCAGGCCCCATCTTCGCCCTTCC\"\"\"\n",
    "\n",
    "total_nucleotides = len(DNA_sequence)\n",
    "\n",
    "g_count = DNA_sequence.count(\"G\")\n",
    "c_count = DNA_sequence.count(\"C\")\n",
    "\n",
    "gc_content = ((g_count + c_count)/total_nucleotides)*100\n",
    "print(f\"The GC content of our sequence is: {gc_content}\")\n"
   ]
  },
  {
   "cell_type": "markdown",
   "metadata": {},
   "source": [
    "So we've defined a new python string called DNA sequence, and pasted into it the sequence of a human gene - in this case the *FMR1* gene on the X-chromosome. We've used len to count up the total nucleotides in that function, and repeated applications of the string count method to count up the frequency of each nucleotide. Then we do a little division to calculate the fraction of Gs and Cs, and multiply by 100 to make it a percentage.\n",
    "\n"
   ]
  },
  {
   "cell_type": "markdown",
   "metadata": {},
   "source": [
    "#### Application: Calculate Amino Acid Composition\n",
    "\n",
    "Now let's do a similar task but for the amino acid composition of the protein produced by the FMR1 gene. There is no direct analog of GC content for amino acids, so we can instead calculate the percentage of each amino acid in the sequence. "
   ]
  },
  {
   "cell_type": "code",
   "execution_count": 43,
   "metadata": {},
   "outputs": [
    {
     "name": "stdout",
     "output_type": "stream",
     "text": [
      "MEELVVEVRGSNGAFYKAFVKDVHEDSITVAFENNWQPDRQIPFHDVRFPPPVGYNKDINESDEVEVYSRANEKEPCCWWLAKVRMIKGEFYVIEYAACDATYNEIVTIERLRSVNPNKPATKDTFHKIKLDVPEDLRQMCAKEAAHKDFKKAVGAFSVTYDPENYQLVILSINEVTSKRAHMLIDMHFRSLRTKLSLIMRNEEASKQLESSRQLASRFHEQFIVREDLMGLAIGTHGANIQQARKVPGVTAIDLDEDTCTFHIYGEDQDAVKKARSFLEFAEDVIQVPRNLVGKVIGKNGKLIQEIVDKSGVVRVRIEAENEKNVPQEEGMVPFVFVGTKDSIANATVLLDYHLNYLKEVDQLRLERLQIDEQLRQIGASSRPPPNRTDKEKSYVTDDGQGMGRGSRPYRNRGHGRRGPGYTSGTNSEASNASETESDHRDELSDWSLAPTEEERESFLRRGDGRRRGGGGRGQGGRGRGGGFKGNDDHSRTDNRPRNPREAKGRTTDGSLQIPPVKVVGCARVKIVTRRKRSQTAWMVSNHS\n",
      "The following amino acids are in our sequence: {'D', 'N', 'G', 'W', 'P', 'E', 'M', 'S', 'F', 'H', 'R', 'Q', 'K', 'C', 'A', 'Y', 'V', 'T', 'I', 'L'}\n",
      "Total unique amino acids: 20\n",
      "% Alanine: 0.0625\n",
      "% Arginine: 0.09191176470588236\n",
      "% Asparagine: 0.04963235294117647\n",
      "% Aspartic acid: 0.0661764705882353\n"
     ]
    }
   ],
   "source": [
    "protein_sequence =\"\"\"MEELVVEVRGSNGAFYKAFVKDVHEDSITVAFENNWQPDRQIPFHDVRFPPPVGYNKDINESDEVEVYSRANEKEPCCWWLAKVRMIKGEFYVIEYAACDATYNEIVTIERLRSVNPNKPATKDTFHKIKLDVPEDLRQMCAKEAAHKDFKKAVGAFSVTYDPENYQLVILSINEVTSKRAHMLIDMHFRSLRTKLSLIMRNEEASKQLESSRQLASRFHEQFIVREDLMGLAIGTHGANIQQARKVPGVTAIDLDEDTCTFHIYGEDQDAVKKARSFLEFAEDVIQVPRNLVGKVIGKNGKLIQEIVDKSGVVRVRIEAENEKNVPQEEGMVPFVFVGTKDSIANATVLLDYHLNYLKEVDQLRLERLQIDEQLRQIGASSRPPPNRTDKEKSYVTDDGQGMGRGSRPYRNRGHGRRGPGYTSGTNSEASNASETESDHRDELSDWSLAPTEEERESFLRRGDGRRRGGGGRGQGGRGRGGGFKGNDDHSRTDNRPRNPREAKGRTTDGSLQIPPVKVVGCARVKIVTRRKRSQTAWMVSNHS\"\"\"\n",
    "print(protein_sequence)\n",
    "\n",
    "#Let's check which amino acids are in the sequence\n",
    "all_amino_acids = set(protein_sequence)\n",
    "print(\"The following amino acids are in our sequence:\",all_amino_acids)\n",
    "print(\"Total unique amino acids:\",len(all_amino_acids))\n",
    "\n",
    "alanine_count = protein_sequence.count(\"A\")\n",
    "print(\"% Alanine:\",alanine_count/len(protein_sequence))\n",
    "arginine_count = protein_sequence.count(\"R\")\n",
    "print(\"% Arginine:\",arginine_count/len(protein_sequence))\n",
    "asparagine_count = protein_sequence.count(\"N\")\n",
    "print(\"% Asparagine:\",asparagine_count/len(protein_sequence))\n",
    "aspartic_acid_count = protein_sequence.count(\"D\")\n",
    "print(\"% Aspartic acid:\",aspartic_acid_count/len(protein_sequence))\n",
    "\n",
    "#It's getting pretty boring to type these!"
   ]
  },
  {
   "cell_type": "markdown",
   "metadata": {},
   "source": [
    "The above approach 'works' in the sense that we could, with enough labor, get an answer to our question. However, if you try retyping the code above and extending it for all the amino acids, you will quickly notice several things:\n",
    "\n",
    "* It is very boring to write similar code over and over again\n",
    "* It is easy to make mistakes that could give the wrong answer. In particular, when you copy the print statement, it is easy to forget to update which count you are dividing by the total length of the sequence. \n",
    "* If you want to change the code, you will now have to go back through all 20 print statements and all 20 count commands and change each - without making any mistakes.\n",
    "* It would be easy to accidentally leave off one of the amino acids.\n",
    "\n",
    "There must be a better way to do this - after all most of us didn't get into bioinformatics because we enjoyed repetitive tasks. Our obsevations trying to calculate amino acid composition highlight a general principle of coding that you can use in many places in your work. That principle is known as DRY coding."
   ]
  },
  {
   "cell_type": "markdown",
   "metadata": {},
   "source": [
    ">#### Coding Style Sidebar: DRY coding\n",
    ">\n",
    ">The DRY in DRY coding stands for **Don't Repeat Yourself**. It is a shorthand way of saying that you should find a way to write your code that avoids repetitive statements. It also is a shorthand way of summing up many of our >observations above. If code is repetitive, it has many disadvantages:\n",
    ">* It makes code look more complex (or at least much longer) than it should be\n",
    ">* It makes code more prone to errors\n",
    ">* It makes code harder to change and maintain\n",
    ">\n",
    ">So based on the principles of DRY coding, we now know that we should tell python once what we want it to do. >That is, somehow we want to tell python what it would be easy to tell a friend: for each of the amino acids in >our sequence, we want to get a count and convert that count to a percentage.\n",
    ">\n",
    "\n",
    "Python for loops can help us to automate this task and do it in just a few lines of code. They can also help with many other repetitive tasks in python."
   ]
  },
  {
   "cell_type": "markdown",
   "metadata": {},
   "source": [
    "-----------------------------------------------------------------------------------------------------------------\n",
    "#### Python: For Loops\n",
    "\n",
    "If we were leaving a detailed note telling a friend how to solve this problem, we might say something like:\n",
    "\n",
    ">   For each amino acid in our amino acid sequence, I want you to:\n",
    ">      * count that amino acid in the sequence\n",
    ">      * calculate a percentage for that amino acid\n",
    ">      * write down what you got.\n",
    ">   \n",
    ">   Thanks!\n",
    "   \n",
    "A for loop in python is actually not too dissimilar from the above note. I'll show how it looks and then we will consider the details of how it works."
   ]
  },
  {
   "cell_type": "code",
   "execution_count": 44,
   "metadata": {},
   "outputs": [
    {
     "name": "stdout",
     "output_type": "stream",
     "text": [
      "D : 6.6\n",
      "N : 5.0\n",
      "G : 7.9\n",
      "W : 0.9\n",
      "P : 4.4\n",
      "E : 8.5\n",
      "M : 1.8\n",
      "S : 6.2\n",
      "F : 3.5\n",
      "H : 2.6\n",
      "R : 9.2\n",
      "Q : 3.9\n",
      "K : 6.2\n",
      "C : 1.1\n",
      "A : 6.2\n",
      "Y : 2.6\n",
      "V : 8.1\n",
      "T : 4.6\n",
      "I : 5.0\n",
      "L : 5.7\n",
      "Done!\n"
     ]
    }
   ],
   "source": [
    "amino_acids = set(protein_sequence)\n",
    "sequence_length = len(protein_sequence)\n",
    "\n",
    "for amino_acid in amino_acids:\n",
    "    amino_acid_count = protein_sequence.count(amino_acid)\n",
    "    amino_acid_percent = (amino_acid_count/sequence_length) * 100\n",
    "    print(amino_acid,\":\",round(amino_acid_percent,1))\n",
    "    \n",
    "print(\"Done!\")"
   ]
  },
  {
   "cell_type": "markdown",
   "metadata": {},
   "source": [
    "This looks much better. We now calculate amino acid percentages for all the amino acids in only 7 lines of code (including the blank line before the for loop to make the code easier to read). Moreover, we didn't have to type out 40 lines of very repetitive calculations.\n",
    "\n",
    "So how does this for loop work? Here's what's happening when python executes the loop:\n",
    "\n",
    "1. Get the first item of the iterable object (here the amino acid 'D' from amino_acids).\n",
    "2. Assign that item to a variable (in our case set amino_acid = 'D' for this time through the loop) \n",
    "3. Run all the *indented* code after the line defining the for loop (this is all considered part of the for loop)\n",
    "4. Get the next item from the iterable object (here the amino acid 'N' from amino acids), and repeat from step 1.\n",
    "5. When you run out of items in your iterable object, stop and continue with the rest of the unindented code after the for loop (here, print(\"Done!\") to the screen).\n",
    "\n",
    "The first line of the loop is 'for amino_acid in amino_acids:'. In the context of our code, amino_acids is the set of all the amino acid letters in our sequence. For loops can loop over any *iterable* object. That means basically any python object that holds other objects, including strings, lists, sets, dictionaries, etc. Python will take our amino_acids object, and pick out the first item in it. In this case that's a D. It will then give that item the name amino_acid (effectively setting amino_acid = D). Finally it will execute all the code that is indented after the for loop for that amino acid. Then it will start over at the beginning, set amino_acid = N, and repeat the process until it runs out of amino acids.\n",
    "\n",
    "If you want to test out how for loops work for yourself, you can modify the above code to add print statements that report the values of variables throughout the process. For example, right after the first line of the for loop, you might add the code: print(\"Current amino acid = \",amino_acid). This would then report to you what the value of the variable amino_acid is each time through the loop.\n",
    "\n",
    "> **Terminology Sidenote: Iterations**\n",
    "> When programmers talk about code repeating a task, they will often call each time the task repeats an *iteration*. So we might say,'for each *iteration* of the for loop, the code does X,Y, and Z'. \n",
    "> If it is important to keep track of how many times you've repeated a task with a number, an integer named\n",
    "> i is often used to do so. In that case i stands for 'iteration'.\n"
   ]
  },
  {
   "cell_type": "markdown",
   "metadata": {},
   "source": [
    "#### Storing data from a loop in a dictionary\n",
    "\n",
    "Our version of the amino acid profiler using a for loop is much improved, but still isn't wholly satisfactory in one important respect: the data that we generate is printed to screen, but isn't stored in an accessible way.\n",
    "Dictionaries are python objects that associate keys with values - just like a physical dictionary associates words with their definitions. In our amino acid composition profiler, we could use a dictionary to store the counts of each amino acid. In that case strings representing the amino acids would be the keys, and the counts of those amino acids would be the values.\n",
    "\n",
    "> For a very brief introduction to dictionaries in python see the [Tour of Python Data Types](../04_exploring_python/exploring_python_data_types.ipynb)\n",
    "\n",
    "The code below revises our amino acid profiler to use a dictionary to hold results. Therefore, it is no longer necessary to print each amino acid as it is calculated. I've added some extra comments to the code that would not normally be necessary highlighting what each new line does:"
   ]
  },
  {
   "cell_type": "code",
   "execution_count": 67,
   "metadata": {},
   "outputs": [
    {
     "name": "stdout",
     "output_type": "stream",
     "text": [
      "Counts for each amino acid: {'D': 36, 'N': 27, 'G': 43, 'W': 5, 'P': 24, 'E': 46, 'M': 10, 'S': 34, 'F': 19, 'H': 14, 'R': 50, 'Q': 21, 'K': 34, 'C': 6, 'A': 34, 'Y': 14, 'V': 44, 'T': 25, 'I': 27, 'L': 31}\n"
     ]
    }
   ],
   "source": [
    "amino_acids = set(protein_sequence)\n",
    "sequence_length = len(protein_sequence)\n",
    "\n",
    "#create an empty dictionary\n",
    "#to hold our results\n",
    "amino_acid_profile = {} \n",
    "\n",
    "for amino_acid in amino_acids:\n",
    "    amino_acid_count = protein_sequence.count(amino_acid)\n",
    "    amino_acid_percent = (amino_acid_count/sequence_length) * 100\n",
    "    \n",
    "    #add a new entry to our amino_acid_profile \n",
    "    #using the amino acid (e.g. \"D\") as the key, \n",
    "    #and it's count as the value (e.g. 35)\n",
    "    #the general syntax to set a dictionary key equal\n",
    "    #to a value is my_dictionary[key] = value\n",
    "    amino_acid_profile[amino_acid] = amino_acid_count\n",
    "\n",
    "print(\"Counts for each amino acid:\",amino_acid_profile)"
   ]
  },
  {
   "cell_type": "markdown",
   "metadata": {},
   "source": [
    "-----------------------------------------------------------------------------------------------------------------\n",
    "**Exercise: use the approaches outlined above to write code to calculate the frequency of each nucleotide in an RNA sequence.**\n",
    "Keep these things in mind:\n",
    "* Be sure that the code can be easily run on new sequences. \n",
    "* Use DRY coding methods and a for loop to avoid lots of repeated code\n",
    "* Be sure to check your code using a sequence where you know the right answer. For example, on the sequence:\n",
    "  \"AAUUGGGG\", your code should return frequencies A: 25%, U:25%, G:50%, C:0%.\n",
    "\n",
    "-----------------------------------------------------------------------------------------------------------------\n",
    "Once you have jotted down your answers, you can check them in the [answer key](./biological_sequences_exercise_answers.ipynb)"
   ]
  },
  {
   "cell_type": "markdown",
   "metadata": {},
   "source": [
    "### If statements in python\n",
    "\n",
    "Programs often need to make decisions based on data. For example, when comparing two sequences, we might want to do one thing if they are very similar in sequence, and something else if they are different. If statements are a key way that python scripts can make decisions based on conditions. \n",
    "\n",
    "Here is some code that uses an if statement:\n"
   ]
  },
  {
   "cell_type": "code",
   "execution_count": 4,
   "metadata": {},
   "outputs": [
    {
     "name": "stdout",
     "output_type": "stream",
     "text": [
      "Will you win the coin flip?\n",
      "You lose!\n"
     ]
    }
   ],
   "source": [
    "from random import choice\n",
    "print(\"Will you win the coin flip?\")\n",
    "\n",
    "coin_flip = choice([\"Heads\",\"Tails\"])\n",
    "\n",
    "if coin_flip == \"Heads\":\n",
    "    print(\"You win!\")\n",
    "else:\n",
    "    print(\"You lose!\")"
   ]
  },
  {
   "cell_type": "markdown",
   "metadata": {},
   "source": [
    "Here are some key features of the if statement:\n",
    "* it starts with the keyword 'if' \n",
    "* after the 'if' we place any expression that evaluates to True or False. Such expressions include:\n",
    "* we end the first line of the if statement with a colon\n",
    "* the code that is indented after the if statement (here <pre>print(\"You win!\")</pre>) will execute\n",
    "  only if the condition evaluates to True\n",
    "* if the condition does not evaluate to True, the code indented below the else statement will execute instead. You can think about an if/else pair like this as a fork or decision point in a flowchart.\n",
    "\n",
    "We can design new if statements by using different expressions that evaluate to True or False in python.\n",
    " -  tests for equality **(x == y)**. Note that two equals signs must be used to distinguish this from when you *set* x equal to y. If you use just one (x = y) in an if statement python will send you a SyntaxError as a reminder :).\n",
    "   -  inequalities, include less than **(x < y)**, less than or equal to **(x <= y)**, greater than **(x > y)**, greater than or equal to **(x >= y)**, or not equal **( x != y)**.\n",
    "   - tests for whether a sequence includes a specific item **(x in y)**\n",
    "   - tests for whether two variables refer to exactly the same thing (not just equal things), for example **x is y**.\n",
    "\n",
    "Interestingly, in python many normal objects also have truth values (this is called truthiness). We can also use these in if statments. Here are some examples:\n",
    "   - 0 is treated as False, but any non-zero integer is treated as True\n",
    "   - an empty list,dict,set, or string is treated as false, but one with contents is treated as True.\n",
    "   \n",
    "You can figure out the truthiness of an object by calling the bool() function on it."
   ]
  },
  {
   "cell_type": "markdown",
   "metadata": {},
   "source": [
    "#### Application:  Using a for loop and if statement together to compare sequence identity\n",
    "\n",
    "A common way to measure the similarity of two sequences in by comparing **sequence identity**. Sequence identity is defined as the percentage of positions in two sequences in which they have exactly the same letter. A related idea of **sequence similarity** counts up the percentage of positions in a sequence that have 'similar' units. What 'similar' means depends on the application, but generally refers to the biochemical properties of the nucleotides or amino acids (e.g. two hydrophobic amino acids might count as 'similar' even if not identical).\n",
    "\n",
    "Let's write code to calculate the sequence identity of two sequences:"
   ]
  },
  {
   "cell_type": "code",
   "execution_count": 8,
   "metadata": {},
   "outputs": [
    {
     "name": "stdout",
     "output_type": "stream",
     "text": [
      "There were 52 shared nucleotides and 3 different nucleotides among the sequences\n",
      "Sequence identity: 0.95\n"
     ]
    }
   ],
   "source": [
    "#Find the number of mismatches between two sequences\n",
    "seq1 = \"ATATCGCGGCGCGCTTACGATGCTACGTCGCGGCGGGGTATATTAGCGGGATTCA\"\n",
    "seq2 = \"ATATCGCGGCGCCCTTACGATGCTACGTCGCGGCGCGGTATATTAGCGGGATACA\"\n",
    "length_of_shorter_seq = min(len(seq1),len(seq2))\n",
    "\n",
    "shared = 0\n",
    "different = 0\n",
    "for i in range(length_of_shorter_seq):\n",
    "    if seq1[i] == seq2[i]:\n",
    "        shared += 1\n",
    "    else:\n",
    "        different +=1\n",
    "\n",
    "sequence_identity = shared/length_of_shorter_seq\n",
    "print(f\"There were {shared} shared nucleotides and {different} different nucleotides among the sequences\")\n",
    "print(f\"Sequence identity: {round(sequence_identity,2)}\")       "
   ]
  },
  {
   "cell_type": "markdown",
   "metadata": {},
   "source": [
    "Some notes about the above code:\n",
    "* the range() function generates all the numbers between 0 and a specified number one by one. It is very commonly used in python to run a for loop a given number of times. Here we use it to run the for loop over each nucleotide in the sequence.\n",
    "* if using an if statement inside a for loop, the code inside the if statment is indented an *additional* level, as shown above.\n",
    "* notice that *before* we start the loop, we have already prepared two variables, shared and different, to hold the counts of shared and different nucleotides we generate inside the loop. It is very common to define some variable to hold your data before you start a loop. Notice that if these variables were instead defined *inside* the loop, they would reset the count every time the loop ran, resulting in the wrong answer."
   ]
  }
 ],
 "metadata": {
  "kernelspec": {
   "display_name": "Python 3",
   "language": "python",
   "name": "python3"
  }
 },
 "nbformat": 4,
 "nbformat_minor": 2
}
