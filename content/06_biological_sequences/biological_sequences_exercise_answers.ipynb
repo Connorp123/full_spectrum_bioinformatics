{
 "cells": [
  {
   "cell_type": "markdown",
   "metadata": {},
   "source": [
    "#### Biological Sequences Exercise Answers"
   ]
  },
  {
   "cell_type": "markdown",
   "metadata": {},
   "source": [
    "-----------------------------------------------------------------------------------------------------------------\n",
    "\n",
    "**Exercise: Guess the Sequence**\n",
    "\n",
    "Given the above information, try to figure out what type of biomolecule is represented by each of the following sequences. For each, write down if you know the answer for sure, or if its just likely given the sequence:\n",
    "\n",
    "\n",
    "**Sequence 1:** MEELVVEVRGSNGAFYKAFVKDVHEDSITVAFENNWQPDRQIPFHDVRFPPPVGYNKDIN\n",
    "\n",
    "**Sequence 2:** AUGAUCGUACGUCAGCUCGUACGUCGGCGGUGAUGCUAGCGCUACGUGACUACGUAGCUA\n",
    "\n",
    "**Sequence 3:** ATGACAACACAATTAAATCCCTATTTTGGTGAATTTGGCGGAATGTATGTGCCGGAAATT\n",
    "\n",
    "\n",
    "**Sequence 4:** AGC\n",
    "\n",
    "-----------------------------------------------------------------------------------------------------------------\n",
    "    \n",
    "**Answers:**\n",
    "Obviously in any real-world situation it is important to carefully check the source documentation to figure out what your data file is, and the methods used to generate it. That said, it is useful to be able to rapidly form a good working hypothesis about which file has which type of data in it. Here's how I would do so if presented with unlabelled data similar to the above:\n",
    "\n",
    "**Sequence 1:** This sequence is unambiguously a protein sequence - it has letters that are not present in the RNA or DNA alphabets \n",
    "\n",
    "**Sequence 2:** This is unambiguously an RNA sequence. Notice that the letters are AUGC. The letter U does not occur in either the DNA or protein alphabets. \n",
    "\n",
    "**Sequence 3:** This is composed entirely of A (Adenosine), G (Guanine) C (Cytosine) and T (Thymidine) - the four letters representing DNA nucleotides. We can rule out sequence 1 being an RNA sequence because there are Ts (thymidine) rather than Us (uracil). However, it is worth noting that while in practice I would have no problem assuming this was a DNA sequence, this is just a (very good) guess. Strictly speaking, the letters A,G,T, and C are also valid amino acid codes, representing Alanine (A),Threonine (T),Cysteine (C), and Glycine (G). An interesting exercise for readers familiar with statistics (or to return to after reading the chapter on statistics in this text) is to calculate the probability of generating a sequence of all A T C and G in a protein with equal amino acid frequency. You will find that this probability is non-trivial for very short sequences (say 1-3 bases), but rapidly becomes vanishingly small for a longer sequence like this one.\n",
    "\n",
    "**Sequence 4:** Similar to sequence 3, except that in this case the sequence could very possibly be RNA or DNA (since we don't have a T or U that would differentiate the two). It could even plausibly be protein, since it is short enough that the chances of getting 3 letters that also happen to be used (for different molecules) in the DNA and RNA alphabets.\n",
    "\n",
    "**Exercise 2**. *Escherichia coli*, or *E. coli* is a bacterium that is commonly used in laboratory experiments. Imagine that in the laboratory you chemically modified the structure of one of *E. coli*'s proteins, such that one amino acid was replaced by another. Use the Central Dogma of Molecular Biology to predict whether this chemical modification will be passed on to the next generation of *E. coli*, and justify your prediction.\n",
    "\n",
    "\n",
    "The Central Dogma of Molecular Biology states that information flows from DNA --> RNA --> Protein. Just like erasing the contents of a computers RAM (e.g. by restarting it) will not delete the information on the hard drive, modifying or destroying an RNA or protein will not retroactively affect the DNA that produced that RNA or protein. Thus, such changes will not be passed to the next generation.\n",
    "\n",
    "On the other hand, a mutation in *E.coli's* DNA sequence would be passed on to the next generation. If the mutation was in a protein-coding gene, that DNA mutation would also change any RNA transcipts produced from the gene, and those changes in the RNA could in turn potentially alter the amino acid sequence of proteins produced from that RNA.\n"
   ]
  },
  {
   "cell_type": "markdown",
   "metadata": {},
   "source": [
    "-----------------------------------------------------------------------------------------------------------------\n",
    "**Short Exercises: Representing and manipulating biological sequences using python strings**\n",
    "\n",
    "**1. Write python code to count the number of 'N' (ambiguous) characters in a DNA sequence. Test it with this short sequence**: \n",
    "\n",
    "<pre>short_dna_seq = \"NNNATGNNCNN\"</pre>. Did you get 7 as expected? If so, apply your code to count the N characters in a longer sequence like this one: \n",
    "\n",
    "<pre>dna_seq=\"TACGTAGCTCACGTACGTACGTACGTACGTAGCTACGTAGCTAGCTCGCGGCGCGCCGCGNATCGTACGTACCTACGTACGTCNGTACGTACGTATCGTACGCTGACTACGTACGTACGTACGATCGTACGTAGCTACGTACTCAGNNNNTACGTACGTCACGNTACGTACTGACTGCN\"</pre>\n",
    "\n",
    "**Basic Answer:** We want to take some input DNA sequence, count up the number of nucleotides in it, and report that number to the user. It is important that even though right now I can see the input sequence, and could just count the nucleotides myself (either in a text editor like Word or by hand), in most practical applications what we're writing now will be part of a broader project where we won't know the exact sequence we're going to be analyzing while we're writing the code. So to get the most out of the exercise, it's best to write all of your code assuming the DNA sequence could be *any* DNA sequence.\n"
   ]
  },
  {
   "cell_type": "code",
   "execution_count": 2,
   "metadata": {},
   "outputs": [
    {
     "name": "stdout",
     "output_type": "stream",
     "text": [
      "7 N's were found in the DNA sequence NNNATGNNCNN\n"
     ]
    }
   ],
   "source": [
    "#Define a DNA sequence. \n",
    "dna_seq = \"NNNATGNNCNN\"\n",
    "\n",
    "#Count the number of N's and save it in a variable\n",
    "N_count = dna_seq.count(\"N\")\n",
    "\n",
    "#Format a string to tell the user the report\n",
    "report_str = f\"{N_count} N's were found in the DNA sequence {dna_seq}\"\n",
    "\n",
    "print(report_str)\n"
   ]
  },
  {
   "cell_type": "markdown",
   "metadata": {},
   "source": [
    "**Improved answer**: This answer is basically what I was looking for and should answer the question. There are, however, multiple ways it could be improved if you were using it for research. For example, we counted upper case N's only. Do we want our code to work on both upper case and lower case DNA sequences? If so we might convert the DNA sequence to upper case before doing the rest of the code. Similarly, do we think we might want to reuse the code for other nucleotides in the future? If so we might consider making the character (\"N\") we count a variable so we could also use the code to count G's,T's,A's etc."
   ]
  },
  {
   "cell_type": "code",
   "execution_count": 3,
   "metadata": {},
   "outputs": [
    {
     "name": "stdout",
     "output_type": "stream",
     "text": [
      "The character N appears 7 times in the sequence NNNATGNNCNN\n"
     ]
    }
   ],
   "source": [
    "#revised answer\n",
    "\n",
    "dna_seq = \"NNNATGNNCNN\"\n",
    "\n",
    "#nt is a common abbreviation for nucleotide\n",
    "nt_to_count = \"N\"\n",
    "nt_count = dna_seq.count(nt_to_count)\n",
    "report_str = f\"The character {nt_to_count} appears {nt_count} times in the sequence {dna_seq}\"\n",
    "print(report_str)\n"
   ]
  },
  {
   "cell_type": "markdown",
   "metadata": {},
   "source": [
    "Notice that with the revised answer, if we wanted to count up T characters, we'd just have to change nt_to_count to \"T\" and the rest of the code would work. Moreover the variable names would still make sense. This makes the code more reusable for other problems.  \n",
    "\n",
    "**Advanced answer (optional)**: this final answer draws on three methods introduced in later sections: defining our own functions, if statements, and using an assert statement to check that our code is getting the expected answer. It's OK to ignore it if this is your first time through and you are new to python. Think of it as where this is headed. \n",
    "\n",
    "The final way to increase reusability is to encode our general code (from the revised answer) into a function that takes the sequence and the nucleotide we want to count as arguments, and returns the count. This function can then be called to get the number, which might be used in other calculations or just used to print a message to the screen as before. We might want the user to be able to control conversion to uppercase if they want. Finally we might want to handle whitespace (like \"\\n\" characters indicating linebreaks). \n",
    "\n",
    "This code will be much longer than the above, but less likely to give the wrong answer in common situations we might use it in, and easier to reuse multiple times:"
   ]
  },
  {
   "cell_type": "code",
   "execution_count": 28,
   "metadata": {},
   "outputs": [
    {
     "name": "stdout",
     "output_type": "stream",
     "text": [
      "The character T appears 2 times in the sequence ATACGATGCATCG\n"
     ]
    }
   ],
   "source": [
    "def count_nucleotide(seq,nt,convert_to_uppercase=True,\n",
    "  remove_trailing_whitespace=True, verbose=True):\n",
    "    \"\"\"Return the count of a nucleotide in a sequence\n",
    "    \n",
    "    parameters\n",
    "    ----------\n",
    "    \n",
    "    seq -- a string representing the sequence\n",
    "    \n",
    "    nt -- a nucleotide\n",
    "    \n",
    "    convert_to_uppercase -- if True convert the sequence\n",
    "    to uppercase before counting\n",
    "    \n",
    "    remove_trailing_whitespace -- if True remove trailing\n",
    "      whitepace from seq\n",
    "      \n",
    "    verbose -- if True, print a message describing the count\n",
    "    \"\"\"\n",
    "    if convert_to_uppercase:\n",
    "        #prevent case-based mismatches by \n",
    "        #converting both nt and seq to uppercase\n",
    "        nt = nt.upper()\n",
    "        seq = seq.upper()\n",
    "        \n",
    "    if remove_trailing_whitespace:\n",
    "        seq = seq.strip().replace(\"\\n\",\"\")\n",
    "\n",
    "    nt_count = seq.count(nt)\n",
    "    \n",
    "    if verbose:\n",
    "        print(f\"The character {nt} appears {nt_count} times in the sequence {dna_seq}\")\n",
    "    \n",
    "    return nt_count\n",
    "    \n",
    "#Example usage:\n",
    "DNA_seq = \"ATTGC\"\n",
    "nt_count = count_nucleotide(DNA_seq,\"T\")"
   ]
  },
  {
   "cell_type": "markdown",
   "metadata": {},
   "source": [
    "How do we really know that the function works? The best way to figure out is to test it in lots of cases where we know the answer:"
   ]
  },
  {
   "cell_type": "code",
   "execution_count": 23,
   "metadata": {},
   "outputs": [
    {
     "name": "stdout",
     "output_type": "stream",
     "text": [
      "The character U appears 6 times in the sequence ATACGATGCATCG\n",
      "The character N appears 2 times in the sequence ATACGATGCATCG\n"
     ]
    }
   ],
   "source": [
    "#Let's informally test the function\n",
    "\n",
    "#Test that is works on an RNA sequence\n",
    "seq = \"\"\"AUUACGUAGCUACGUACGUAC\"\"\"\n",
    "U_count = count_nucleotide(seq,\"U\")\n",
    "expected_U_count = 6\n",
    "assert (U_count == expected_U_count)\n",
    "\n",
    "#Test that the function works even if multiple newline (\\n) characters are present\n",
    "seq = \"\"\"ATACG\\n\n",
    "         NNATCGC\\n\"\"\"\n",
    "N_count = count_nucleotide(seq,\"n\")\n",
    "expected_N_count = 2 #Not 3!\n",
    "assert N_count == expected_N_count"
   ]
  },
  {
   "cell_type": "markdown",
   "metadata": {},
   "source": [
    "Believe it or not, even in code as relatively simple as this I -still- caught a bug in the above code using these tests (the print message previously referred to the wrong variable and would always say \"N\" even if you were counting something else).\n",
    "\n",
    "If you start testing your code, you will very quickly realize why professional programmers and industry regard test code as essential."
   ]
  },
  {
   "cell_type": "markdown",
   "metadata": {},
   "source": [
    "**2. Write python code to convert the below RNA sequence into uppercase:**\n",
    "\n",
    "<pre>rna_seq = \"augcggguacuacguacgucgcggcgcgcuagcuacggugcuacggggcuagc\"</pre>\n"
   ]
  },
  {
   "cell_type": "code",
   "execution_count": 14,
   "metadata": {},
   "outputs": [],
   "source": [
    "#Answer\n",
    "rna_seq = \"augcggguacuacguacgucgcggcgcgcuagcuacggugcuacggggcuagc\"\n",
    "uppercase_rna_seq = rna_seq.upper()"
   ]
  },
  {
   "cell_type": "markdown",
   "metadata": {},
   "source": [
    "3. Write python code that prints to screen \"Your sequence is 17 nucleotides long\" for a sequence of 17 nucleotides, and automatically changes the number based on the number of nucleotides in your sequence. (So for example if your sequence was 53 nucleotides long it should print \"Your sequence is 53 nucleotides long\")\n"
   ]
  },
  {
   "cell_type": "code",
   "execution_count": 17,
   "metadata": {},
   "outputs": [
    {
     "name": "stdout",
     "output_type": "stream",
     "text": [
      "Your sequence is 13 nucleotides long\n"
     ]
    }
   ],
   "source": [
    "dna_seq = \"ATACGATGCATCG\"\n",
    "dna_seq_length = len(dna_seq)\n",
    "print(f\"Your sequence is {dna_seq_length} nucleotides long\")"
   ]
  },
  {
   "cell_type": "markdown",
   "metadata": {},
   "source": [
    "4. Write python code that converts an RNA sequence to a DNA sequence by replacing all characters representing Uracil with characters representing Thymidine"
   ]
  },
  {
   "cell_type": "code",
   "execution_count": 31,
   "metadata": {},
   "outputs": [],
   "source": [
    "RNA_seq = \"AUGGCU\"\n",
    "DNA_seq = RNA_seq.replace(\"U\",\"T\")"
   ]
  },
  {
   "cell_type": "markdown",
   "metadata": {},
   "source": [
    "5. Aligned DNA sequences often have gap ('-') characters in them. Sometimes you aren't comparing sequences and so want to remove these gaps. Write code that removes gaps from a sequence. HINT: replacing a character with an empty string ('') is equivalent to removing it from a sequence. \n",
    "\n"
   ]
  },
  {
   "cell_type": "code",
   "execution_count": 33,
   "metadata": {},
   "outputs": [
    {
     "name": "stdout",
     "output_type": "stream",
     "text": [
      "Sequence with gaps removed: TACCGTAGCTACGTCAGCGCACTAGCA\n"
     ]
    }
   ],
   "source": [
    "gappy_seq = \"TACC-GTAGCTACGTCAGCGC----ACTAGCA-----\"\n",
    "seq = gappy_seq.replace(\"-\",\"\")\n",
    "print(\"Sequence with gaps removed:\",seq)"
   ]
  },
  {
   "cell_type": "markdown",
   "metadata": {},
   "source": [
    "6. Write code to calculate the percentage of a sequence that is gaps. HINT: you might count the number of gaps directly using the count method , or you might use your answer to number 5, generate an ungapped sequence, and infer the percentage of gaps by the change in sequence length when converting to ungapped."
   ]
  },
  {
   "cell_type": "code",
   "execution_count": 36,
   "metadata": {},
   "outputs": [
    {
     "name": "stdout",
     "output_type": "stream",
     "text": [
      "The percentage of gaps is: 0.27\n"
     ]
    }
   ],
   "source": [
    "gappy_seq = \"TACC-GTAGCTACGTCAGCGC----ACTAGCA-----\"\n",
    "n_gaps = gappy_seq.count(\"-\")\n",
    "seq_length = len(gappy_seq.strip())\n",
    "percent_gaps = n_gaps/seq_length\n",
    "percent_gaps_rounded = round(percent_gaps,2)\n",
    "print(f\"The percentage of gaps is: {percent_gaps_rounded}\")"
   ]
  },
  {
   "cell_type": "markdown",
   "metadata": {},
   "source": [
    "-----------------------------------------------------------------------------------------------------------------\n",
    "**Exercise: calculate the frequency of each nucleotide in an RNA sequence.**\n",
    "\n",
    "Use the approaches outlined above to write code to calculate the frequency of each nucleotide in an RNA sequence\n",
    "\n",
    "Keep these things in mind:\n",
    "* Be sure that the code can be easily run on new sequences. \n",
    "* Use DRY coding methods and a for loop to avoid lots of repeated code\n",
    "* Be sure to check your code using a sequence where you know the right answer. For example, on the sequence:\n",
    "  \"AAUUGGGG\", your code should return frequencies A: 25%, U:25%, G:50%, C:0%.\n",
    "\n",
    "-----------------------------------------------------------------------------------------------------------------\n",
    "**Answer**\n",
    "\n",
    "There are multiple correct answers - just like there are multiple correct ways to write an essay. Here's mine. I used a similar strategy to our code for calculating the composition of DNA, RNA, or protein.  \n",
    "    \n",
    "    "
   ]
  },
  {
   "cell_type": "code",
   "execution_count": 8,
   "metadata": {},
   "outputs": [
    {
     "name": "stdout",
     "output_type": "stream",
     "text": [
      "The count of each nucleotide is: {'A': 25.0, 'U': 25.0, 'C': 0.0, 'G': 50.0}\n"
     ]
    }
   ],
   "source": [
    "#Goal: calculate the composition of an RNA sequence\n",
    "rna_seq = \"AAUUGGGG\"\n",
    "rna_nucleotides = ['A','U','C','G']\n",
    "\n",
    "rna_profile = {}\n",
    "for nucleotide in rna_nucleotides:\n",
    "    nucleotide_count = rna_seq.count(nucleotide)\n",
    "    seq_length = len(rna_seq)\n",
    "    nucleotide_percent = (nucleotide_count/seq_length)*100\n",
    "    rna_profile[nucleotide] = nucleotide_percent \n",
    "    \n",
    "print(\"The count of each nucleotide is:\",rna_profile)"
   ]
  },
  {
   "cell_type": "markdown",
   "metadata": {},
   "source": [
    "We can further test this code by altering the rna_seq parameter to \"AAAAAAAAAAA\". As expected the result I get:\n",
    "{'A': 100.0, 'U': 0.0, 'C': 0.0, 'G': 0.0}"
   ]
  }
 ],
 "metadata": {
  "kernelspec": {
   "display_name": "Python 3",
   "language": "python",
   "name": "python3"
  },
  "language_info": {
   "codemirror_mode": {
    "name": "ipython",
    "version": 3
   },
   "file_extension": ".py",
   "mimetype": "text/x-python",
   "name": "python",
   "nbconvert_exporter": "python",
   "pygments_lexer": "ipython3",
   "version": "3.7.2"
  }
 },
 "nbformat": 4,
 "nbformat_minor": 2
}
