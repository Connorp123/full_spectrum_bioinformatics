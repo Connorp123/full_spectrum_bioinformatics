{
 "cells": [
  {
   "cell_type": "markdown",
   "metadata": {},
   "source": [
    "#### Biological Sequences Exercise Answers"
   ]
  },
  {
   "cell_type": "markdown",
   "metadata": {},
   "source": [
    "-----------------------------------------------------------------------------------------------------------------\n",
    "\n",
    "**Exercise: Guess the Sequence**\n",
    "\n",
    "Given the above information, try to figure out what type of biomolecule is represented by each of the following sequences. For each, write down if you know the answer for sure, or if its just likely given the sequence:\n",
    "\n",
    "\n",
    "**Sequence 1:** MEELVVEVRGSNGAFYKAFVKDVHEDSITVAFENNWQPDRQIPFHDVRFPPPVGYNKDIN\n",
    "\n",
    "**Sequence 2:** AUGAUCGUACGUCAGCUCGUACGUCGGCGGUGAUGCUAGCGCUACGUGACUACGUAGCUA\n",
    "\n",
    "**Sequence 3:** ATGACAACACAATTAAATCCCTATTTTGGTGAATTTGGCGGAATGTATGTGCCGGAAATT\n",
    "\n",
    "\n",
    "**Sequence 4:** AGC\n",
    "\n",
    "-----------------------------------------------------------------------------------------------------------------\n",
    "    \n",
    "**Answers:**\n",
    "Obviously in any real-world situation it is important to carefully check the source documentation to figure out what your data file is, and the methods used to generate it. That said, it is useful to be able to rapidly form a good working hypothesis about which file has which type of data in it. Here's how I would do so if presented with unlabelled data similar to the above:\n",
    "\n",
    "**Sequence 1:** This sequence is unambiguously a protein sequence - it has letters that are not present in the RNA or DNA alphabets \n",
    "\n",
    "**Sequence 2:** This is unambiguously an RNA sequence. Notice that the letters are AUGC. The letter U does not occur in either the DNA or protein alphabets. \n",
    "\n",
    "**Sequence 3:** This is composed entirely of A (Adenosine), G (Guanine) C (Cytosine) and T (Thymidine) - the four letters representing DNA nucleotides. We can rule out sequence 1 being an RNA sequence because there are Ts (thymidine) rather than Us (uracil). However, it is worth noting that while in practice I would have no problem assuming this was a DNA sequence, this is just a (very good) guess. Strictly speaking, the letters A,G,T, and C are also valid amino acid codes, representing Alanine (A),Threonine (T),Cysteine (C), and Glycine (G). An interesting exercise for readers familiar with statistics (or to return to after reading the chapter on statistics in this text) is to calculate the probability of generating a sequence of all A T C and G in a protein with equal amino acid frequency. You will find that this probability is non-trivial for very short sequences (say 1-3 bases), but rapidly becomes vanishingly small for a longer sequence like this one.\n",
    "\n",
    "**Sequence 4:** Similar to sequence 3, except that in this case the sequence could very possibly be RNA or DNA (since we don't have a T or U that would differentiate the two). It could even plausibly be protein, since it is short enough that the chances of getting 3 letters that also happen to be used (for different molecules) in the DNA and RNA alphabets.\n"
   ]
  },
  {
   "cell_type": "markdown",
   "metadata": {},
   "source": [
    "-----------------------------------------------------------------------------------------------------------------\n",
    "**Exercise: calculate the frequency of each nucleotide in an RNA sequence.**\n",
    "\n",
    "Use the approaches outlined above to write code to calculate the frequency of each nucleotide in an RNA sequence\n",
    "\n",
    "Keep these things in mind:\n",
    "* Be sure that the code can be easily run on new sequences. \n",
    "* Use DRY coding methods and a for loop to avoid lots of repeated code\n",
    "* Be sure to check your code using a sequence where you know the right answer. For example, on the sequence:\n",
    "  \"AAUUGGGG\", your code should return frequencies A: 25%, U:25%, G:50%, C:0%.\n",
    "\n",
    "-----------------------------------------------------------------------------------------------------------------\n",
    "**Answer**\n",
    "\n",
    "There are multiple correct answers - just like there are multiple correct ways to write an essay. Here's mine. I used a similar strategy to our code for calculating the composition of DNA, RNA, or protein.  \n",
    "    \n",
    "    "
   ]
  },
  {
   "cell_type": "code",
   "execution_count": 8,
   "metadata": {},
   "outputs": [
    {
     "name": "stdout",
     "output_type": "stream",
     "text": [
      "The count of each nucleotide is: {'A': 25.0, 'U': 25.0, 'C': 0.0, 'G': 50.0}\n"
     ]
    }
   ],
   "source": [
    "#Goal: calculate the composition of an RNA sequence\n",
    "rna_seq = \"AAUUGGGG\"\n",
    "rna_nucleotides = ['A','U','C','G']\n",
    "\n",
    "rna_profile = {}\n",
    "for nucleotide in rna_nucleotides:\n",
    "    nucleotide_count = rna_seq.count(nucleotide)\n",
    "    seq_length = len(rna_seq)\n",
    "    nucleotide_percent = (nucleotide_count/seq_length)*100\n",
    "    rna_profile[nucleotide] = nucleotide_percent \n",
    "    \n",
    "print(\"The count of each nucleotide is:\",rna_profile)"
   ]
  },
  {
   "cell_type": "markdown",
   "metadata": {},
   "source": [
    "We can further test this code by altering the rna_seq parameter to \"AAAAAAAAAAA\". As expected the result I get:\n",
    "{'A': 100.0, 'U': 0.0, 'C': 0.0, 'G': 0.0}"
   ]
  }
 ],
 "metadata": {
  "kernelspec": {
   "display_name": "Python 3",
   "language": "python",
   "name": "python3"
  },
  "language_info": {
   "codemirror_mode": {
    "name": "ipython",
    "version": 3
   },
   "file_extension": ".py",
   "mimetype": "text/x-python",
   "name": "python",
   "nbconvert_exporter": "python",
   "pygments_lexer": "ipython3",
   "version": "3.7.2"
  }
 },
 "nbformat": 4,
 "nbformat_minor": 2
}
