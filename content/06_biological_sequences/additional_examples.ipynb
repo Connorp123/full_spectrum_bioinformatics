{
 "cells": [
  {
   "cell_type": "markdown",
   "metadata": {},
   "source": [
    "#### Algorithm: Calculate K-mer profiles"
   ]
  },
  {
   "cell_type": "code",
   "execution_count": 72,
   "metadata": {},
   "outputs": [
    {
     "name": "stdout",
     "output_type": "stream",
     "text": [
      "The k-mer profile of our sequence is: {'AAA': 0, 'AAT': 1, 'AAG': 4, 'AAC': 0, 'ATA': 0, 'ATT': 0, 'ATG': 2, 'ATC': 1, 'AGA': 2, 'AGT': 2, 'AGG': 10, 'AGC': 8, 'ACA': 1, 'ACT': 2, 'ACG': 2, 'ACC': 1, 'TAA': 0, 'TAT': 0, 'TAG': 2, 'TAC': 2, 'TTA': 0, 'TTT': 3, 'TTG': 1, 'TTC': 6, 'TGA': 3, 'TGT': 0, 'TGG': 8, 'TGC': 3, 'TCA': 4, 'TCT': 5, 'TCG': 4, 'TCC': 5, 'GAA': 3, 'GAT': 1, 'GAG': 9, 'GAC': 2, 'GTA': 1, 'GTT': 2, 'GTG': 6, 'GTC': 1, 'GGA': 6, 'GGT': 6, 'GGG': 11, 'GGC': 41, 'GCA': 4, 'GCT': 11, 'GCG': 36, 'GCC': 10, 'CAA': 2, 'CAT': 1, 'CAG': 8, 'CAC': 2, 'CTA': 3, 'CTT': 5, 'CTG': 5, 'CTC': 9, 'CGA': 3, 'CGT': 2, 'CGG': 35, 'CGC': 11, 'CCA': 4, 'CCT': 4, 'CCG': 7, 'CCC': 5}\n"
     ]
    }
   ],
   "source": [
    "from itertools import product\n",
    "\n",
    "DNA_sequence = \"\"\"CTCAGTCAGGCGCTCAGCTCCGTTTCGGTTTCACTTCCGGTGGAGGGCCGCCTCTGAGCGGGCGGCGGGCCGACGGCGAGCGCGGGCGGCGGCGGTGACGGAGGCGCCGCTGCCAGGGGGCGTGCGGCAGCGCGGCGGCGGCGGCGGCGGCGGCGGCGGCGGAGGCGGCGGCGGCGGCGGCGGCGGCGGCGGCTGGGCCTCGAGCGCCCGCAGCCCACCTCTCGGGGGCGGGCTCCCGGCGCTAGCAGGGCTGAAGAGAAGATGGAGGAGCTGGTGGTGGAAGTGCGGGGCTCCAATGGCGCTTTCTACAAGGTACTTGGCTCTAGGGCAGGCCCCATCTTCGCCCTTCC\"\"\"\n",
    "\n",
    "total_nucleotides = len(DNA_sequence)\n",
    "k = 3\n",
    "kmers = product([\"A\",\"T\",\"G\",\"C\"],repeat = k)\n",
    "kmers = [''.join(k) for k in kmers]\n",
    "\n",
    "results = {}\n",
    "for kmer in kmers:\n",
    "    results[kmer] = DNA_sequence.count(kmer)\n",
    "\n",
    "print(f\"The k-mer profile of our sequence is: {str(results)}\")"
   ]
  },
  {
   "cell_type": "markdown",
   "metadata": {},
   "source": [
    "#### Algorithm: Sliding windows"
   ]
  },
  {
   "cell_type": "code",
   "execution_count": 77,
   "metadata": {},
   "outputs": [
    {
     "name": "stdout",
     "output_type": "stream",
     "text": [
      "Here are the windows with high CG content: [(0, 300), (1, 301), (2, 302), (3, 303), (4, 304), (5, 305), (6, 306), (7, 307), (8, 308), (9, 309), (10, 310), (11, 311), (12, 312), (13, 313), (14, 314), (15, 315), (16, 316), (17, 317), (18, 318), (19, 319), (20, 320), (21, 321), (22, 322), (23, 323), (24, 324), (25, 325), (26, 326), (27, 327), (28, 328), (29, 329), (30, 330), (31, 331), (32, 332), (33, 333), (34, 334), (35, 335), (36, 336), (37, 337), (38, 338), (39, 339), (40, 340), (41, 341), (42, 342), (43, 343), (44, 344), (45, 345), (46, 346), (47, 347), (48, 348), (49, 349), (50, 350), (51, 351), (52, 352), (53, 353), (54, 354), (55, 355), (56, 356), (57, 357), (58, 358), (59, 359), (60, 360), (61, 361), (62, 362), (63, 363), (64, 364), (65, 365), (66, 366), (67, 367), (68, 368), (69, 369), (70, 370), (71, 371), (72, 372), (73, 373), (74, 374), (75, 375), (76, 376), (77, 377), (78, 378), (79, 379), (80, 380), (81, 381), (82, 382), (83, 383), (84, 384), (85, 385), (86, 386), (87, 387), (88, 388), (89, 389), (90, 390), (91, 391), (92, 392), (93, 393), (94, 394), (95, 395), (96, 396), (97, 397), (98, 398), (99, 399), (100, 400), (101, 401), (102, 402), (103, 403), (104, 404), (105, 405), (106, 406), (107, 407), (108, 408), (109, 409), (110, 410), (111, 411), (112, 412), (113, 413), (114, 414), (115, 415), (116, 416), (117, 417), (118, 418), (119, 419), (120, 420), (121, 421), (122, 422), (123, 423), (124, 424), (125, 425), (126, 426), (127, 427), (128, 428), (129, 429), (130, 430), (131, 431), (132, 432), (133, 433), (134, 434), (135, 435), (136, 436), (137, 437), (138, 438), (139, 439), (140, 440), (141, 441), (142, 442), (143, 443), (144, 444), (145, 445), (146, 446), (147, 447), (148, 448), (149, 449), (150, 450), (151, 451), (152, 452), (153, 453), (154, 454), (155, 455), (156, 456), (157, 457), (158, 458), (159, 459), (160, 460), (161, 461), (162, 462), (163, 463), (164, 464), (165, 465), (166, 466), (167, 467), (168, 468), (169, 469), (170, 470), (171, 471), (172, 472), (173, 473), (174, 474), (175, 475), (176, 476), (177, 477), (178, 478), (179, 479), (180, 480), (181, 481), (182, 482), (183, 483), (184, 484), (185, 485), (186, 486), (187, 487), (188, 488), (189, 489), (190, 490), (191, 491), (192, 492), (193, 493), (194, 494), (195, 495), (196, 496), (197, 497), (198, 498), (199, 499), (200, 500), (201, 501), (202, 502), (203, 503), (204, 504), (205, 505), (206, 506), (207, 507), (208, 508), (209, 509), (210, 510), (211, 511), (212, 512), (213, 513), (214, 514), (215, 515), (216, 516), (217, 517), (218, 518), (219, 519), (220, 520), (221, 521), (222, 522), (223, 523), (224, 524), (225, 525), (226, 526), (227, 527), (228, 528), (229, 529), (230, 530), (231, 531), (232, 532), (233, 533), (234, 534), (235, 535), (236, 536), (237, 537), (238, 538), (239, 539), (240, 540), (241, 541), (242, 542), (243, 543), (244, 544), (245, 545), (246, 546), (247, 547), (248, 548), (249, 549), (250, 550), (251, 551), (252, 552), (253, 553), (254, 554), (255, 555), (256, 556), (257, 557), (258, 558), (259, 559), (260, 560), (261, 561), (262, 562), (263, 563), (264, 564), (265, 565), (266, 566), (267, 567), (268, 568), (269, 569), (270, 570), (271, 571), (272, 572), (273, 573), (274, 574), (275, 575), (276, 576), (277, 577), (278, 578), (279, 579), (280, 580), (281, 581), (282, 582), (283, 583), (284, 584), (285, 585), (286, 586), (287, 587), (288, 588), (289, 589), (290, 590), (291, 591), (292, 592), (293, 593), (294, 594), (295, 595), (296, 596), (297, 597), (298, 598), (299, 599), (300, 600), (301, 601), (302, 602), (303, 603), (304, 604), (305, 605), (306, 606), (307, 607), (308, 608), (309, 609), (310, 610), (311, 611), (312, 612), (313, 613), (314, 614), (315, 615), (316, 616), (317, 617), (318, 618), (319, 619), (320, 620)]\n"
     ]
    }
   ],
   "source": [
    "from __future__ import division\n",
    "from random import choice\n",
    "\n",
    "random_seq = ''.join([choice(['A','T','C','G']) for nt in range(10)])\n",
    "cg_rich_seq = ''.join([choice(['CG','CG','GC']) for nt in range(300)])\n",
    "\n",
    "test_seq = random_seq + cg_rich_seq + random_seq\n",
    "\n",
    "\n",
    "def cpg_content(window):\n",
    "    \"\"\"Return the portion of CG dinucleotides in windows\n",
    "    window -- a string of nucleotides\n",
    "    \"\"\"\n",
    "    #divide by two because we are counting dinuc\n",
    "    window_size = len(window)/2.0 \n",
    "    window = window.upper()\n",
    "    total_cgs = window.count('CG')\n",
    "    result =  total_cgs/window_size \n",
    "    return result\n",
    "\n",
    "def find_cpg_island(seq, window_size=300, cg_threshold=0.50):\n",
    "    \"\"\"Returns a list of start & end indices of cg rich region\n",
    "    seq -- a string of DNA nucleotides\n",
    "    window_size -- the size of the window to scan for cg islands\n",
    "    cg_threshold -- proportion of the dinucleotides that must be 'cg'\n",
    "    \"\"\"\n",
    "    #Get sliding windows covering seq\n",
    "    cpg_islands = []\n",
    "    for i in range(len(seq)):\n",
    "        #Get current window\n",
    "        start = i\n",
    "        end = i+window_size\n",
    "        window = seq[start:end]\n",
    "\n",
    "        if len(window) < window_size:\n",
    "            continue\n",
    "\n",
    "        curr_cpg_content = cpg_content(window)\n",
    "        if curr_cpg_content >= cg_threshold:\n",
    "            start = i\n",
    "            end = i+window_size\n",
    "            cpg_islands.append((start,end))\n",
    "    \n",
    "    return cpg_islands\n",
    "        \n",
    "\n",
    "islands = find_cpg_island(test_seq)\n",
    "print(\"Here are the windows with high CG content:\",islands)"
   ]
  },
  {
   "cell_type": "markdown",
   "metadata": {},
   "source": [
    "#### Statistics: Probabilistic models of biological sequences\n",
    "\n",
    "**Modeling sequences with equal base frequency**\n",
    "\n",
    "**Finding EcoR1 cut sites**\n",
    "The restriction enzyme EcoR1 recognizes the short palindromic sequence GAATTC\n",
    "and cuts DNA where it is found.\n",
    "\n",
    "Let’s say we have a genome with equal frequencies of A,T,G and C. \n",
    "\n",
    "What is the probability that a given 6 nt sequence in that genome will be an EcoR1\n",
    "Restriction site?\n",
    "\n",
    "\n",
    "For a 1million bp genome with equal base frequencies,\n",
    " how many pieces on average would EcoR1 cut it into?\n",
    "\n",
    "(You may assume each nucleotide is a random independent event as an approximation)\n",
    "\n",
    "\n",
    "**Modeling sequences with unequal base frequency**\n",
    "\n",
    "**Markov Models**\n",
    "\n"
   ]
  },
  {
   "cell_type": "code",
   "execution_count": null,
   "metadata": {},
   "outputs": [],
   "source": []
  }
 ],
 "metadata": {
  "kernelspec": {
   "display_name": "Python 3",
   "language": "python",
   "name": "python3"
  },
  "language_info": {
   "codemirror_mode": {
    "name": "ipython",
    "version": 3
   },
   "file_extension": ".py",
   "mimetype": "text/x-python",
   "name": "python",
   "nbconvert_exporter": "python",
   "pygments_lexer": "ipython3",
   "version": "3.7.2"
  }
 },
 "nbformat": 4,
 "nbformat_minor": 2
}
