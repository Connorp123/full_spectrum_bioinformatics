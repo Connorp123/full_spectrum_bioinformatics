{
 "cells": [
  {
   "cell_type": "markdown",
   "metadata": {},
   "source": [
    "# Foreword "
   ]
  },
  {
   "cell_type": "markdown",
   "metadata": {},
   "source": [
    "### About the text \n",
    "\n",
    "Bioinformatics is an extremely broad field, covering everything from biophysical simulations  of cell membranes to analysis of DNA sequencing data. The people who use bioinformatics in their work are similarly diverse, hailing from across a broad spectrum of backgrounds, identities and disciplinary perspectives. \n",
    "\n",
    "This text emerged from many years of consulting with friends, colleagues, and students as they learned and applied bioinformatic approaches to answer questions that were important to them. Through these interactions I began to notice many common patterns in projects in very different areas. I wanted a text that would capture those common patterns in representative examples. \n",
    "\n",
    "Here are some of the features of the text that I hope you'll find useful:\n",
    "\n",
    "- Full Spectrum Bioinformatics is a free, interactive online textbook\n",
    "- The text is designed to support both biologists who are new to computational methods, and computer scientists who are new to biology.\n",
    "- You can modify and run all the code examples in the text\n",
    "- The book is designed to cover not just the technical aspects of bioinformatics, but also the full life-cycle of a bioinformatic project, from background research up through a summary of results in a research presentation or scientific publication.\n",
    "- Exercises - from a Commandline Treasure Hunt to Microbiome Change Scenarios - explore  topics interactively.\n",
    "- Bioinformatics Vignettes capture specific self-contained examples of how diverse students have applied the core topics in the book to answer questions that interested them.\n",
    " \n",
    "\n",
    "#### What the text is and isn't\n",
    "\n",
    "The text is intended to be a slim introduction to the study of bioinformatics. As such, it is far from encyclopedic. Indeed, bioinformatics is so broad that there are large fields of study that must necessarily be left out if the text is to be kept to a readable length.\n",
    "\n",
    "So this isn't a reference work. Instead, it is intended as a course of study to help readers develop enough understanding of fundamental topics in bioinformatics to begin learning on their own about new techniques that arise. Throughout the text, I have tried to identify the core methods, concepts and strategies that are most broadly useful on a wide variety of problems. \n",
    "\n",
    "I also wanted the text to explicitly cover 'soft' skills and background knowledge that are often omitted from bioinformatics texts. These include:\n",
    "\n",
    "- guidance for how to develop good bioinformatic research questions \n",
    "- methods for rapidly gaining familiarity with a body of scientific literature\n",
    "- coding techniques for writing clear, re-usable, and well-tested code\n",
    "- suggestions for sharing data, code and results in a research team\n",
    "- a basic overview of the process of scientific publishing\n",
    "- templates for converting your technical results into a scientific manuscript\n",
    "\n"
   ]
  },
  {
   "cell_type": "markdown",
   "metadata": {},
   "source": [
    "### Why learning computational methods benefits biologists\n",
    "\n",
    "Imagine being told in great detail various techniques and strategies for American football, but never stepping out onto the field to practice them. Or, if you prefer, imagine a similar situation for knitting, learning to speak French, or social dance. In any of these situations, you might have some theoretical ideas about the merits of a hurry-up offence (or how to knit brioche or conjugate an -er verb or lead an outside turn), but I for one would be very uncomfotable with my ability to do any of those things unless I had practiced it A LOT.\n",
    "\n",
    "A similar situation emerges in biology education. Many classes discuss the scientific method and the importance of forming testable hypotheses, but when it comes time to actually write down such a hypothesis for a real research project, many students struggle. A class in evolution may cover the general principles of phylogenetics, but when it comes time to actually infer one from sequence data, it may be a challenge to know how specifically to do that. Similarly, a class in statistics or data visualization may cover the merits of various types of graphs, but may not always provide a straightforward way to easily make them using your own data. The danger here is that knowledge that is too difficult to apply in practice simply doesn't get used, and therefore doesn't benefit your research.\n",
    "\n",
    "Computational methods represent a key way to apply in practice many of the ideas you may have learned about in your study of biology.  \n",
    "\n",
    "This book emphasizes two key skills will help you as a biologist take control of your own research: learning to use commandline tools, and learning to write your own simple scripts in the python programming language. In combination, these skills will open a world of possibilities for any future research that you do. For large or complex data sets, they may be essential. They will also serve as a great foundation for any other learning in this area you want to do in the future. For example, if you decide you want to learn a different programming language in the future, you will see many similarities that make that process much easier the second time around.\n",
    "\n",
    "The main reason that many biologists don't learn these skills is that getting started can be intimidating. Is can be tempting to just find a web tool or software with a graphical user interface to do the task you need to do. This is a very good solution in the very short term (e.g. for the talk you're giving next week). However, if you have a bit more time to invest, learning some of these fundamental skills will quickly become a much more efficient way to handle all kinds of common tasks in biology.\n",
    "\n",
    "Part of the goal of this book is to help readers over the intial hurdle of starting to use command line tools and coding in their research. Many students - at all levels - find that once they have overcome this initial hurdle, bioinformatics becomes incredibly fun and powerful. \n",
    "\n",
    "Some of the advantages to using computational methods in biology include:\n",
    "\n",
    "- Improved career prospects\n",
    "- Less time wasted on repetitive tasks \n",
    "- Ability to create custom analyses and visualizations that fit your project\n",
    "- Research that is more reproducible (meaning that it is much easier to 'show your work' by documenting the exact steps you took to go from data to results)\n",
    "- More efficient learning, since time spent learning core computational methods will benefit your work in nearly any area of biology.\n",
    "- Improved confidence with statistics by using simulations.\n",
    "- A greater ability to work in teams with colleagues trained in statistics or computer science"
   ]
  },
  {
   "cell_type": "markdown",
   "metadata": {},
   "source": [
    "### Why bioinformatics is an exciting domain for computer scientists\n",
    "\n",
    "For computer scientists, bioinformatics is an interesting domain because the quanitity of available data has increased greatly in recent decades, while the answers to the problems you address can have important implications for human health and environmental conservation. For many computer scientists, however, there is a large gulf between learning coding techniques and algorithms in simple examples or synthetic datasets, and applying those methods to answer real questions about sometimes messy data. \n",
    "\n",
    "Experience judging what questions an exciting new technique can and can't answer is essential for many real-world applications of computer science. From the point of view of biologists working with computer scientists, a key divide is between those folks that understand how to apply computer science methods to solve research problems, vs. those who only understand these topics in an isolated sense.\n",
    "\n",
    "Some of the advantages to working on applied bioinformatic problems for computer scientists include:\n",
    "\n",
    "- The work you do developing software or algorithms may uncover new scientific knowledge.\n",
    "- Specific projects that demonstrate your ability to apply computational methods to solving open-ended, real-world problems are an excellent thing to be able to talk about during interviews.\n",
    "- A greater ability to work in interdisciplinary teams with biologists, biochemists or clinicians."
   ]
  },
  {
   "cell_type": "markdown",
   "metadata": {},
   "source": [
    "### How to work with the text \n",
    "\n",
    "The text is not designed to be read cover to cover. Instead, the intent is that in each section you read a little, and then try applying the ideas covered using some of the examples. Once that feels comfortable, you can try applying them in your own projects.\n",
    "\n",
    "Just like when you are learning a language, practice is key. \n",
    "\n",
    "One of the key hurdles for early on is to set up your computer with an appropriate environment to do bioinformatics research. It may be tempting (especially for biologists) to skip that section for later, but it is *essential* that you get set up as quickly as possible so you can try things out for yourself. \n",
    "\n",
    "If you have trouble with that initial setup, get in touch with a computationally-savvy instructor, colleague or friend as quickly as possible. You will find that actually coding in python is a lot of fun once you get things rolling. \n",
    "\n"
   ]
  }
 ],
 "metadata": {
  "kernelspec": {
   "display_name": "Python 3",
   "language": "python",
   "name": "python3"
  },
  "language_info": {
   "codemirror_mode": {
    "name": "ipython",
    "version": 3
   },
   "file_extension": ".py",
   "mimetype": "text/x-python",
   "name": "python",
   "nbconvert_exporter": "python",
   "pygments_lexer": "ipython3",
   "version": "3.7.2"
  }
 },
 "nbformat": 4,
 "nbformat_minor": 2
}
