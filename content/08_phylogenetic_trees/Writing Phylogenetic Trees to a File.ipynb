{
 "cells": [
  {
   "cell_type": "markdown",
   "metadata": {},
   "source": [
    "## Reading and Writing Tree Objects to Files\n",
    "\n",
    "#### The Newick format\n",
    "\n",
    "[TODO]\n",
    "\n",
    "\n",
    "\n"
   ]
  },
  {
   "cell_type": "markdown",
   "metadata": {},
   "source": [
    "#### Exporting a tree to a Newick string"
   ]
  },
  {
   "cell_type": "code",
   "execution_count": 1,
   "metadata": {},
   "outputs": [],
   "source": [
    "from random import choice,random\n",
    "from copy import deepcopy\n",
    "\n",
    "class PhyloNode():\n",
    "    \"\"\"A node on a phylogenetic tree\"\"\"\n",
    "\n",
    "    def __init__(self,children=None,parent=None,\\\n",
    "      name = None):\n",
    "      \"\"\"Initiate a node on a phylogenetic tree\n",
    "      children -- a list of PhyloNode objects\n",
    "        descending immediately from this node\n",
    "      name -- a string for the name of the node\n",
    "      parent -- a single PhyloNode object for the parent\n",
    "      \"\"\"\n",
    "      self.Name = name\n",
    "      self.Children = []\n",
    "      if children:\n",
    "        self.Children.extend(children)\n",
    "      self.Parent = parent\n",
    "      self.Extinct = False\n",
    "\n",
    "    def isTip(self):\n",
    "      \"\"\"Return True if the node is a tip\"\"\"\n",
    "      if not self.Children: #capture None or []\n",
    "        return True\n",
    "      else:\n",
    "        return False\n",
    "\n",
    "    def isRoot(self):\n",
    "      \"\"\"Return True if the node is the root of the whole tree\"\"\"\n",
    "      if not self.Parent:\n",
    "        return True\n",
    "      else:\n",
    "        return False\n",
    "\n",
    "    def getDescendants(self):\n",
    "        \"\"\"Return a list of PhyloNodes descending from the current node\"\"\"\n",
    "\n",
    "        if self.isTip():\n",
    "            print(self.Name,\" is a tip ... returning []\")\n",
    "            return []\n",
    "\n",
    "        descendants = self.Children or []\n",
    "        for c in self.Children:\n",
    "            #The set of descendants is described\n",
    "            #by the descendants of all the nodes\n",
    "            #immediate children.\n",
    "            if not c.isTip():\n",
    "                child_descendants = c.getDescendants()\n",
    "                descendants.extend([c for c in child_descendants if c not in descendants])\n",
    "\n",
    "            #Side note: this will fail on enormous trees\n",
    "            #due to the recursion limit. Not normally a problem though.\n",
    "        return descendants\n",
    "\n",
    "    def getAncestors(self):\n",
    "        \"\"\"Return the ancestors of the given node\"\"\"\n",
    "        if self.isRoot():\n",
    "            return None\n",
    "\n",
    "        ancestors = [self.Parent]\n",
    "        parents_ancestors = self.Parent.getAncestors()\n",
    "        if parents_ancestors:\n",
    "            ancestors.extend(parents_ancestors)\n",
    "        return ancestors\n",
    "    \n",
    "    def addChild(self,child):\n",
    "        \"\"\"Attach a child node\"\"\"\n",
    "        if child not in self.Children:\n",
    "            self.Children.append(child)\n",
    "        child.Parent = self\n",
    " \n",
    "    def addParent(self,parent):\n",
    "        \"\"\"Attach a parent node\"\"\"\n",
    "        self.Parent = parent\n",
    "        parent.Children.append(self)\n",
    "    "
   ]
  },
  {
   "cell_type": "markdown",
   "metadata": {},
   "source": [
    "#### Reading in a Newick string and building a tree\n",
    "\n"
   ]
  },
  {
   "cell_type": "code",
   "execution_count": null,
   "metadata": {},
   "outputs": [],
   "source": []
  }
 ],
 "metadata": {
  "kernelspec": {
   "display_name": "Python 3",
   "language": "python",
   "name": "python3"
  },
  "language_info": {
   "codemirror_mode": {
    "name": "ipython",
    "version": 3
   },
   "file_extension": ".py",
   "mimetype": "text/x-python",
   "name": "python",
   "nbconvert_exporter": "python",
   "pygments_lexer": "ipython3",
   "version": "3.7.2"
  }
 },
 "nbformat": 4,
 "nbformat_minor": 2
}
