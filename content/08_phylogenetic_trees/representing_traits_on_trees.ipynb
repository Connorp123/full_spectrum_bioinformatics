{
 "cells": [
  {
   "cell_type": "markdown",
   "metadata": {},
   "source": [
    "## Representing Traits on Trees\n",
    "\n",
    "Now that we have a handle on phylogenetic trees and an idea of how to represent them, we can add in traits to those trees."
   ]
  },
  {
   "cell_type": "markdown",
   "metadata": {},
   "source": [
    "## Species can share traits due to homology or convergence\n",
    "\n",
    "When species share a trait due to inheritance from a common ancestor, that is called **homology** and the shared trait is called a **homologous trait**. When species instead share a trait because it evolved more than once on the tree, that is called **convergent evolution** and the shared trait is known as a **homoplasy**. \n",
    "\n",
    "An example of homologous traits vs. convergently evolved traits is shown below:\n",
    "\n",
    "<figure caption-side=\"bottom\">\n",
    "<img src=\"./resources/homology_vs_convergence.png\" width=\"500\" style=\"margin:5px 25px\" description=\"A tree showing a homologous trait arising in an ancestor and being inherited by several of its descendants, and another tree showing the same trait evolving separately in two totally different parts of the tree.\" > \n",
    "<figcaption align=\"left\"><b>Fig. 1</b> - Homologous vs. convergently evolved traits. <br></figcaption>\n",
    "</figure>\n",
    "\n",
    "\n",
    "Whether a particular traits is a homologous trait or a homoplasy depends on the tree. Indeed, modern methods for inferring trees test millions of possible trees to find the ones that do the best job of explaining as many shared traits as possible by homology."
   ]
  },
  {
   "cell_type": "markdown",
   "metadata": {},
   "source": [
    "## Applications of trees with traits\n",
    "\n",
    "Trees that have trait information associated with them have many applications.\n",
    "\n",
    "## Ancestral State Reconstruction\n",
    "\n",
    "The goal of ancestral state reconstruction (ASR) is to determine the traits of ancestral organisms by comparative analysis of modern organisms. More formally, given annotations for the traits of tip nodes, ancestral state reconstruction attempts to reconstruct the traits at internal nodes.\n",
    "\n",
    "\n",
    "#### The Fitch Parsimony algorithm for Ancestral State Reconstruction.\n",
    "\n",
    "The Fitch Parsimony algorithm is designed to find a most parsimonious ancestral state reconstruction for ancestral character states.\n",
    "\n",
    "\n"
   ]
  },
  {
   "cell_type": "markdown",
   "metadata": {},
   "source": [
    "##### Review of set unions and intersections\n",
    "\n",
    "[TODO]\n",
    "\n",
    "##### Implementing Fitch Parsimony in Python\n",
    "\n",
    "[TODO]\n",
    "\n",
    "##### Preorder and postorder traversals\n",
    "\n",
    "To execute the Fitch Parsimony algorithm we'll have to have a way to visit all the nodes on the tree. Unlike something linear like a list, there are [several different reasonable ways](https://www.geeksforgeeks.org/tree-traversals-inorder-preorder-and-postorder/) to visit all the nodes in the tree:\n",
    "* one might start at the root and work upwards, visiting more ancestral nodes first and only visiting descendant nodes when all their ancestors hvae been visited (preorder traversal)\n",
    "* one might start at the tips, and only visit ancestral nodes after all their descendants have been visited (postorder traversal).\n",
    "\n",
    "\n",
    "\n",
    "\n",
    "#### Trait prediction\n",
    "\n",
    "[TODO]"
   ]
  },
  {
   "cell_type": "markdown",
   "metadata": {},
   "source": [
    "## Molecular Clock Analysis"
   ]
  },
  {
   "cell_type": "markdown",
   "metadata": {},
   "source": [
    "Molecular clock analysis uses the rate at which traits change over time as a sort of clock. For example, we might expect that if we compare the same snippet of DNA across many species, a pair of species that are 99% similar in DNA sequence in that gene probably diverged much more recently than a pair that are only 76% similar. However, such methods must be careful to account for several factors. \n",
    "\n",
    "First, some changes in DNA sequence will be hidden. For example, imagine a given nucleotide mutated from A to T and then, some years later, back from T to A. This was two changes in the DNA sequence, but a later comparative analysis would see 0 changes! For similar reasons, even two random sequences with equal base frequencies will appear to share 25% sequence identity. \n",
    "\n",
    "A second point where caution is warrented is that the rate of evolution may change in different parts of the tree. For example, if a mutation renders the proof-reading machinery that tries to correct mutations more or less strict, it can decrease or increase the mutation rate in that part of the tree. **Relaxed molecular clocks** try to account for this by allowing different rates of evolution to occur in different parts of the tree."
   ]
  },
  {
   "cell_type": "markdown",
   "metadata": {},
   "source": [
    "## Implementing a simple molecular clock in python\n",
    "\n",
    "Given a set of divergence times, a tree, and a set of sequences we will write code that tries to calibrate a simple molecular clock that can then be used to estimate the divergence times for new species pairs.\n",
    "\n",
    "[TODO]"
   ]
  },
  {
   "cell_type": "markdown",
   "metadata": {},
   "source": [
    "## Exercises\n",
    "\n",
    "**Exercise 1.** Build the tree illustrating homology and convergence shown at the top of this section using PhyloNode objects with traits. Test that the traits are on the right nodes.\n",
    "\n",
    "**Exercise 2.** Write an isHomologous method for the PhyloNode class that tests if a given trait is homologous between two species. Test it on the tree from Exercise 1 and see if you get the expected result. *Hint*: if a trait is homologous between two species, then it implies the trait evolved before the species diverged into separate lineages. Therefore,  all the shared ancestors of those two species should have the trait.\n",
    "\n",
    "**Exercise 3.** Why must we use postorder rather than preorder traversal when performing the Fitch Parsimony downpass?\n"
   ]
  },
  {
   "cell_type": "markdown",
   "metadata": {},
   "source": [
    "## Further Reading\n",
    "\n",
    "[1] [\"Tree Traversals (inorder,preorder and postorder)\"](https://www.geeksforgeeks.org/tree-traversals-inorder-preorder-and-postorder/). Geeks for Geeks (Contributed by: danielbritten & andrew1234), "
   ]
  }
 ],
 "metadata": {
  "kernelspec": {
   "display_name": "Python 3",
   "language": "python",
   "name": "python3"
  },
  "language_info": {
   "codemirror_mode": {
    "name": "ipython",
    "version": 3
   },
   "file_extension": ".py",
   "mimetype": "text/x-python",
   "name": "python",
   "nbconvert_exporter": "python",
   "pygments_lexer": "ipython3",
   "version": "3.7.2"
  }
 },
 "nbformat": 4,
 "nbformat_minor": 2
}
